{
 "cells": [
  {
   "cell_type": "markdown",
   "metadata": {
    "vscode": {
     "languageId": "raw"
    }
   },
   "source": [
    "# Final Project"
   ]
  },
  {
   "cell_type": "markdown",
   "metadata": {},
   "source": [
    "## Available Assets for Portfolio Optimization\n",
    "Here is a list of the available assets to consider in the portfolio:\n",
    "\n",
    "<table>\n",
    "  <thead>\n",
    "    <tr>\n",
    "      <th>Fund Name</th>\n",
    "      <th>Ticker</th>\n",
    "      <th>Inception Date</th>\n",
    "    </tr>\n",
    "  </thead>\n",
    "  <tbody>\n",
    "    <tr>\n",
    "      <td>JPMorgan Equity Income Fund - Class R6</td>\n",
    "      <td><a href=\"https://finance.yahoo.com/quote/OIEJX/history/\" target=\"_blank\">OIEJX</a></td>\n",
    "      <td>Jan 31, 2012</td>\n",
    "    </tr>\n",
    "    <tr>\n",
    "      <td>State Street Equity 500 Index K</td>\n",
    "      <td><a href=\"https://finance.yahoo.com/quote/SSSYX/history/\" target=\"_blank\">SSSYX</a></td>\n",
    "      <td>Sep 18, 2014</td>\n",
    "    </tr>\n",
    "    <tr>\n",
    "      <td>T. Rowe Price Dividend Growth</td>\n",
    "      <td><a href=\"https://finance.yahoo.com/quote/PRDGX/history/\" target=\"_blank\">PRDGX</a></td>\n",
    "      <td>Dec 31, 1992</td>\n",
    "    </tr>\n",
    "    <tr>\n",
    "      <td>American Funds Growth Fund of Amer R6</td>\n",
    "      <td><a href=\"https://finance.yahoo.com/quote/RGAGX/history/\" target=\"_blank\">RGAGX</a></td>\n",
    "      <td>May 1, 2009</td>\n",
    "    </tr>\n",
    "    <tr>\n",
    "      <td>Vanguard Mid Cap Index Admiral</td>\n",
    "      <td><a href=\"https://finance.yahoo.com/quote/VIMAX/history/\" target=\"_blank\">VIMAX</a></td>\n",
    "      <td>Nov 12, 2001</td>\n",
    "    </tr>\n",
    "    <tr>\n",
    "      <td>Vanguard Small Cap Value Index Admiral</td>\n",
    "      <td><a href=\"https://finance.yahoo.com/quote/VSIAX/history/\" target=\"_blank\">VSIAX</a></td>\n",
    "      <td>Sep 27, 2011</td>\n",
    "    </tr>\n",
    "  </tbody>\n",
    "</table>\n",
    "\n",
    "Historical data for these assets can be found on [Yahoo Finance website](https://finance.yahoo.com)\n",
    "\n",
    "Since the portfolio optimization problem requires grouping the time series of each asset into matrix $R$, they must be considered during the same periods. For this reason, only returns starting from the most restrictive case are considered, i.e., **from Sep 18, 2014 until Aug 27, 2025**.\n",
    "\n",
    "Data sources:\n",
    "<table>\n",
    "  <thead>\n",
    "    <tr>\n",
    "      <th>Ticker</th>\n",
    "    </tr>\n",
    "  </thead>\n",
    "  <tbody>\n",
    "    <tr>\n",
    "      <td><a href=\"https://finance.yahoo.com/quote/OIEJX/history/?period1=1410998400&period2=1756339200\" target=\"_blank\">OIEJX</a></td>\n",
    "    </tr>\n",
    "    <tr>\n",
    "      <td><a href=\"https://finance.yahoo.com/quote/SSSYX/history/?period1=1410998400&period2=1756339200\" target=\"_blank\">SSSYX</a></td>\n",
    "    </tr>\n",
    "    <tr>\n",
    "      <td><a href=\"https://finance.yahoo.com/quote/PRDGX/history/?period1=1410998400&period2=1756339200\" target=\"_blank\">PRDGX</a></td>\n",
    "    </tr>\n",
    "    <tr>\n",
    "      <td><a href=\"https://finance.yahoo.com/quote/RGAGX/history/?period1=1410998400&period2=1756339200\" target=\"_blank\">RGAGX</a></td>\n",
    "    </tr>\n",
    "    <tr>\n",
    "      <td><a href=\"https://finance.yahoo.com/quote/VIMAX/history/?period1=1410998400&period2=1756339200\" target=\"_blank\">VIMAX</a></td>\n",
    "    </tr>\n",
    "    <tr>\n",
    "      <td><a href=\"https://finance.yahoo.com/quote/VSIAX/history/?period1=1410998400&period2=1756339200\" target=\"_blank\">VSIAX</a></td>\n",
    "    </tr>\n",
    "  </tbody>\n",
    "</table>\n",
    "\n",
    "The service is behind a paywall since early 2025, but data is still accessible inspecting the html elements of the page."
   ]
  },
  {
   "cell_type": "code",
   "execution_count": 1,
   "metadata": {},
   "outputs": [],
   "source": [
    "# Import necessary libraries\n",
    "import os\n",
    "import requests\n",
    "from bs4 import BeautifulSoup\n",
    "import numpy as np\n",
    "import pandas as pd\n",
    "import cvxpy as cp\n",
    "import plotly.graph_objects as go"
   ]
  },
  {
   "cell_type": "markdown",
   "metadata": {},
   "source": [
    "## Ingestion"
   ]
  },
  {
   "cell_type": "code",
   "execution_count": 2,
   "metadata": {},
   "outputs": [],
   "source": [
    "def load_html_to_df(html_file):\n",
    "    \"\"\"\n",
    "    Reads a Yahoo Finance HTML file and returns a cleaned pandas DataFrame.\n",
    "    The columns (except 'date') are automatically prefixed with the file name.\n",
    "    \"\"\"\n",
    "    with open(html_file, 'r') as file:\n",
    "        html_content = file.read()\n",
    "\n",
    "    soup = BeautifulSoup(html_content, 'lxml')\n",
    "    table_rows = soup.find_all('tr')\n",
    "\n",
    "    data = []\n",
    "    for row in table_rows:\n",
    "        row_data = [cell.text.strip() for cell in row.find_all(['td', 'th'])]\n",
    "        if row_data:\n",
    "            data.append(row_data)\n",
    "\n",
    "    columns = ['date', 'open', 'high', 'low', 'close', 'adj_close', 'volume']\n",
    "    df = pd.DataFrame(data, columns=columns)\n",
    "    df['date'] = pd.to_datetime(df['date'])\n",
    "\n",
    "    prefix = os.path.splitext(os.path.basename(html_file))[0]\n",
    "    # Rename columns except 'date' by prefixing with the file name\n",
    "    df.columns = ['date'] + [f\"{prefix}_{col}\" for col in columns[1:]]\n",
    "\n",
    "    for col in df.columns[1:]:\n",
    "        df[col] = pd.to_numeric(df[col], errors='coerce', downcast='float')\n",
    "    df = df.sort_values('date', ascending=True).reset_index(drop=True)\n",
    "    \n",
    "    return df"
   ]
  },
  {
   "cell_type": "code",
   "execution_count": 3,
   "metadata": {},
   "outputs": [],
   "source": [
    "oiejx = load_html_to_df('../data/oiejx.html')\n",
    "sssyx = load_html_to_df('../data/sssyx.html')\n",
    "prdgx = load_html_to_df('../data/prdgx.html')\n",
    "rgagx = load_html_to_df('../data/rgagx.html')\n",
    "vimax = load_html_to_df('../data/vimax.html')\n",
    "vsiax = load_html_to_df('../data/vsiax.html')"
   ]
  },
  {
   "cell_type": "markdown",
   "metadata": {},
   "source": [
    "## Exploratory Data Analysis"
   ]
  },
  {
   "cell_type": "code",
   "execution_count": 4,
   "metadata": {},
   "outputs": [
    {
     "data": {
      "text/html": [
       "<div>\n",
       "<style scoped>\n",
       "    .dataframe tbody tr th:only-of-type {\n",
       "        vertical-align: middle;\n",
       "    }\n",
       "\n",
       "    .dataframe tbody tr th {\n",
       "        vertical-align: top;\n",
       "    }\n",
       "\n",
       "    .dataframe thead th {\n",
       "        text-align: right;\n",
       "    }\n",
       "</style>\n",
       "<table border=\"1\" class=\"dataframe\">\n",
       "  <thead>\n",
       "    <tr style=\"text-align: right;\">\n",
       "      <th></th>\n",
       "      <th>date</th>\n",
       "      <th>sssyx_open</th>\n",
       "      <th>sssyx_high</th>\n",
       "      <th>sssyx_low</th>\n",
       "      <th>sssyx_close</th>\n",
       "      <th>sssyx_adj_close</th>\n",
       "      <th>sssyx_volume</th>\n",
       "    </tr>\n",
       "  </thead>\n",
       "  <tbody>\n",
       "    <tr>\n",
       "      <th>0</th>\n",
       "      <td>2014-09-18</td>\n",
       "      <td>170.899994</td>\n",
       "      <td>170.899994</td>\n",
       "      <td>170.899994</td>\n",
       "      <td>170.899994</td>\n",
       "      <td>126.000000</td>\n",
       "      <td>NaN</td>\n",
       "    </tr>\n",
       "    <tr>\n",
       "      <th>1</th>\n",
       "      <td>2014-09-19</td>\n",
       "      <td>170.800003</td>\n",
       "      <td>170.800003</td>\n",
       "      <td>170.800003</td>\n",
       "      <td>170.800003</td>\n",
       "      <td>125.930000</td>\n",
       "      <td>NaN</td>\n",
       "    </tr>\n",
       "    <tr>\n",
       "      <th>2</th>\n",
       "      <td>2014-09-22</td>\n",
       "      <td>169.399994</td>\n",
       "      <td>169.399994</td>\n",
       "      <td>169.399994</td>\n",
       "      <td>169.399994</td>\n",
       "      <td>124.900002</td>\n",
       "      <td>NaN</td>\n",
       "    </tr>\n",
       "    <tr>\n",
       "      <th>3</th>\n",
       "      <td>2014-09-23</td>\n",
       "      <td>168.500000</td>\n",
       "      <td>168.500000</td>\n",
       "      <td>168.500000</td>\n",
       "      <td>168.500000</td>\n",
       "      <td>124.230003</td>\n",
       "      <td>NaN</td>\n",
       "    </tr>\n",
       "    <tr>\n",
       "      <th>4</th>\n",
       "      <td>2014-09-24</td>\n",
       "      <td>169.800003</td>\n",
       "      <td>169.800003</td>\n",
       "      <td>169.800003</td>\n",
       "      <td>169.800003</td>\n",
       "      <td>125.190002</td>\n",
       "      <td>NaN</td>\n",
       "    </tr>\n",
       "    <tr>\n",
       "      <th>...</th>\n",
       "      <td>...</td>\n",
       "      <td>...</td>\n",
       "      <td>...</td>\n",
       "      <td>...</td>\n",
       "      <td>...</td>\n",
       "      <td>...</td>\n",
       "      <td>...</td>\n",
       "    </tr>\n",
       "    <tr>\n",
       "      <th>2766</th>\n",
       "      <td>2025-08-21</td>\n",
       "      <td>479.130005</td>\n",
       "      <td>479.130005</td>\n",
       "      <td>479.130005</td>\n",
       "      <td>479.130005</td>\n",
       "      <td>479.130005</td>\n",
       "      <td>NaN</td>\n",
       "    </tr>\n",
       "    <tr>\n",
       "      <th>2767</th>\n",
       "      <td>2025-08-22</td>\n",
       "      <td>486.440002</td>\n",
       "      <td>486.440002</td>\n",
       "      <td>486.440002</td>\n",
       "      <td>486.440002</td>\n",
       "      <td>486.440002</td>\n",
       "      <td>NaN</td>\n",
       "    </tr>\n",
       "    <tr>\n",
       "      <th>2768</th>\n",
       "      <td>2025-08-25</td>\n",
       "      <td>484.369995</td>\n",
       "      <td>484.369995</td>\n",
       "      <td>484.369995</td>\n",
       "      <td>484.369995</td>\n",
       "      <td>484.369995</td>\n",
       "      <td>NaN</td>\n",
       "    </tr>\n",
       "    <tr>\n",
       "      <th>2769</th>\n",
       "      <td>2025-08-26</td>\n",
       "      <td>486.399994</td>\n",
       "      <td>486.399994</td>\n",
       "      <td>486.399994</td>\n",
       "      <td>486.399994</td>\n",
       "      <td>486.399994</td>\n",
       "      <td>NaN</td>\n",
       "    </tr>\n",
       "    <tr>\n",
       "      <th>2770</th>\n",
       "      <td>2025-08-27</td>\n",
       "      <td>487.559998</td>\n",
       "      <td>487.559998</td>\n",
       "      <td>487.559998</td>\n",
       "      <td>487.559998</td>\n",
       "      <td>487.559998</td>\n",
       "      <td>NaN</td>\n",
       "    </tr>\n",
       "  </tbody>\n",
       "</table>\n",
       "<p>2771 rows × 7 columns</p>\n",
       "</div>"
      ],
      "text/plain": [
       "           date  sssyx_open  sssyx_high   sssyx_low  sssyx_close  \\\n",
       "0    2014-09-18  170.899994  170.899994  170.899994   170.899994   \n",
       "1    2014-09-19  170.800003  170.800003  170.800003   170.800003   \n",
       "2    2014-09-22  169.399994  169.399994  169.399994   169.399994   \n",
       "3    2014-09-23  168.500000  168.500000  168.500000   168.500000   \n",
       "4    2014-09-24  169.800003  169.800003  169.800003   169.800003   \n",
       "...         ...         ...         ...         ...          ...   \n",
       "2766 2025-08-21  479.130005  479.130005  479.130005   479.130005   \n",
       "2767 2025-08-22  486.440002  486.440002  486.440002   486.440002   \n",
       "2768 2025-08-25  484.369995  484.369995  484.369995   484.369995   \n",
       "2769 2025-08-26  486.399994  486.399994  486.399994   486.399994   \n",
       "2770 2025-08-27  487.559998  487.559998  487.559998   487.559998   \n",
       "\n",
       "      sssyx_adj_close  sssyx_volume  \n",
       "0          126.000000           NaN  \n",
       "1          125.930000           NaN  \n",
       "2          124.900002           NaN  \n",
       "3          124.230003           NaN  \n",
       "4          125.190002           NaN  \n",
       "...               ...           ...  \n",
       "2766       479.130005           NaN  \n",
       "2767       486.440002           NaN  \n",
       "2768       484.369995           NaN  \n",
       "2769       486.399994           NaN  \n",
       "2770       487.559998           NaN  \n",
       "\n",
       "[2771 rows x 7 columns]"
      ]
     },
     "execution_count": 4,
     "metadata": {},
     "output_type": "execute_result"
    }
   ],
   "source": [
    "sssyx"
   ]
  },
  {
   "cell_type": "markdown",
   "metadata": {},
   "source": [
    "We can see that all columns are actually the same value. This is because mutual funds are priced once per day at their net asset value (NAV), not traded during the day like stocks. Since there’s only one price, data providers copy the NAV into all fields (open, high, low, close, adj close), and volume is usually zero or blank."
   ]
  },
  {
   "cell_type": "code",
   "execution_count": 5,
   "metadata": {},
   "outputs": [
    {
     "name": "stdout",
     "output_type": "stream",
     "text": [
      "<class 'pandas.core.frame.DataFrame'>\n",
      "RangeIndex: 2771 entries, 0 to 2770\n",
      "Data columns (total 7 columns):\n",
      " #   Column           Non-Null Count  Dtype         \n",
      "---  ------           --------------  -----         \n",
      " 0   date             2771 non-null   datetime64[ns]\n",
      " 1   sssyx_open       2752 non-null   float32       \n",
      " 2   sssyx_high       2752 non-null   float32       \n",
      " 3   sssyx_low        2752 non-null   float32       \n",
      " 4   sssyx_close      2752 non-null   float32       \n",
      " 5   sssyx_adj_close  2752 non-null   float32       \n",
      " 6   sssyx_volume     0 non-null      float32       \n",
      "dtypes: datetime64[ns](1), float32(6)\n",
      "memory usage: 86.7 KB\n"
     ]
    },
    {
     "data": {
      "text/html": [
       "<div>\n",
       "<style scoped>\n",
       "    .dataframe tbody tr th:only-of-type {\n",
       "        vertical-align: middle;\n",
       "    }\n",
       "\n",
       "    .dataframe tbody tr th {\n",
       "        vertical-align: top;\n",
       "    }\n",
       "\n",
       "    .dataframe thead th {\n",
       "        text-align: right;\n",
       "    }\n",
       "</style>\n",
       "<table border=\"1\" class=\"dataframe\">\n",
       "  <thead>\n",
       "    <tr style=\"text-align: right;\">\n",
       "      <th></th>\n",
       "      <th>date</th>\n",
       "      <th>sssyx_open</th>\n",
       "      <th>sssyx_high</th>\n",
       "      <th>sssyx_low</th>\n",
       "      <th>sssyx_close</th>\n",
       "      <th>sssyx_adj_close</th>\n",
       "      <th>sssyx_volume</th>\n",
       "    </tr>\n",
       "  </thead>\n",
       "  <tbody>\n",
       "    <tr>\n",
       "      <th>count</th>\n",
       "      <td>2771</td>\n",
       "      <td>2752.000000</td>\n",
       "      <td>2752.000000</td>\n",
       "      <td>2752.000000</td>\n",
       "      <td>2752.000000</td>\n",
       "      <td>2752.000000</td>\n",
       "      <td>0.0</td>\n",
       "    </tr>\n",
       "    <tr>\n",
       "      <th>mean</th>\n",
       "      <td>2020-03-06 18:55:59.653554688</td>\n",
       "      <td>271.758911</td>\n",
       "      <td>271.758911</td>\n",
       "      <td>271.758911</td>\n",
       "      <td>271.758911</td>\n",
       "      <td>244.565323</td>\n",
       "      <td>NaN</td>\n",
       "    </tr>\n",
       "    <tr>\n",
       "      <th>min</th>\n",
       "      <td>2014-09-18 00:00:00</td>\n",
       "      <td>154.000000</td>\n",
       "      <td>154.000000</td>\n",
       "      <td>154.000000</td>\n",
       "      <td>154.000000</td>\n",
       "      <td>116.860001</td>\n",
       "      <td>NaN</td>\n",
       "    </tr>\n",
       "    <tr>\n",
       "      <th>25%</th>\n",
       "      <td>2017-06-14 12:00:00</td>\n",
       "      <td>202.100006</td>\n",
       "      <td>202.100006</td>\n",
       "      <td>202.100006</td>\n",
       "      <td>202.100006</td>\n",
       "      <td>159.970001</td>\n",
       "      <td>NaN</td>\n",
       "    </tr>\n",
       "    <tr>\n",
       "      <th>50%</th>\n",
       "      <td>2020-03-09 00:00:00</td>\n",
       "      <td>242.250000</td>\n",
       "      <td>242.250000</td>\n",
       "      <td>242.250000</td>\n",
       "      <td>242.250000</td>\n",
       "      <td>215.054993</td>\n",
       "      <td>NaN</td>\n",
       "    </tr>\n",
       "    <tr>\n",
       "      <th>75%</th>\n",
       "      <td>2022-11-28 12:00:00</td>\n",
       "      <td>331.987518</td>\n",
       "      <td>331.987518</td>\n",
       "      <td>331.987518</td>\n",
       "      <td>331.987518</td>\n",
       "      <td>313.332489</td>\n",
       "      <td>NaN</td>\n",
       "    </tr>\n",
       "    <tr>\n",
       "      <th>max</th>\n",
       "      <td>2025-08-27 00:00:00</td>\n",
       "      <td>487.559998</td>\n",
       "      <td>487.559998</td>\n",
       "      <td>487.559998</td>\n",
       "      <td>487.559998</td>\n",
       "      <td>487.559998</td>\n",
       "      <td>NaN</td>\n",
       "    </tr>\n",
       "    <tr>\n",
       "      <th>std</th>\n",
       "      <td>NaN</td>\n",
       "      <td>85.183502</td>\n",
       "      <td>85.183502</td>\n",
       "      <td>85.183502</td>\n",
       "      <td>85.183502</td>\n",
       "      <td>98.743935</td>\n",
       "      <td>NaN</td>\n",
       "    </tr>\n",
       "  </tbody>\n",
       "</table>\n",
       "</div>"
      ],
      "text/plain": [
       "                                date   sssyx_open   sssyx_high    sssyx_low  \\\n",
       "count                           2771  2752.000000  2752.000000  2752.000000   \n",
       "mean   2020-03-06 18:55:59.653554688   271.758911   271.758911   271.758911   \n",
       "min              2014-09-18 00:00:00   154.000000   154.000000   154.000000   \n",
       "25%              2017-06-14 12:00:00   202.100006   202.100006   202.100006   \n",
       "50%              2020-03-09 00:00:00   242.250000   242.250000   242.250000   \n",
       "75%              2022-11-28 12:00:00   331.987518   331.987518   331.987518   \n",
       "max              2025-08-27 00:00:00   487.559998   487.559998   487.559998   \n",
       "std                              NaN    85.183502    85.183502    85.183502   \n",
       "\n",
       "       sssyx_close  sssyx_adj_close  sssyx_volume  \n",
       "count  2752.000000      2752.000000           0.0  \n",
       "mean    271.758911       244.565323           NaN  \n",
       "min     154.000000       116.860001           NaN  \n",
       "25%     202.100006       159.970001           NaN  \n",
       "50%     242.250000       215.054993           NaN  \n",
       "75%     331.987518       313.332489           NaN  \n",
       "max     487.559998       487.559998           NaN  \n",
       "std      85.183502        98.743935           NaN  "
      ]
     },
     "execution_count": 5,
     "metadata": {},
     "output_type": "execute_result"
    }
   ],
   "source": [
    "sssyx.info()\n",
    "sssyx.describe()"
   ]
  },
  {
   "cell_type": "markdown",
   "metadata": {},
   "source": [
    "## Preprocessing"
   ]
  },
  {
   "cell_type": "markdown",
   "metadata": {},
   "source": [
    "### Feature selection\n",
    "Since we only need one column, we'll just keep the first one."
   ]
  },
  {
   "cell_type": "code",
   "execution_count": 6,
   "metadata": {},
   "outputs": [],
   "source": [
    "oiejx = oiejx.iloc[:, :2]\n",
    "sssyx = sssyx.iloc[:, :2]\n",
    "prdgx = prdgx.iloc[:, :2]\n",
    "rgagx = rgagx.iloc[:, :2]\n",
    "vimax = vimax.iloc[:, :2]\n",
    "vsiax = vsiax.iloc[:, :2]"
   ]
  },
  {
   "cell_type": "code",
   "execution_count": 7,
   "metadata": {},
   "outputs": [
    {
     "data": {
      "text/html": [
       "<div>\n",
       "<style scoped>\n",
       "    .dataframe tbody tr th:only-of-type {\n",
       "        vertical-align: middle;\n",
       "    }\n",
       "\n",
       "    .dataframe tbody tr th {\n",
       "        vertical-align: top;\n",
       "    }\n",
       "\n",
       "    .dataframe thead th {\n",
       "        text-align: right;\n",
       "    }\n",
       "</style>\n",
       "<table border=\"1\" class=\"dataframe\">\n",
       "  <thead>\n",
       "    <tr style=\"text-align: right;\">\n",
       "      <th></th>\n",
       "      <th>date</th>\n",
       "      <th>sssyx_open</th>\n",
       "    </tr>\n",
       "  </thead>\n",
       "  <tbody>\n",
       "    <tr>\n",
       "      <th>0</th>\n",
       "      <td>2014-09-18</td>\n",
       "      <td>170.899994</td>\n",
       "    </tr>\n",
       "    <tr>\n",
       "      <th>1</th>\n",
       "      <td>2014-09-19</td>\n",
       "      <td>170.800003</td>\n",
       "    </tr>\n",
       "    <tr>\n",
       "      <th>2</th>\n",
       "      <td>2014-09-22</td>\n",
       "      <td>169.399994</td>\n",
       "    </tr>\n",
       "    <tr>\n",
       "      <th>3</th>\n",
       "      <td>2014-09-23</td>\n",
       "      <td>168.500000</td>\n",
       "    </tr>\n",
       "    <tr>\n",
       "      <th>4</th>\n",
       "      <td>2014-09-24</td>\n",
       "      <td>169.800003</td>\n",
       "    </tr>\n",
       "    <tr>\n",
       "      <th>...</th>\n",
       "      <td>...</td>\n",
       "      <td>...</td>\n",
       "    </tr>\n",
       "    <tr>\n",
       "      <th>2766</th>\n",
       "      <td>2025-08-21</td>\n",
       "      <td>479.130005</td>\n",
       "    </tr>\n",
       "    <tr>\n",
       "      <th>2767</th>\n",
       "      <td>2025-08-22</td>\n",
       "      <td>486.440002</td>\n",
       "    </tr>\n",
       "    <tr>\n",
       "      <th>2768</th>\n",
       "      <td>2025-08-25</td>\n",
       "      <td>484.369995</td>\n",
       "    </tr>\n",
       "    <tr>\n",
       "      <th>2769</th>\n",
       "      <td>2025-08-26</td>\n",
       "      <td>486.399994</td>\n",
       "    </tr>\n",
       "    <tr>\n",
       "      <th>2770</th>\n",
       "      <td>2025-08-27</td>\n",
       "      <td>487.559998</td>\n",
       "    </tr>\n",
       "  </tbody>\n",
       "</table>\n",
       "<p>2771 rows × 2 columns</p>\n",
       "</div>"
      ],
      "text/plain": [
       "           date  sssyx_open\n",
       "0    2014-09-18  170.899994\n",
       "1    2014-09-19  170.800003\n",
       "2    2014-09-22  169.399994\n",
       "3    2014-09-23  168.500000\n",
       "4    2014-09-24  169.800003\n",
       "...         ...         ...\n",
       "2766 2025-08-21  479.130005\n",
       "2767 2025-08-22  486.440002\n",
       "2768 2025-08-25  484.369995\n",
       "2769 2025-08-26  486.399994\n",
       "2770 2025-08-27  487.559998\n",
       "\n",
       "[2771 rows x 2 columns]"
      ]
     },
     "execution_count": 7,
     "metadata": {},
     "output_type": "execute_result"
    }
   ],
   "source": [
    "sssyx"
   ]
  },
  {
   "cell_type": "markdown",
   "metadata": {},
   "source": [
    "### Cleaning\n",
    "Inspecting the missing values, we can see that those really happen at the end of the year, where dividends are usually distributed."
   ]
  },
  {
   "cell_type": "code",
   "execution_count": 8,
   "metadata": {},
   "outputs": [
    {
     "data": {
      "text/plain": [
       "68     2014-12-23\n",
       "320    2015-12-23\n",
       "575    2016-12-23\n",
       "826    2017-12-22\n",
       "828    2017-12-22\n",
       "1081   2018-12-27\n",
       "1083   2018-12-27\n",
       "1336   2019-12-27\n",
       "1337   2019-12-27\n",
       "1414   2020-04-20\n",
       "1591   2020-12-29\n",
       "1593   2020-12-29\n",
       "1844   2021-12-28\n",
       "1845   2021-12-28\n",
       "2098   2022-12-27\n",
       "2099   2022-12-27\n",
       "2349   2023-12-26\n",
       "2351   2023-12-26\n",
       "2604   2024-12-26\n",
       "Name: date, dtype: datetime64[ns]"
      ]
     },
     "execution_count": 8,
     "metadata": {},
     "output_type": "execute_result"
    }
   ],
   "source": [
    "sssyx[sssyx.iloc[:, 1].isna()]['date']"
   ]
  },
  {
   "cell_type": "code",
   "execution_count": 9,
   "metadata": {},
   "outputs": [
    {
     "data": {
      "text/html": [
       "<div>\n",
       "<style scoped>\n",
       "    .dataframe tbody tr th:only-of-type {\n",
       "        vertical-align: middle;\n",
       "    }\n",
       "\n",
       "    .dataframe tbody tr th {\n",
       "        vertical-align: top;\n",
       "    }\n",
       "\n",
       "    .dataframe thead th {\n",
       "        text-align: right;\n",
       "    }\n",
       "</style>\n",
       "<table border=\"1\" class=\"dataframe\">\n",
       "  <thead>\n",
       "    <tr style=\"text-align: right;\">\n",
       "      <th></th>\n",
       "      <th>date</th>\n",
       "      <th>sssyx_open</th>\n",
       "    </tr>\n",
       "  </thead>\n",
       "  <tbody>\n",
       "    <tr>\n",
       "      <th>1590</th>\n",
       "      <td>2020-12-28</td>\n",
       "      <td>290.700012</td>\n",
       "    </tr>\n",
       "    <tr>\n",
       "      <th>1591</th>\n",
       "      <td>2020-12-29</td>\n",
       "      <td>NaN</td>\n",
       "    </tr>\n",
       "    <tr>\n",
       "      <th>1592</th>\n",
       "      <td>2020-12-29</td>\n",
       "      <td>284.700012</td>\n",
       "    </tr>\n",
       "    <tr>\n",
       "      <th>1593</th>\n",
       "      <td>2020-12-29</td>\n",
       "      <td>NaN</td>\n",
       "    </tr>\n",
       "    <tr>\n",
       "      <th>1594</th>\n",
       "      <td>2020-12-30</td>\n",
       "      <td>285.109985</td>\n",
       "    </tr>\n",
       "  </tbody>\n",
       "</table>\n",
       "</div>"
      ],
      "text/plain": [
       "           date  sssyx_open\n",
       "1590 2020-12-28  290.700012\n",
       "1591 2020-12-29         NaN\n",
       "1592 2020-12-29  284.700012\n",
       "1593 2020-12-29         NaN\n",
       "1594 2020-12-30  285.109985"
      ]
     },
     "execution_count": 9,
     "metadata": {},
     "output_type": "execute_result"
    }
   ],
   "source": [
    "sssyx.iloc[1590:1595, :]"
   ]
  },
  {
   "cell_type": "markdown",
   "metadata": {},
   "source": [
    "As we can see, there aren't really missing days. It's actually that there are multiple entries for those days. So we can just drop NaN values."
   ]
  },
  {
   "cell_type": "code",
   "execution_count": 10,
   "metadata": {},
   "outputs": [
    {
     "data": {
      "text/html": [
       "<div>\n",
       "<style scoped>\n",
       "    .dataframe tbody tr th:only-of-type {\n",
       "        vertical-align: middle;\n",
       "    }\n",
       "\n",
       "    .dataframe tbody tr th {\n",
       "        vertical-align: top;\n",
       "    }\n",
       "\n",
       "    .dataframe thead th {\n",
       "        text-align: right;\n",
       "    }\n",
       "</style>\n",
       "<table border=\"1\" class=\"dataframe\">\n",
       "  <thead>\n",
       "    <tr style=\"text-align: right;\">\n",
       "      <th></th>\n",
       "      <th>date</th>\n",
       "      <th>sssyx_open</th>\n",
       "    </tr>\n",
       "  </thead>\n",
       "  <tbody>\n",
       "    <tr>\n",
       "      <th>0</th>\n",
       "      <td>2014-09-18</td>\n",
       "      <td>170.899994</td>\n",
       "    </tr>\n",
       "    <tr>\n",
       "      <th>1</th>\n",
       "      <td>2014-09-19</td>\n",
       "      <td>170.800003</td>\n",
       "    </tr>\n",
       "    <tr>\n",
       "      <th>2</th>\n",
       "      <td>2014-09-22</td>\n",
       "      <td>169.399994</td>\n",
       "    </tr>\n",
       "    <tr>\n",
       "      <th>3</th>\n",
       "      <td>2014-09-23</td>\n",
       "      <td>168.500000</td>\n",
       "    </tr>\n",
       "    <tr>\n",
       "      <th>4</th>\n",
       "      <td>2014-09-24</td>\n",
       "      <td>169.800003</td>\n",
       "    </tr>\n",
       "    <tr>\n",
       "      <th>...</th>\n",
       "      <td>...</td>\n",
       "      <td>...</td>\n",
       "    </tr>\n",
       "    <tr>\n",
       "      <th>2766</th>\n",
       "      <td>2025-08-21</td>\n",
       "      <td>479.130005</td>\n",
       "    </tr>\n",
       "    <tr>\n",
       "      <th>2767</th>\n",
       "      <td>2025-08-22</td>\n",
       "      <td>486.440002</td>\n",
       "    </tr>\n",
       "    <tr>\n",
       "      <th>2768</th>\n",
       "      <td>2025-08-25</td>\n",
       "      <td>484.369995</td>\n",
       "    </tr>\n",
       "    <tr>\n",
       "      <th>2769</th>\n",
       "      <td>2025-08-26</td>\n",
       "      <td>486.399994</td>\n",
       "    </tr>\n",
       "    <tr>\n",
       "      <th>2770</th>\n",
       "      <td>2025-08-27</td>\n",
       "      <td>487.559998</td>\n",
       "    </tr>\n",
       "  </tbody>\n",
       "</table>\n",
       "<p>2752 rows × 2 columns</p>\n",
       "</div>"
      ],
      "text/plain": [
       "           date  sssyx_open\n",
       "0    2014-09-18  170.899994\n",
       "1    2014-09-19  170.800003\n",
       "2    2014-09-22  169.399994\n",
       "3    2014-09-23  168.500000\n",
       "4    2014-09-24  169.800003\n",
       "...         ...         ...\n",
       "2766 2025-08-21  479.130005\n",
       "2767 2025-08-22  486.440002\n",
       "2768 2025-08-25  484.369995\n",
       "2769 2025-08-26  486.399994\n",
       "2770 2025-08-27  487.559998\n",
       "\n",
       "[2752 rows x 2 columns]"
      ]
     },
     "execution_count": 10,
     "metadata": {},
     "output_type": "execute_result"
    }
   ],
   "source": [
    "oiejx.dropna(inplace=True)\n",
    "sssyx.dropna(inplace=True)\n",
    "prdgx.dropna(inplace=True)\n",
    "rgagx.dropna(inplace=True)\n",
    "vimax.dropna(inplace=True)\n",
    "vsiax.dropna(inplace=True)\n",
    "sssyx"
   ]
  },
  {
   "cell_type": "markdown",
   "metadata": {},
   "source": [
    "### Transformation of variables\n",
    "Next we need to calculate the fractional returns over every period. Since we're dealing with mutual funds, for a given asset $j$:\n",
    "\n",
    "$R_{t,j}$ is computed as $\\frac{Open_{t,j} - Open_{t-1,j}}{Open_{t-1,j}}$, that is the percent change of asset $j$ from period $t-1$ to $t$."
   ]
  },
  {
   "cell_type": "code",
   "execution_count": 11,
   "metadata": {},
   "outputs": [
    {
     "data": {
      "text/html": [
       "<div>\n",
       "<style scoped>\n",
       "    .dataframe tbody tr th:only-of-type {\n",
       "        vertical-align: middle;\n",
       "    }\n",
       "\n",
       "    .dataframe tbody tr th {\n",
       "        vertical-align: top;\n",
       "    }\n",
       "\n",
       "    .dataframe thead th {\n",
       "        text-align: right;\n",
       "    }\n",
       "</style>\n",
       "<table border=\"1\" class=\"dataframe\">\n",
       "  <thead>\n",
       "    <tr style=\"text-align: right;\">\n",
       "      <th></th>\n",
       "      <th>date</th>\n",
       "      <th>oiejx_open</th>\n",
       "      <th>oiejx_return</th>\n",
       "    </tr>\n",
       "  </thead>\n",
       "  <tbody>\n",
       "    <tr>\n",
       "      <th>0</th>\n",
       "      <td>2014-09-18</td>\n",
       "      <td>14.070000</td>\n",
       "      <td>NaN</td>\n",
       "    </tr>\n",
       "    <tr>\n",
       "      <th>1</th>\n",
       "      <td>2014-09-19</td>\n",
       "      <td>14.080000</td>\n",
       "      <td>0.000711</td>\n",
       "    </tr>\n",
       "    <tr>\n",
       "      <th>2</th>\n",
       "      <td>2014-09-22</td>\n",
       "      <td>13.970000</td>\n",
       "      <td>-0.007812</td>\n",
       "    </tr>\n",
       "    <tr>\n",
       "      <th>3</th>\n",
       "      <td>2014-09-23</td>\n",
       "      <td>13.880000</td>\n",
       "      <td>-0.006442</td>\n",
       "    </tr>\n",
       "    <tr>\n",
       "      <th>4</th>\n",
       "      <td>2014-09-24</td>\n",
       "      <td>13.970000</td>\n",
       "      <td>0.006484</td>\n",
       "    </tr>\n",
       "    <tr>\n",
       "      <th>...</th>\n",
       "      <td>...</td>\n",
       "      <td>...</td>\n",
       "      <td>...</td>\n",
       "    </tr>\n",
       "    <tr>\n",
       "      <th>2885</th>\n",
       "      <td>2025-08-21</td>\n",
       "      <td>25.850000</td>\n",
       "      <td>-0.001930</td>\n",
       "    </tr>\n",
       "    <tr>\n",
       "      <th>2886</th>\n",
       "      <td>2025-08-22</td>\n",
       "      <td>26.190001</td>\n",
       "      <td>0.013153</td>\n",
       "    </tr>\n",
       "    <tr>\n",
       "      <th>2887</th>\n",
       "      <td>2025-08-25</td>\n",
       "      <td>26.030001</td>\n",
       "      <td>-0.006109</td>\n",
       "    </tr>\n",
       "    <tr>\n",
       "      <th>2888</th>\n",
       "      <td>2025-08-26</td>\n",
       "      <td>26.110001</td>\n",
       "      <td>0.003073</td>\n",
       "    </tr>\n",
       "    <tr>\n",
       "      <th>2889</th>\n",
       "      <td>2025-08-27</td>\n",
       "      <td>26.120001</td>\n",
       "      <td>0.000383</td>\n",
       "    </tr>\n",
       "  </tbody>\n",
       "</table>\n",
       "<p>2752 rows × 3 columns</p>\n",
       "</div>"
      ],
      "text/plain": [
       "           date  oiejx_open  oiejx_return\n",
       "0    2014-09-18   14.070000           NaN\n",
       "1    2014-09-19   14.080000      0.000711\n",
       "2    2014-09-22   13.970000     -0.007812\n",
       "3    2014-09-23   13.880000     -0.006442\n",
       "4    2014-09-24   13.970000      0.006484\n",
       "...         ...         ...           ...\n",
       "2885 2025-08-21   25.850000     -0.001930\n",
       "2886 2025-08-22   26.190001      0.013153\n",
       "2887 2025-08-25   26.030001     -0.006109\n",
       "2888 2025-08-26   26.110001      0.003073\n",
       "2889 2025-08-27   26.120001      0.000383\n",
       "\n",
       "[2752 rows x 3 columns]"
      ]
     },
     "execution_count": 11,
     "metadata": {},
     "output_type": "execute_result"
    }
   ],
   "source": [
    "oiejx['oiejx_return'] = oiejx['oiejx_open'].pct_change()\n",
    "oiejx"
   ]
  },
  {
   "cell_type": "code",
   "execution_count": 12,
   "metadata": {},
   "outputs": [],
   "source": [
    "sssyx['sssyx_return'] = sssyx['sssyx_open'].pct_change()\n",
    "prdgx['prdgx_return'] = prdgx['prdgx_open'].pct_change()\n",
    "rgagx['rgagx_return'] = rgagx['rgagx_open'].pct_change()\n",
    "vimax['vimax_return'] = vimax['vimax_open'].pct_change()\n",
    "vsiax['vsiax_return'] = vsiax['vsiax_open'].pct_change()"
   ]
  },
  {
   "cell_type": "markdown",
   "metadata": {},
   "source": [
    "Drop the first value, as there is no percent change for that case."
   ]
  },
  {
   "cell_type": "code",
   "execution_count": 13,
   "metadata": {},
   "outputs": [
    {
     "data": {
      "text/html": [
       "<div>\n",
       "<style scoped>\n",
       "    .dataframe tbody tr th:only-of-type {\n",
       "        vertical-align: middle;\n",
       "    }\n",
       "\n",
       "    .dataframe tbody tr th {\n",
       "        vertical-align: top;\n",
       "    }\n",
       "\n",
       "    .dataframe thead th {\n",
       "        text-align: right;\n",
       "    }\n",
       "</style>\n",
       "<table border=\"1\" class=\"dataframe\">\n",
       "  <thead>\n",
       "    <tr style=\"text-align: right;\">\n",
       "      <th></th>\n",
       "      <th>date</th>\n",
       "      <th>sssyx_open</th>\n",
       "      <th>sssyx_return</th>\n",
       "    </tr>\n",
       "  </thead>\n",
       "  <tbody>\n",
       "    <tr>\n",
       "      <th>1</th>\n",
       "      <td>2014-09-19</td>\n",
       "      <td>170.800003</td>\n",
       "      <td>-0.000585</td>\n",
       "    </tr>\n",
       "    <tr>\n",
       "      <th>2</th>\n",
       "      <td>2014-09-22</td>\n",
       "      <td>169.399994</td>\n",
       "      <td>-0.008197</td>\n",
       "    </tr>\n",
       "    <tr>\n",
       "      <th>3</th>\n",
       "      <td>2014-09-23</td>\n",
       "      <td>168.500000</td>\n",
       "      <td>-0.005313</td>\n",
       "    </tr>\n",
       "    <tr>\n",
       "      <th>4</th>\n",
       "      <td>2014-09-24</td>\n",
       "      <td>169.800003</td>\n",
       "      <td>0.007715</td>\n",
       "    </tr>\n",
       "    <tr>\n",
       "      <th>5</th>\n",
       "      <td>2014-09-25</td>\n",
       "      <td>167.100006</td>\n",
       "      <td>-0.015901</td>\n",
       "    </tr>\n",
       "    <tr>\n",
       "      <th>...</th>\n",
       "      <td>...</td>\n",
       "      <td>...</td>\n",
       "      <td>...</td>\n",
       "    </tr>\n",
       "    <tr>\n",
       "      <th>2766</th>\n",
       "      <td>2025-08-21</td>\n",
       "      <td>479.130005</td>\n",
       "      <td>-0.003888</td>\n",
       "    </tr>\n",
       "    <tr>\n",
       "      <th>2767</th>\n",
       "      <td>2025-08-22</td>\n",
       "      <td>486.440002</td>\n",
       "      <td>0.015257</td>\n",
       "    </tr>\n",
       "    <tr>\n",
       "      <th>2768</th>\n",
       "      <td>2025-08-25</td>\n",
       "      <td>484.369995</td>\n",
       "      <td>-0.004255</td>\n",
       "    </tr>\n",
       "    <tr>\n",
       "      <th>2769</th>\n",
       "      <td>2025-08-26</td>\n",
       "      <td>486.399994</td>\n",
       "      <td>0.004191</td>\n",
       "    </tr>\n",
       "    <tr>\n",
       "      <th>2770</th>\n",
       "      <td>2025-08-27</td>\n",
       "      <td>487.559998</td>\n",
       "      <td>0.002385</td>\n",
       "    </tr>\n",
       "  </tbody>\n",
       "</table>\n",
       "<p>2751 rows × 3 columns</p>\n",
       "</div>"
      ],
      "text/plain": [
       "           date  sssyx_open  sssyx_return\n",
       "1    2014-09-19  170.800003     -0.000585\n",
       "2    2014-09-22  169.399994     -0.008197\n",
       "3    2014-09-23  168.500000     -0.005313\n",
       "4    2014-09-24  169.800003      0.007715\n",
       "5    2014-09-25  167.100006     -0.015901\n",
       "...         ...         ...           ...\n",
       "2766 2025-08-21  479.130005     -0.003888\n",
       "2767 2025-08-22  486.440002      0.015257\n",
       "2768 2025-08-25  484.369995     -0.004255\n",
       "2769 2025-08-26  486.399994      0.004191\n",
       "2770 2025-08-27  487.559998      0.002385\n",
       "\n",
       "[2751 rows x 3 columns]"
      ]
     },
     "execution_count": 13,
     "metadata": {},
     "output_type": "execute_result"
    }
   ],
   "source": [
    "oiejx.dropna(inplace=True)\n",
    "sssyx.dropna(inplace=True)\n",
    "prdgx.dropna(inplace=True)\n",
    "rgagx.dropna(inplace=True)\n",
    "vimax.dropna(inplace=True)\n",
    "vsiax.dropna(inplace=True)\n",
    "sssyx"
   ]
  },
  {
   "cell_type": "markdown",
   "metadata": {},
   "source": [
    "Finally, we just need to confirm how many days of available data are there every year."
   ]
  },
  {
   "cell_type": "code",
   "execution_count": 14,
   "metadata": {},
   "outputs": [
    {
     "data": {
      "text/plain": [
       "date\n",
       "2020    253\n",
       "2015    252\n",
       "2016    252\n",
       "2019    252\n",
       "2021    252\n",
       "2024    252\n",
       "2017    251\n",
       "2018    251\n",
       "2022    251\n",
       "2023    250\n",
       "2025    163\n",
       "2014     72\n",
       "Name: count, dtype: int64"
      ]
     },
     "execution_count": 14,
     "metadata": {},
     "output_type": "execute_result"
    }
   ],
   "source": [
    "sssyx['date'].dt.year.value_counts()"
   ]
  },
  {
   "cell_type": "markdown",
   "metadata": {},
   "source": [
    "### Merging the datasets\n",
    "Extracting the returns for all assets and putting them into the matrix R"
   ]
  },
  {
   "cell_type": "code",
   "execution_count": 15,
   "metadata": {},
   "outputs": [
    {
     "data": {
      "text/html": [
       "<div>\n",
       "<style scoped>\n",
       "    .dataframe tbody tr th:only-of-type {\n",
       "        vertical-align: middle;\n",
       "    }\n",
       "\n",
       "    .dataframe tbody tr th {\n",
       "        vertical-align: top;\n",
       "    }\n",
       "\n",
       "    .dataframe thead th {\n",
       "        text-align: right;\n",
       "    }\n",
       "</style>\n",
       "<table border=\"1\" class=\"dataframe\">\n",
       "  <thead>\n",
       "    <tr style=\"text-align: right;\">\n",
       "      <th></th>\n",
       "      <th>date</th>\n",
       "      <th>oiejx_return</th>\n",
       "      <th>sssyx_return</th>\n",
       "      <th>prdgx_return</th>\n",
       "      <th>rgagx_return</th>\n",
       "      <th>vimax_return</th>\n",
       "      <th>vsiax_return</th>\n",
       "    </tr>\n",
       "  </thead>\n",
       "  <tbody>\n",
       "    <tr>\n",
       "      <th>0</th>\n",
       "      <td>2014-09-19</td>\n",
       "      <td>0.000711</td>\n",
       "      <td>-0.000585</td>\n",
       "      <td>-0.001392</td>\n",
       "      <td>-0.000214</td>\n",
       "      <td>-0.002881</td>\n",
       "      <td>-0.007562</td>\n",
       "    </tr>\n",
       "    <tr>\n",
       "      <th>1</th>\n",
       "      <td>2014-09-22</td>\n",
       "      <td>-0.007812</td>\n",
       "      <td>-0.008197</td>\n",
       "      <td>-0.006689</td>\n",
       "      <td>-0.011536</td>\n",
       "      <td>-0.010750</td>\n",
       "      <td>-0.013671</td>\n",
       "    </tr>\n",
       "    <tr>\n",
       "      <th>2</th>\n",
       "      <td>2014-09-23</td>\n",
       "      <td>-0.006442</td>\n",
       "      <td>-0.005313</td>\n",
       "      <td>-0.005892</td>\n",
       "      <td>-0.005403</td>\n",
       "      <td>-0.006927</td>\n",
       "      <td>-0.009316</td>\n",
       "    </tr>\n",
       "    <tr>\n",
       "      <th>3</th>\n",
       "      <td>2014-09-24</td>\n",
       "      <td>0.006484</td>\n",
       "      <td>0.007715</td>\n",
       "      <td>0.007338</td>\n",
       "      <td>0.010430</td>\n",
       "      <td>0.007318</td>\n",
       "      <td>0.004587</td>\n",
       "    </tr>\n",
       "    <tr>\n",
       "      <th>4</th>\n",
       "      <td>2014-09-25</td>\n",
       "      <td>-0.014316</td>\n",
       "      <td>-0.015901</td>\n",
       "      <td>-0.014010</td>\n",
       "      <td>-0.015484</td>\n",
       "      <td>-0.013918</td>\n",
       "      <td>-0.013699</td>\n",
       "    </tr>\n",
       "    <tr>\n",
       "      <th>...</th>\n",
       "      <td>...</td>\n",
       "      <td>...</td>\n",
       "      <td>...</td>\n",
       "      <td>...</td>\n",
       "      <td>...</td>\n",
       "      <td>...</td>\n",
       "      <td>...</td>\n",
       "    </tr>\n",
       "    <tr>\n",
       "      <th>2746</th>\n",
       "      <td>2025-08-21</td>\n",
       "      <td>-0.001930</td>\n",
       "      <td>-0.003888</td>\n",
       "      <td>-0.003582</td>\n",
       "      <td>-0.003448</td>\n",
       "      <td>-0.003664</td>\n",
       "      <td>-0.001834</td>\n",
       "    </tr>\n",
       "    <tr>\n",
       "      <th>2747</th>\n",
       "      <td>2025-08-22</td>\n",
       "      <td>0.013153</td>\n",
       "      <td>0.015257</td>\n",
       "      <td>0.009466</td>\n",
       "      <td>0.019446</td>\n",
       "      <td>0.018698</td>\n",
       "      <td>0.031921</td>\n",
       "    </tr>\n",
       "    <tr>\n",
       "      <th>2748</th>\n",
       "      <td>2025-08-25</td>\n",
       "      <td>-0.006109</td>\n",
       "      <td>-0.004255</td>\n",
       "      <td>-0.007596</td>\n",
       "      <td>-0.004213</td>\n",
       "      <td>-0.007470</td>\n",
       "      <td>-0.006899</td>\n",
       "    </tr>\n",
       "    <tr>\n",
       "      <th>2749</th>\n",
       "      <td>2025-08-26</td>\n",
       "      <td>0.003073</td>\n",
       "      <td>0.004191</td>\n",
       "      <td>0.004066</td>\n",
       "      <td>0.006934</td>\n",
       "      <td>0.002210</td>\n",
       "      <td>0.003249</td>\n",
       "    </tr>\n",
       "    <tr>\n",
       "      <th>2750</th>\n",
       "      <td>2025-08-27</td>\n",
       "      <td>0.000383</td>\n",
       "      <td>0.002385</td>\n",
       "      <td>0.001310</td>\n",
       "      <td>0.001634</td>\n",
       "      <td>0.003852</td>\n",
       "      <td>0.006031</td>\n",
       "    </tr>\n",
       "  </tbody>\n",
       "</table>\n",
       "<p>2751 rows × 7 columns</p>\n",
       "</div>"
      ],
      "text/plain": [
       "           date  oiejx_return  sssyx_return  prdgx_return  rgagx_return  \\\n",
       "0    2014-09-19      0.000711     -0.000585     -0.001392     -0.000214   \n",
       "1    2014-09-22     -0.007812     -0.008197     -0.006689     -0.011536   \n",
       "2    2014-09-23     -0.006442     -0.005313     -0.005892     -0.005403   \n",
       "3    2014-09-24      0.006484      0.007715      0.007338      0.010430   \n",
       "4    2014-09-25     -0.014316     -0.015901     -0.014010     -0.015484   \n",
       "...         ...           ...           ...           ...           ...   \n",
       "2746 2025-08-21     -0.001930     -0.003888     -0.003582     -0.003448   \n",
       "2747 2025-08-22      0.013153      0.015257      0.009466      0.019446   \n",
       "2748 2025-08-25     -0.006109     -0.004255     -0.007596     -0.004213   \n",
       "2749 2025-08-26      0.003073      0.004191      0.004066      0.006934   \n",
       "2750 2025-08-27      0.000383      0.002385      0.001310      0.001634   \n",
       "\n",
       "      vimax_return  vsiax_return  \n",
       "0        -0.002881     -0.007562  \n",
       "1        -0.010750     -0.013671  \n",
       "2        -0.006927     -0.009316  \n",
       "3         0.007318      0.004587  \n",
       "4        -0.013918     -0.013699  \n",
       "...            ...           ...  \n",
       "2746     -0.003664     -0.001834  \n",
       "2747      0.018698      0.031921  \n",
       "2748     -0.007470     -0.006899  \n",
       "2749      0.002210      0.003249  \n",
       "2750      0.003852      0.006031  \n",
       "\n",
       "[2751 rows x 7 columns]"
      ]
     },
     "execution_count": 15,
     "metadata": {},
     "output_type": "execute_result"
    }
   ],
   "source": [
    "# Merge all dataframes on 'date' and keep only the return columns for each\n",
    "returns_df = oiejx[['date', 'oiejx_return']] \\\n",
    "    .merge(sssyx[['date', 'sssyx_return']], on='date', how='inner') \\\n",
    "    .merge(prdgx[['date', 'prdgx_return']], on='date', how='inner') \\\n",
    "    .merge(rgagx[['date', 'rgagx_return']], on='date', how='inner') \\\n",
    "    .merge(vimax[['date', 'vimax_return']], on='date', how='inner') \\\n",
    "    .merge(vsiax[['date', 'vsiax_return']], on='date', how='inner')\n",
    "\n",
    "returns_df.reset_index(drop=True, inplace=True)\n",
    "returns_df"
   ]
  },
  {
   "cell_type": "code",
   "execution_count": 16,
   "metadata": {},
   "outputs": [
    {
     "name": "stdout",
     "output_type": "stream",
     "text": [
      "<class 'pandas.core.frame.DataFrame'>\n",
      "RangeIndex: 2751 entries, 0 to 2750\n",
      "Data columns (total 7 columns):\n",
      " #   Column        Non-Null Count  Dtype         \n",
      "---  ------        --------------  -----         \n",
      " 0   date          2751 non-null   datetime64[ns]\n",
      " 1   oiejx_return  2751 non-null   float32       \n",
      " 2   sssyx_return  2751 non-null   float32       \n",
      " 3   prdgx_return  2751 non-null   float32       \n",
      " 4   rgagx_return  2751 non-null   float32       \n",
      " 5   vimax_return  2751 non-null   float32       \n",
      " 6   vsiax_return  2751 non-null   float32       \n",
      "dtypes: datetime64[ns](1), float32(6)\n",
      "memory usage: 86.1 KB\n"
     ]
    }
   ],
   "source": [
    "returns_df.info()"
   ]
  },
  {
   "cell_type": "code",
   "execution_count": 17,
   "metadata": {},
   "outputs": [
    {
     "data": {
      "text/plain": [
       "(2751, 6)"
      ]
     },
     "execution_count": 17,
     "metadata": {},
     "output_type": "execute_result"
    }
   ],
   "source": [
    "R = returns_df.iloc[:,1:].values\n",
    "R.shape"
   ]
  },
  {
   "cell_type": "markdown",
   "metadata": {},
   "source": [
    "## Constrained Least Squares Problem\n",
    "The optimal solution is:\n",
    "\\begin{align}\n",
    "    \\begin{bmatrix}w\\\\z_1\\\\z_2\\end{bmatrix} =\n",
    "    \\begin{bmatrix}\n",
    "        2R^TR & \\textbf{1} & \\mu\\\\\n",
    "        \\textbf{1}^T & 0 & 0\\\\\n",
    "        \\mu^T & 0 & 0\n",
    "    \\end{bmatrix}^{-1} \\begin{bmatrix}\n",
    "        2\\rho T\\mu\\\\\n",
    "        1\\\\\n",
    "        \\rho\n",
    "    \\end{bmatrix}\n",
    "\\end{align}"
   ]
  },
  {
   "cell_type": "code",
   "execution_count": 18,
   "metadata": {},
   "outputs": [
    {
     "data": {
      "application/vnd.plotly.v1+json": {
       "config": {
        "plotlyServerURL": "https://plot.ly"
       },
       "data": [
        {
         "marker": {
          "size": 8
         },
         "mode": "markers",
         "type": "scatter",
         "x": {
          "bdata": "BxOoqXgsTkAwipALJBFOQNyycVwQ9k1A6tn1TD7bTUDQHpWOrsBNQMCpidNhpk1ArF7DzliMTUBaC9szlHJNQIsPBbcUWU1AdX0DDds/TUDXsRfr5yZNQKpi8wY8Dk1AsiOpFtj1TEBaYJzQvN1MQOTKcOvqxUxAYkD5HWOuTEBEIiYfJpdMQFUl86U0gExARZdUaY9pTECPGyQgN1NMQArhDIEsPUxAvlF3QnAnTEDEPnQaAxJMQJOKp77l/EtA8lMy5BjoS0DLpJw/ndNLQKKnvoRzv0tAu2epZpyrS0BSH4+XGJhLQJwYq8johEtA2yUpqg1yS0C/tQzrh19LQG2JFzlYTUtAwBGwQH87S0AYeses/SlLQC5nvybUGEtAnnBPVgMIS0CpXGrhi/dKQJIlI2xu50pAodCRmKvXSkAEH7gGRMhKQEshZlQ4uUpAZ7YeHYmqSkBY//v5NpxKQDvRk4FCjkpAfy/cR6yASkBH2A/edHNKQGftktKcZkpAhMTXsCRaSkD76EMBDU5KQJVaFUlWQkpADBRICgE3SkBt5HvDDSxKQM2m2u98IUpAd+P+Bk8XSkDm5dp8hA1KQO5SoMEdBEpAUEqoQRv7SUDpHlxlffJJQKCwHpFE6klA93I2JXHiSUDwKrh9A9tJQBhvcvL700lAkfPZ1lrNSUCQrPZ5IMdJQL/QUSZNwUlA3MTkIeG7SUCJ+Qiu3LZJQAHEaAdAsklAWDnxZQuuSUCAFMX8PqpJQGqtMPrapklAbAifh9+jSUCpA5DJTKFJQL6nj98in0lA26Au5GGdSUAW5PvsCZxJQMaEfwobm0lAo7w2SJWaSUD6KJGseJpJQFc+7zjFmklA7vOh6XqbSUA4puu1mZxJQBIxApAhnklArz8SZRKgSUCQ0EMdbKJJQEXrv5supUlAWoS3vlmoSUD/i2tf7atJQMUiNlLpr0lAV++UZk20SUCEjzRnGblJQJke/RlNvklA4skfQOjDSUAgbCWW6slJQGYo/tNT0ElAuPsRrSPXSUDTPFLQWd5JQC8BTOj15UlAXl07m/ftSUBYdx+LXvZJQDhgz1Uq/0lAPKsPlVoISkA4t6je7hFKQOmffcTmG0pAncuj1EEmSkC8CnuZ/zBKQGM9xpkfPEpAFXTEWKFHSkAEgEpWhFNKQNXn3A7IX0pAXDXK+2tsSkAvkUWTb3lKQBahgUjShkpAHZ7Li5OUSkC0l6bKsqJKQPDY5m8vsUpAymXN4wjASkDShSOMPs9KQJxSVszP3kpADUCSBbzuSkA1ld6WAv9KQH3MON2iD0tAYtKvM5wgS0BuGn/z7TFLQOaBKXSXQ0tA6/iTC5hVS0Ae6h8O72dLQAhaxc6bektAgrcsn52NS0CeVsjP86BLQHyQ7a+dtEtA6oHtjZrIS0A0ZC236dxLQNJ6PniK8UtAz5H1HHwGTECKCILwvRtMQIBlhD1PMUxACG8kTi9HTEDVxiZsXV1MQMYEAuHYc0xAOk/z9aCKTEBdbhL0tKFMQBZZZSQUuUxAEDrzz73QTECN69Y/sehMQEXpUL3tAE1A67fYkXIZTUCVwS0HPzJNQIKnZ2dSS01A",
          "dtype": "f8"
         },
         "y": {
          "bdata": "AAABAAIAAwAEAAUABgAHAAgACQAKAAsADAANAA4ADwAQABEAEgATABQAFQAWABcAGAAZABoAGwAcAB0AHgAfACAAIQAiACMAJAAlACYAJwAoACkAKgArACwALQAuAC8AMAAxADIAMwA0ADUANgA3ADgAOQA6ADsAPAA9AD4APwBAAEEAQgBDAEQARQBGAEcASABJAEoASwBMAE0ATgBPAFAAUQBSAFMAVABVAFYAVwBYAFkAWgBbAFwAXQBeAF8AYABhAGIAYwBkAGUAZgBnAGgAaQBqAGsAbABtAG4AbwBwAHEAcgBzAHQAdQB2AHcAeAB5AHoAewB8AH0AfgB/AIAAgQCCAIMAhACFAIYAhwCIAIkAigCLAIwAjQCOAI8AkACRAJIAkwCUAJUA",
          "dtype": "i2"
         }
        }
       ],
       "layout": {
        "template": {
         "data": {
          "bar": [
           {
            "error_x": {
             "color": "#2a3f5f"
            },
            "error_y": {
             "color": "#2a3f5f"
            },
            "marker": {
             "line": {
              "color": "#E5ECF6",
              "width": 0.5
             },
             "pattern": {
              "fillmode": "overlay",
              "size": 10,
              "solidity": 0.2
             }
            },
            "type": "bar"
           }
          ],
          "barpolar": [
           {
            "marker": {
             "line": {
              "color": "#E5ECF6",
              "width": 0.5
             },
             "pattern": {
              "fillmode": "overlay",
              "size": 10,
              "solidity": 0.2
             }
            },
            "type": "barpolar"
           }
          ],
          "carpet": [
           {
            "aaxis": {
             "endlinecolor": "#2a3f5f",
             "gridcolor": "white",
             "linecolor": "white",
             "minorgridcolor": "white",
             "startlinecolor": "#2a3f5f"
            },
            "baxis": {
             "endlinecolor": "#2a3f5f",
             "gridcolor": "white",
             "linecolor": "white",
             "minorgridcolor": "white",
             "startlinecolor": "#2a3f5f"
            },
            "type": "carpet"
           }
          ],
          "choropleth": [
           {
            "colorbar": {
             "outlinewidth": 0,
             "ticks": ""
            },
            "type": "choropleth"
           }
          ],
          "contour": [
           {
            "colorbar": {
             "outlinewidth": 0,
             "ticks": ""
            },
            "colorscale": [
             [
              0,
              "#0d0887"
             ],
             [
              0.1111111111111111,
              "#46039f"
             ],
             [
              0.2222222222222222,
              "#7201a8"
             ],
             [
              0.3333333333333333,
              "#9c179e"
             ],
             [
              0.4444444444444444,
              "#bd3786"
             ],
             [
              0.5555555555555556,
              "#d8576b"
             ],
             [
              0.6666666666666666,
              "#ed7953"
             ],
             [
              0.7777777777777778,
              "#fb9f3a"
             ],
             [
              0.8888888888888888,
              "#fdca26"
             ],
             [
              1,
              "#f0f921"
             ]
            ],
            "type": "contour"
           }
          ],
          "contourcarpet": [
           {
            "colorbar": {
             "outlinewidth": 0,
             "ticks": ""
            },
            "type": "contourcarpet"
           }
          ],
          "heatmap": [
           {
            "colorbar": {
             "outlinewidth": 0,
             "ticks": ""
            },
            "colorscale": [
             [
              0,
              "#0d0887"
             ],
             [
              0.1111111111111111,
              "#46039f"
             ],
             [
              0.2222222222222222,
              "#7201a8"
             ],
             [
              0.3333333333333333,
              "#9c179e"
             ],
             [
              0.4444444444444444,
              "#bd3786"
             ],
             [
              0.5555555555555556,
              "#d8576b"
             ],
             [
              0.6666666666666666,
              "#ed7953"
             ],
             [
              0.7777777777777778,
              "#fb9f3a"
             ],
             [
              0.8888888888888888,
              "#fdca26"
             ],
             [
              1,
              "#f0f921"
             ]
            ],
            "type": "heatmap"
           }
          ],
          "histogram": [
           {
            "marker": {
             "pattern": {
              "fillmode": "overlay",
              "size": 10,
              "solidity": 0.2
             }
            },
            "type": "histogram"
           }
          ],
          "histogram2d": [
           {
            "colorbar": {
             "outlinewidth": 0,
             "ticks": ""
            },
            "colorscale": [
             [
              0,
              "#0d0887"
             ],
             [
              0.1111111111111111,
              "#46039f"
             ],
             [
              0.2222222222222222,
              "#7201a8"
             ],
             [
              0.3333333333333333,
              "#9c179e"
             ],
             [
              0.4444444444444444,
              "#bd3786"
             ],
             [
              0.5555555555555556,
              "#d8576b"
             ],
             [
              0.6666666666666666,
              "#ed7953"
             ],
             [
              0.7777777777777778,
              "#fb9f3a"
             ],
             [
              0.8888888888888888,
              "#fdca26"
             ],
             [
              1,
              "#f0f921"
             ]
            ],
            "type": "histogram2d"
           }
          ],
          "histogram2dcontour": [
           {
            "colorbar": {
             "outlinewidth": 0,
             "ticks": ""
            },
            "colorscale": [
             [
              0,
              "#0d0887"
             ],
             [
              0.1111111111111111,
              "#46039f"
             ],
             [
              0.2222222222222222,
              "#7201a8"
             ],
             [
              0.3333333333333333,
              "#9c179e"
             ],
             [
              0.4444444444444444,
              "#bd3786"
             ],
             [
              0.5555555555555556,
              "#d8576b"
             ],
             [
              0.6666666666666666,
              "#ed7953"
             ],
             [
              0.7777777777777778,
              "#fb9f3a"
             ],
             [
              0.8888888888888888,
              "#fdca26"
             ],
             [
              1,
              "#f0f921"
             ]
            ],
            "type": "histogram2dcontour"
           }
          ],
          "mesh3d": [
           {
            "colorbar": {
             "outlinewidth": 0,
             "ticks": ""
            },
            "type": "mesh3d"
           }
          ],
          "parcoords": [
           {
            "line": {
             "colorbar": {
              "outlinewidth": 0,
              "ticks": ""
             }
            },
            "type": "parcoords"
           }
          ],
          "pie": [
           {
            "automargin": true,
            "type": "pie"
           }
          ],
          "scatter": [
           {
            "fillpattern": {
             "fillmode": "overlay",
             "size": 10,
             "solidity": 0.2
            },
            "type": "scatter"
           }
          ],
          "scatter3d": [
           {
            "line": {
             "colorbar": {
              "outlinewidth": 0,
              "ticks": ""
             }
            },
            "marker": {
             "colorbar": {
              "outlinewidth": 0,
              "ticks": ""
             }
            },
            "type": "scatter3d"
           }
          ],
          "scattercarpet": [
           {
            "marker": {
             "colorbar": {
              "outlinewidth": 0,
              "ticks": ""
             }
            },
            "type": "scattercarpet"
           }
          ],
          "scattergeo": [
           {
            "marker": {
             "colorbar": {
              "outlinewidth": 0,
              "ticks": ""
             }
            },
            "type": "scattergeo"
           }
          ],
          "scattergl": [
           {
            "marker": {
             "colorbar": {
              "outlinewidth": 0,
              "ticks": ""
             }
            },
            "type": "scattergl"
           }
          ],
          "scattermap": [
           {
            "marker": {
             "colorbar": {
              "outlinewidth": 0,
              "ticks": ""
             }
            },
            "type": "scattermap"
           }
          ],
          "scattermapbox": [
           {
            "marker": {
             "colorbar": {
              "outlinewidth": 0,
              "ticks": ""
             }
            },
            "type": "scattermapbox"
           }
          ],
          "scatterpolar": [
           {
            "marker": {
             "colorbar": {
              "outlinewidth": 0,
              "ticks": ""
             }
            },
            "type": "scatterpolar"
           }
          ],
          "scatterpolargl": [
           {
            "marker": {
             "colorbar": {
              "outlinewidth": 0,
              "ticks": ""
             }
            },
            "type": "scatterpolargl"
           }
          ],
          "scatterternary": [
           {
            "marker": {
             "colorbar": {
              "outlinewidth": 0,
              "ticks": ""
             }
            },
            "type": "scatterternary"
           }
          ],
          "surface": [
           {
            "colorbar": {
             "outlinewidth": 0,
             "ticks": ""
            },
            "colorscale": [
             [
              0,
              "#0d0887"
             ],
             [
              0.1111111111111111,
              "#46039f"
             ],
             [
              0.2222222222222222,
              "#7201a8"
             ],
             [
              0.3333333333333333,
              "#9c179e"
             ],
             [
              0.4444444444444444,
              "#bd3786"
             ],
             [
              0.5555555555555556,
              "#d8576b"
             ],
             [
              0.6666666666666666,
              "#ed7953"
             ],
             [
              0.7777777777777778,
              "#fb9f3a"
             ],
             [
              0.8888888888888888,
              "#fdca26"
             ],
             [
              1,
              "#f0f921"
             ]
            ],
            "type": "surface"
           }
          ],
          "table": [
           {
            "cells": {
             "fill": {
              "color": "#EBF0F8"
             },
             "line": {
              "color": "white"
             }
            },
            "header": {
             "fill": {
              "color": "#C8D4E3"
             },
             "line": {
              "color": "white"
             }
            },
            "type": "table"
           }
          ]
         },
         "layout": {
          "annotationdefaults": {
           "arrowcolor": "#2a3f5f",
           "arrowhead": 0,
           "arrowwidth": 1
          },
          "autotypenumbers": "strict",
          "coloraxis": {
           "colorbar": {
            "outlinewidth": 0,
            "ticks": ""
           }
          },
          "colorscale": {
           "diverging": [
            [
             0,
             "#8e0152"
            ],
            [
             0.1,
             "#c51b7d"
            ],
            [
             0.2,
             "#de77ae"
            ],
            [
             0.3,
             "#f1b6da"
            ],
            [
             0.4,
             "#fde0ef"
            ],
            [
             0.5,
             "#f7f7f7"
            ],
            [
             0.6,
             "#e6f5d0"
            ],
            [
             0.7,
             "#b8e186"
            ],
            [
             0.8,
             "#7fbc41"
            ],
            [
             0.9,
             "#4d9221"
            ],
            [
             1,
             "#276419"
            ]
           ],
           "sequential": [
            [
             0,
             "#0d0887"
            ],
            [
             0.1111111111111111,
             "#46039f"
            ],
            [
             0.2222222222222222,
             "#7201a8"
            ],
            [
             0.3333333333333333,
             "#9c179e"
            ],
            [
             0.4444444444444444,
             "#bd3786"
            ],
            [
             0.5555555555555556,
             "#d8576b"
            ],
            [
             0.6666666666666666,
             "#ed7953"
            ],
            [
             0.7777777777777778,
             "#fb9f3a"
            ],
            [
             0.8888888888888888,
             "#fdca26"
            ],
            [
             1,
             "#f0f921"
            ]
           ],
           "sequentialminus": [
            [
             0,
             "#0d0887"
            ],
            [
             0.1111111111111111,
             "#46039f"
            ],
            [
             0.2222222222222222,
             "#7201a8"
            ],
            [
             0.3333333333333333,
             "#9c179e"
            ],
            [
             0.4444444444444444,
             "#bd3786"
            ],
            [
             0.5555555555555556,
             "#d8576b"
            ],
            [
             0.6666666666666666,
             "#ed7953"
            ],
            [
             0.7777777777777778,
             "#fb9f3a"
            ],
            [
             0.8888888888888888,
             "#fdca26"
            ],
            [
             1,
             "#f0f921"
            ]
           ]
          },
          "colorway": [
           "#636efa",
           "#EF553B",
           "#00cc96",
           "#ab63fa",
           "#FFA15A",
           "#19d3f3",
           "#FF6692",
           "#B6E880",
           "#FF97FF",
           "#FECB52"
          ],
          "font": {
           "color": "#2a3f5f"
          },
          "geo": {
           "bgcolor": "white",
           "lakecolor": "white",
           "landcolor": "#E5ECF6",
           "showlakes": true,
           "showland": true,
           "subunitcolor": "white"
          },
          "hoverlabel": {
           "align": "left"
          },
          "hovermode": "closest",
          "mapbox": {
           "style": "light"
          },
          "paper_bgcolor": "white",
          "plot_bgcolor": "#E5ECF6",
          "polar": {
           "angularaxis": {
            "gridcolor": "white",
            "linecolor": "white",
            "ticks": ""
           },
           "bgcolor": "#E5ECF6",
           "radialaxis": {
            "gridcolor": "white",
            "linecolor": "white",
            "ticks": ""
           }
          },
          "scene": {
           "xaxis": {
            "backgroundcolor": "#E5ECF6",
            "gridcolor": "white",
            "gridwidth": 2,
            "linecolor": "white",
            "showbackground": true,
            "ticks": "",
            "zerolinecolor": "white"
           },
           "yaxis": {
            "backgroundcolor": "#E5ECF6",
            "gridcolor": "white",
            "gridwidth": 2,
            "linecolor": "white",
            "showbackground": true,
            "ticks": "",
            "zerolinecolor": "white"
           },
           "zaxis": {
            "backgroundcolor": "#E5ECF6",
            "gridcolor": "white",
            "gridwidth": 2,
            "linecolor": "white",
            "showbackground": true,
            "ticks": "",
            "zerolinecolor": "white"
           }
          },
          "shapedefaults": {
           "line": {
            "color": "#2a3f5f"
           }
          },
          "ternary": {
           "aaxis": {
            "gridcolor": "white",
            "linecolor": "white",
            "ticks": ""
           },
           "baxis": {
            "gridcolor": "white",
            "linecolor": "white",
            "ticks": ""
           },
           "bgcolor": "#E5ECF6",
           "caxis": {
            "gridcolor": "white",
            "linecolor": "white",
            "ticks": ""
           }
          },
          "title": {
           "x": 0.05
          },
          "xaxis": {
           "automargin": true,
           "gridcolor": "white",
           "linecolor": "white",
           "ticks": "",
           "title": {
            "standoff": 15
           },
           "zerolinecolor": "white",
           "zerolinewidth": 2
          },
          "yaxis": {
           "automargin": true,
           "gridcolor": "white",
           "linecolor": "white",
           "ticks": "",
           "title": {
            "standoff": 15
           },
           "zerolinecolor": "white",
           "zerolinewidth": 2
          }
         }
        },
        "title": {
         "text": "Risk-Return Tradeoff"
        },
        "xaxis": {
         "title": {
          "text": "Annualized Risk (%)"
         }
        },
        "yaxis": {
         "title": {
          "text": "Annualized Return (%)"
         }
        }
       }
      }
     },
     "metadata": {},
     "output_type": "display_data"
    }
   ],
   "source": [
    "def compute_annualized_risk(desired_annualized_return=10):\n",
    "    T, n = R.shape\n",
    "    mu = np.mean(R, axis=0)\n",
    "    rho = desired_annualized_return * 0.01 / T\n",
    "\n",
    "    RTR = 2 * R.T @ R\n",
    "    ones_col = np.ones((n, 1))\n",
    "    ones_row = np.ones((1, n))\n",
    "    mu_col = mu.reshape(-1, 1)\n",
    "    mu_row = mu.reshape(1, -1)\n",
    "\n",
    "    A = np.block([\n",
    "        [RTR,      ones_col, mu_col],\n",
    "        [ones_row, 0,        0     ],\n",
    "        [mu_row,   0,        0     ]\n",
    "    ])\n",
    "    b = np.concatenate([2 * rho * T * mu, [1], [rho]])\n",
    "    solution = np.linalg.inv(A) @ b\n",
    "    w = solution[:n]\n",
    "    annualized_risk = np.sqrt(T) * np.std(R @ w) * 100\n",
    "    return w, annualized_risk\n",
    "\n",
    "# Build an array of desired annualized returns (e.g., from 0% to 500% in steps of 1%)\n",
    "desired_returns = np.arange(0, 150, 1)  # 0%, 1%, ..., 499%\n",
    "\n",
    "# Compute risks for each desired return, and unpack the results\n",
    "risks = []\n",
    "for r in desired_returns:\n",
    "    w, annualized_risk = compute_annualized_risk(desired_annualized_return=r)\n",
    "    risks.append(annualized_risk)\n",
    "risks = np.array(risks)\n",
    "\n",
    "def plot_risk_return(risks, returns):\n",
    "    fig = go.Figure()\n",
    "    fig.add_trace(go.Scatter(\n",
    "        x=risks,\n",
    "        y=returns,\n",
    "        mode='markers',\n",
    "        marker=dict(size=8),\n",
    "    ))\n",
    "    fig.update_layout(\n",
    "        xaxis_title='Annualized Risk (%)',\n",
    "        yaxis_title='Annualized Return (%)',\n",
    "        title='Risk-Return Tradeoff'\n",
    "    )\n",
    "    fig.show()\n",
    "\n",
    "plot_risk_return(risks, desired_returns)"
   ]
  },
  {
   "cell_type": "code",
   "execution_count": 19,
   "metadata": {},
   "outputs": [
    {
     "data": {
      "text/plain": [
       "(array([ 0.13214397,  0.10229187,  1.28287538, -0.07394319, -0.1520347 ,\n",
       "        -0.29133333]),\n",
       " np.float64(51.92476023708758))"
      ]
     },
     "execution_count": 19,
     "metadata": {},
     "output_type": "execute_result"
    }
   ],
   "source": [
    "compute_annualized_risk(desired_annualized_return=100)"
   ]
  },
  {
   "cell_type": "markdown",
   "metadata": {},
   "source": [
    "## Optimization"
   ]
  },
  {
   "cell_type": "code",
   "execution_count": null,
   "metadata": {},
   "outputs": [
    {
     "name": "stdout",
     "output_type": "stream",
     "text": [
      "Optimal weights w: [ 2.05375917 -1.32000847  0.54622188  0.71291774 -0.55962048 -0.43326984]\n",
      "Achieved average return: 3.635041802980737e-05\n",
      "Portfolio risk (std dev of returns): 0.011116106592380267\n"
     ]
    }
   ],
   "source": [
    "T, n = R.shape\n",
    "\n",
    "# Compute average return per asset\n",
    "mu = np.mean(R, axis=0)  # Shape: (n,)\n",
    "\n",
    "# Set a mock target return\n",
    "rho = 0.1 / T # 10% annual return\n",
    "\n",
    "# Define optimization variable\n",
    "w = cp.Variable(n)\n",
    "\n",
    "# Define constraints\n",
    "constraints = [\n",
    "    cp.sum(w) == 1,       # weights sum to 1\n",
    "    mu @ w == rho         # target average return\n",
    "]\n",
    "\n",
    "# Define the objective (least squares formulation)\n",
    "objective = cp.Minimize(cp.norm(R @ w - rho, 2))\n",
    "\n",
    "# Solve the problem\n",
    "problem = cp.Problem(objective, constraints)\n",
    "problem.solve()\n",
    "\n",
    "# Output results\n",
    "print(\"Optimal weights w:\", w.value)\n",
    "print(\"Achieved average return:\", mu.T @ w.value)\n",
    "print(\"Portfolio risk (std dev of returns):\", np.std(R @ w.value))\n"
   ]
  },
  {
   "cell_type": "markdown",
   "metadata": {},
   "source": [
    "### No Shorting"
   ]
  },
  {
   "cell_type": "markdown",
   "metadata": {},
   "source": [
    "Short answer: make it a long-only QP by adding nonnegativity plus the usual budget constraint.\n",
    "Constraints for “no shorting”\n",
    "No-shorting: \n",
    "w\n",
    "≥\n",
    "0\n",
    "w≥0 (elementwise)\n",
    "Fully invested / unit leverage (long-only): \n",
    "1\n",
    "⊤\n",
    "w\n",
    "=\n",
    "1\n",
    "1 \n",
    "⊤\n",
    " w=1\n",
    "If you also want a target return, include\n",
    "Target return (per period): \n",
    "μ\n",
    "⊤\n",
    "w\n",
    "=\n",
    "ρ\n",
    "μ \n",
    "⊤\n",
    " w=ρ\n",
    "(or \n",
    "μ\n",
    "⊤\n",
    "w\n",
    "≥\n",
    "ρ\n",
    "μ \n",
    "⊤\n",
    " w≥ρ if you want feasibility more often)\n",
    "Objective (two standard ways)\n",
    "Markowitz mean–variance (cleanest):\n",
    "min\n",
    "⁡\n",
    "w\n",
    "  \n",
    "w\n",
    "⊤\n",
    "Σ\n",
    "w\n",
    "s.t. \n",
    "1\n",
    "⊤\n",
    "w\n",
    "=\n",
    "1\n",
    ",\n",
    "  \n",
    "μ\n",
    "⊤\n",
    "w\n",
    "≥\n",
    "ρ\n",
    ",\n",
    "  \n",
    "w\n",
    "≥\n",
    "0\n",
    ",\n",
    "w\n",
    "min\n",
    "​\t\n",
    " w \n",
    "⊤\n",
    " Σws.t. 1 \n",
    "⊤\n",
    " w=1,μ \n",
    "⊤\n",
    " w≥ρ,w≥0,\n",
    "where \n",
    "Σ\n",
    "Σ is the sample covariance of returns and \n",
    "μ\n",
    "μ their mean (same frequency as your data).\n",
    "Your least-squares formulation (fits constant return each period):\n",
    "min\n",
    "⁡\n",
    "w\n",
    "  \n",
    "∥\n",
    "R\n",
    "w\n",
    "−\n",
    "ρ\n",
    "1\n",
    "∥\n",
    "2\n",
    "2\n",
    "s.t. \n",
    "1\n",
    "⊤\n",
    "w\n",
    "=\n",
    "1\n",
    ",\n",
    "  \n",
    "w\n",
    "≥\n",
    "0\n",
    "w\n",
    "min\n",
    "​\t\n",
    " ∥Rw−ρ1∥ \n",
    "2\n",
    "2\n",
    "​\t\n",
    " s.t. 1 \n",
    "⊤\n",
    " w=1,w≥0\n",
    "(and optionally \n",
    "μ\n",
    "⊤\n",
    "w\n",
    "=\n",
    "ρ\n",
    "μ \n",
    "⊤\n",
    " w=ρ, but that can make the problem infeasible under long-only).\n",
    "Your current “solve a linear system” approach won’t work with \n",
    "w\n",
    "≥\n",
    "0\n",
    "w≥0. You need a QP/convex solver.\n",
    "Practical notes\n",
    "Feasibility: With \n",
    "w\n",
    "≥\n",
    "0\n",
    "w≥0, not every \n",
    "ρ\n",
    "ρ is attainable. You must have \n",
    "ρ\n",
    "∈\n",
    "[\n",
    "min\n",
    "⁡\n",
    "j\n",
    "μ\n",
    "j\n",
    ",\n",
    " \n",
    "max\n",
    "⁡\n",
    "j\n",
    "μ\n",
    "j\n",
    "]\n",
    "ρ∈[min \n",
    "j\n",
    "​\t\n",
    " μ \n",
    "j\n",
    "​\t\n",
    " , max \n",
    "j\n",
    "​\t\n",
    " μ \n",
    "j\n",
    "​\t\n",
    " ] (same data frequency).\n",
    "Annual vs per-period: If you want an annual target \n",
    "ρ\n",
    "ann\n",
    "ρ \n",
    "ann\n",
    "​\t\n",
    "  but your data are daily (m periods/year), convert to per-period:\n",
    "ρ\n",
    "=\n",
    "(\n",
    "1\n",
    "+\n",
    "ρ\n",
    "ann\n",
    ")\n",
    "1\n",
    "/\n",
    "m\n",
    "−\n",
    "1\n",
    "ρ=(1+ρ \n",
    "ann\n",
    "​\t\n",
    " ) \n",
    "1/m\n",
    " −1\n",
    "Stability: Use shrinkage for \n",
    "Σ\n",
    "Σ (e.g., Ledoit–Wolf) if \n",
    "n\n",
    "n is not tiny."
   ]
  },
  {
   "cell_type": "code",
   "execution_count": 21,
   "metadata": {},
   "outputs": [],
   "source": [
    "# R: T x n matrix of (per-period) returns\n",
    "T, n = R.shape\n",
    "mu = R.mean(axis=0)                 # mean per-period returns\n",
    "Sigma = np.cov(R, rowvar=False)     # covariance (per-period)\n",
    "\n",
    "w = cp.Variable(n)\n",
    "rho = cp.Parameter(nonneg=False)    # target per-period return\n",
    "\n",
    "constraints = [\n",
    "    cp.sum(w) == 1,\n",
    "    w >= 0,\n",
    "    mu @ w >= rho\n",
    "]\n",
    "objective = cp.Minimize(cp.quad_form(w, Sigma))\n",
    "prob = cp.Problem(objective, constraints)\n",
    "\n",
    "# Remove the years_in_data calculation - it's not needed\n",
    "# years_in_data = T / 252  # DELETE THIS LINE\n",
    "\n",
    "# Use T directly for annualization\n",
    "rho_ann_grid = np.linspace(0.00, 1, 101)  # 0%..100% annual target\n",
    "\n",
    "weights = np.full((len(rho_ann_grid), n), np.nan)\n",
    "risk_ann = np.full(len(rho_ann_grid), np.nan)\n",
    "ret_ann = np.full(len(rho_ann_grid), np.nan)\n",
    "\n",
    "for i, rho_ann in enumerate(rho_ann_grid):\n",
    "    rho.value = (1 + rho_ann)**(1/T) - 1        # per-period target\n",
    "    prob.solve(solver=cp.OSQP, eps_abs=1e-8, eps_rel=1e-8)\n",
    "    if w.value is None:\n",
    "        continue\n",
    "    w_star = np.array(w.value).ravel()\n",
    "    weights[i, :] = w_star\n",
    "\n",
    "    # per-period moments\n",
    "    mu_p = mu @ w_star\n",
    "    var_p = w_star @ Sigma @ w_star\n",
    "    # annualize using T (consistent with your mathematical framework)\n",
    "    ret_ann[i] = (1 + mu_p)**T - 1\n",
    "    risk_ann[i] = np.sqrt(var_p) * np.sqrt(T)"
   ]
  },
  {
   "cell_type": "code",
   "execution_count": 22,
   "metadata": {},
   "outputs": [
    {
     "data": {
      "application/vnd.plotly.v1+json": {
       "config": {
        "plotlyServerURL": "https://plot.ly"
       },
       "data": [
        {
         "marker": {
          "size": 8
         },
         "mode": "markers",
         "type": "scatter",
         "x": {
          "bdata": "xMA3Oaa5SkB6okw5prlKQB7hMjmmuUpAY2cxOaa5SkDIUTE5prlKQIZQMTmmuUpAe1AxOaa5SkB6UDE5prlKQHpQMTmmuUpAe1AxOaa5SkB4UDE5prlKQHhQMTmmuUpAd1AxOaa5SkB4UDE5prlKQHhQMTmmuUpAeFAxOaa5SkB4UDE5prlKQHhQMTmmuUpAeFAxOaa5SkB4UDE5prlKQHhQMTmmuUpAeFAxOaa5SkB4UDE5prlKQHhQMTmmuUpAeFAxOaa5SkB3UDE5prlKQH1QMTmmuUpAiFAxOaa5SkCJUDE5prlKQIZQMTmmuUpAhlAxOaa5SkB4UDE5prlKQHdQMTmmuUpAeFAxOaa5SkB6UDE5prlKQHhQMTmmuUpAeFAxOaa5SkB6UDE5prlKQHpQMTmmuUpAeFAxOaa5SkB4UDE5prlKQHhQMTmmuUpAeFAxOaa5SkB9UDE5prlKQHhQMTmmuUpAdVAxOaa5SkB6UDE5prlKQHpQMTmmuUpAelAxOaa5SkB4UDE5prlKQHpQMTmmuUpAelAxOaa5SkB3UDE5prlKQHpQMTmmuUpAeFAxOaa5SkB4UDE5prlKQHhQMTmmuUpAeFAxOaa5SkB4UDE5prlKQHhQMTmmuUpAelAxOaa5SkB6UDE5prlKQHhQMTmmuUpAe1AxOaa5SkB4UDE5prlKQHhQMTmmuUpAeFAxOaa5SkB4UDE5prlKQHpQMTmmuUpAeFAxOaa5SkB4UDE5prlKQHhQMTmmuUpAeFAxOaa5SkB4UDE5prlKQHhQMTmmuUpAeFAxOaa5SkB4UDE5prlKQHhQMTmmuUpAelAxOaa5SkB4UDE5prlKQHhQMTmmuUpAeFAxOaa5SkB9UDE5prlKQHhQMTmmuUpAd1AxOaa5SkB4UDE5prlKQHpQMTmmuUpAelAxOaa5SkB6UDE5prlKQHpQMTmmuUpAeFAxOaa5SkB6UDE5prlKQHhQMTmmuUpAeFAxOaa5SkB4UDE5prlKQHpQMTmmuUpAelAxOaa5SkB7UDE5prlKQHhQMTmmuUpAeFAxOaa5SkB6UDE5prlKQA==",
          "dtype": "f8"
         },
         "y": {
          "bdata": "lgH1znu1ZEB2nqSZi7VkQOM3ZoKMtWRApB+1j4y1ZECo9HeQjLVkQJgag5CMtWRAqraDkIy1ZECqtoOQjLVkQKq2g5CMtWRAqraDkIy1ZECqtoOQjLVkQKq2g5CMtWRAqraDkIy1ZECqtoOQjLVkQKq2g5CMtWRAqraDkIy1ZECqtoOQjLVkQKq2g5CMtWRAqraDkIy1ZECqtoOQjLVkQKq2g5CMtWRAqraDkIy1ZECqtoOQjLVkQKq2g5CMtWRAqraDkIy1ZECqtoOQjLVkQKq2g5CMtWRAqraDkIy1ZECqtoOQjLVkQKq2g5CMtWRAqraDkIy1ZECqtoOQjLVkQKq2g5CMtWRAqraDkIy1ZECqtoOQjLVkQKq2g5CMtWRAqraDkIy1ZECqtoOQjLVkQKq2g5CMtWRAqraDkIy1ZECqtoOQjLVkQKq2g5CMtWRAqraDkIy1ZECqtoOQjLVkQKq2g5CMtWRAqraDkIy1ZECqtoOQjLVkQKq2g5CMtWRAqraDkIy1ZECqtoOQjLVkQKq2g5CMtWRAqraDkIy1ZECqtoOQjLVkQKq2g5CMtWRAqraDkIy1ZECqtoOQjLVkQKq2g5CMtWRAqraDkIy1ZECqtoOQjLVkQKq2g5CMtWRAqraDkIy1ZECqtoOQjLVkQKq2g5CMtWRAqraDkIy1ZECqtoOQjLVkQKq2g5CMtWRAqraDkIy1ZECqtoOQjLVkQKq2g5CMtWRAqraDkIy1ZECqtoOQjLVkQKq2g5CMtWRAqraDkIy1ZECqtoOQjLVkQKq2g5CMtWRAqraDkIy1ZECqtoOQjLVkQKq2g5CMtWRAqraDkIy1ZECqtoOQjLVkQKq2g5CMtWRAqraDkIy1ZECqtoOQjLVkQKq2g5CMtWRAqraDkIy1ZECqtoOQjLVkQKq2g5CMtWRAqraDkIy1ZECqtoOQjLVkQKq2g5CMtWRAqraDkIy1ZECqtoOQjLVkQKq2g5CMtWRAqraDkIy1ZECqtoOQjLVkQKq2g5CMtWRAqraDkIy1ZECqtoOQjLVkQKq2g5CMtWRAqraDkIy1ZECqtoOQjLVkQA==",
          "dtype": "f8"
         }
        }
       ],
       "layout": {
        "template": {
         "data": {
          "bar": [
           {
            "error_x": {
             "color": "#2a3f5f"
            },
            "error_y": {
             "color": "#2a3f5f"
            },
            "marker": {
             "line": {
              "color": "#E5ECF6",
              "width": 0.5
             },
             "pattern": {
              "fillmode": "overlay",
              "size": 10,
              "solidity": 0.2
             }
            },
            "type": "bar"
           }
          ],
          "barpolar": [
           {
            "marker": {
             "line": {
              "color": "#E5ECF6",
              "width": 0.5
             },
             "pattern": {
              "fillmode": "overlay",
              "size": 10,
              "solidity": 0.2
             }
            },
            "type": "barpolar"
           }
          ],
          "carpet": [
           {
            "aaxis": {
             "endlinecolor": "#2a3f5f",
             "gridcolor": "white",
             "linecolor": "white",
             "minorgridcolor": "white",
             "startlinecolor": "#2a3f5f"
            },
            "baxis": {
             "endlinecolor": "#2a3f5f",
             "gridcolor": "white",
             "linecolor": "white",
             "minorgridcolor": "white",
             "startlinecolor": "#2a3f5f"
            },
            "type": "carpet"
           }
          ],
          "choropleth": [
           {
            "colorbar": {
             "outlinewidth": 0,
             "ticks": ""
            },
            "type": "choropleth"
           }
          ],
          "contour": [
           {
            "colorbar": {
             "outlinewidth": 0,
             "ticks": ""
            },
            "colorscale": [
             [
              0,
              "#0d0887"
             ],
             [
              0.1111111111111111,
              "#46039f"
             ],
             [
              0.2222222222222222,
              "#7201a8"
             ],
             [
              0.3333333333333333,
              "#9c179e"
             ],
             [
              0.4444444444444444,
              "#bd3786"
             ],
             [
              0.5555555555555556,
              "#d8576b"
             ],
             [
              0.6666666666666666,
              "#ed7953"
             ],
             [
              0.7777777777777778,
              "#fb9f3a"
             ],
             [
              0.8888888888888888,
              "#fdca26"
             ],
             [
              1,
              "#f0f921"
             ]
            ],
            "type": "contour"
           }
          ],
          "contourcarpet": [
           {
            "colorbar": {
             "outlinewidth": 0,
             "ticks": ""
            },
            "type": "contourcarpet"
           }
          ],
          "heatmap": [
           {
            "colorbar": {
             "outlinewidth": 0,
             "ticks": ""
            },
            "colorscale": [
             [
              0,
              "#0d0887"
             ],
             [
              0.1111111111111111,
              "#46039f"
             ],
             [
              0.2222222222222222,
              "#7201a8"
             ],
             [
              0.3333333333333333,
              "#9c179e"
             ],
             [
              0.4444444444444444,
              "#bd3786"
             ],
             [
              0.5555555555555556,
              "#d8576b"
             ],
             [
              0.6666666666666666,
              "#ed7953"
             ],
             [
              0.7777777777777778,
              "#fb9f3a"
             ],
             [
              0.8888888888888888,
              "#fdca26"
             ],
             [
              1,
              "#f0f921"
             ]
            ],
            "type": "heatmap"
           }
          ],
          "histogram": [
           {
            "marker": {
             "pattern": {
              "fillmode": "overlay",
              "size": 10,
              "solidity": 0.2
             }
            },
            "type": "histogram"
           }
          ],
          "histogram2d": [
           {
            "colorbar": {
             "outlinewidth": 0,
             "ticks": ""
            },
            "colorscale": [
             [
              0,
              "#0d0887"
             ],
             [
              0.1111111111111111,
              "#46039f"
             ],
             [
              0.2222222222222222,
              "#7201a8"
             ],
             [
              0.3333333333333333,
              "#9c179e"
             ],
             [
              0.4444444444444444,
              "#bd3786"
             ],
             [
              0.5555555555555556,
              "#d8576b"
             ],
             [
              0.6666666666666666,
              "#ed7953"
             ],
             [
              0.7777777777777778,
              "#fb9f3a"
             ],
             [
              0.8888888888888888,
              "#fdca26"
             ],
             [
              1,
              "#f0f921"
             ]
            ],
            "type": "histogram2d"
           }
          ],
          "histogram2dcontour": [
           {
            "colorbar": {
             "outlinewidth": 0,
             "ticks": ""
            },
            "colorscale": [
             [
              0,
              "#0d0887"
             ],
             [
              0.1111111111111111,
              "#46039f"
             ],
             [
              0.2222222222222222,
              "#7201a8"
             ],
             [
              0.3333333333333333,
              "#9c179e"
             ],
             [
              0.4444444444444444,
              "#bd3786"
             ],
             [
              0.5555555555555556,
              "#d8576b"
             ],
             [
              0.6666666666666666,
              "#ed7953"
             ],
             [
              0.7777777777777778,
              "#fb9f3a"
             ],
             [
              0.8888888888888888,
              "#fdca26"
             ],
             [
              1,
              "#f0f921"
             ]
            ],
            "type": "histogram2dcontour"
           }
          ],
          "mesh3d": [
           {
            "colorbar": {
             "outlinewidth": 0,
             "ticks": ""
            },
            "type": "mesh3d"
           }
          ],
          "parcoords": [
           {
            "line": {
             "colorbar": {
              "outlinewidth": 0,
              "ticks": ""
             }
            },
            "type": "parcoords"
           }
          ],
          "pie": [
           {
            "automargin": true,
            "type": "pie"
           }
          ],
          "scatter": [
           {
            "fillpattern": {
             "fillmode": "overlay",
             "size": 10,
             "solidity": 0.2
            },
            "type": "scatter"
           }
          ],
          "scatter3d": [
           {
            "line": {
             "colorbar": {
              "outlinewidth": 0,
              "ticks": ""
             }
            },
            "marker": {
             "colorbar": {
              "outlinewidth": 0,
              "ticks": ""
             }
            },
            "type": "scatter3d"
           }
          ],
          "scattercarpet": [
           {
            "marker": {
             "colorbar": {
              "outlinewidth": 0,
              "ticks": ""
             }
            },
            "type": "scattercarpet"
           }
          ],
          "scattergeo": [
           {
            "marker": {
             "colorbar": {
              "outlinewidth": 0,
              "ticks": ""
             }
            },
            "type": "scattergeo"
           }
          ],
          "scattergl": [
           {
            "marker": {
             "colorbar": {
              "outlinewidth": 0,
              "ticks": ""
             }
            },
            "type": "scattergl"
           }
          ],
          "scattermap": [
           {
            "marker": {
             "colorbar": {
              "outlinewidth": 0,
              "ticks": ""
             }
            },
            "type": "scattermap"
           }
          ],
          "scattermapbox": [
           {
            "marker": {
             "colorbar": {
              "outlinewidth": 0,
              "ticks": ""
             }
            },
            "type": "scattermapbox"
           }
          ],
          "scatterpolar": [
           {
            "marker": {
             "colorbar": {
              "outlinewidth": 0,
              "ticks": ""
             }
            },
            "type": "scatterpolar"
           }
          ],
          "scatterpolargl": [
           {
            "marker": {
             "colorbar": {
              "outlinewidth": 0,
              "ticks": ""
             }
            },
            "type": "scatterpolargl"
           }
          ],
          "scatterternary": [
           {
            "marker": {
             "colorbar": {
              "outlinewidth": 0,
              "ticks": ""
             }
            },
            "type": "scatterternary"
           }
          ],
          "surface": [
           {
            "colorbar": {
             "outlinewidth": 0,
             "ticks": ""
            },
            "colorscale": [
             [
              0,
              "#0d0887"
             ],
             [
              0.1111111111111111,
              "#46039f"
             ],
             [
              0.2222222222222222,
              "#7201a8"
             ],
             [
              0.3333333333333333,
              "#9c179e"
             ],
             [
              0.4444444444444444,
              "#bd3786"
             ],
             [
              0.5555555555555556,
              "#d8576b"
             ],
             [
              0.6666666666666666,
              "#ed7953"
             ],
             [
              0.7777777777777778,
              "#fb9f3a"
             ],
             [
              0.8888888888888888,
              "#fdca26"
             ],
             [
              1,
              "#f0f921"
             ]
            ],
            "type": "surface"
           }
          ],
          "table": [
           {
            "cells": {
             "fill": {
              "color": "#EBF0F8"
             },
             "line": {
              "color": "white"
             }
            },
            "header": {
             "fill": {
              "color": "#C8D4E3"
             },
             "line": {
              "color": "white"
             }
            },
            "type": "table"
           }
          ]
         },
         "layout": {
          "annotationdefaults": {
           "arrowcolor": "#2a3f5f",
           "arrowhead": 0,
           "arrowwidth": 1
          },
          "autotypenumbers": "strict",
          "coloraxis": {
           "colorbar": {
            "outlinewidth": 0,
            "ticks": ""
           }
          },
          "colorscale": {
           "diverging": [
            [
             0,
             "#8e0152"
            ],
            [
             0.1,
             "#c51b7d"
            ],
            [
             0.2,
             "#de77ae"
            ],
            [
             0.3,
             "#f1b6da"
            ],
            [
             0.4,
             "#fde0ef"
            ],
            [
             0.5,
             "#f7f7f7"
            ],
            [
             0.6,
             "#e6f5d0"
            ],
            [
             0.7,
             "#b8e186"
            ],
            [
             0.8,
             "#7fbc41"
            ],
            [
             0.9,
             "#4d9221"
            ],
            [
             1,
             "#276419"
            ]
           ],
           "sequential": [
            [
             0,
             "#0d0887"
            ],
            [
             0.1111111111111111,
             "#46039f"
            ],
            [
             0.2222222222222222,
             "#7201a8"
            ],
            [
             0.3333333333333333,
             "#9c179e"
            ],
            [
             0.4444444444444444,
             "#bd3786"
            ],
            [
             0.5555555555555556,
             "#d8576b"
            ],
            [
             0.6666666666666666,
             "#ed7953"
            ],
            [
             0.7777777777777778,
             "#fb9f3a"
            ],
            [
             0.8888888888888888,
             "#fdca26"
            ],
            [
             1,
             "#f0f921"
            ]
           ],
           "sequentialminus": [
            [
             0,
             "#0d0887"
            ],
            [
             0.1111111111111111,
             "#46039f"
            ],
            [
             0.2222222222222222,
             "#7201a8"
            ],
            [
             0.3333333333333333,
             "#9c179e"
            ],
            [
             0.4444444444444444,
             "#bd3786"
            ],
            [
             0.5555555555555556,
             "#d8576b"
            ],
            [
             0.6666666666666666,
             "#ed7953"
            ],
            [
             0.7777777777777778,
             "#fb9f3a"
            ],
            [
             0.8888888888888888,
             "#fdca26"
            ],
            [
             1,
             "#f0f921"
            ]
           ]
          },
          "colorway": [
           "#636efa",
           "#EF553B",
           "#00cc96",
           "#ab63fa",
           "#FFA15A",
           "#19d3f3",
           "#FF6692",
           "#B6E880",
           "#FF97FF",
           "#FECB52"
          ],
          "font": {
           "color": "#2a3f5f"
          },
          "geo": {
           "bgcolor": "white",
           "lakecolor": "white",
           "landcolor": "#E5ECF6",
           "showlakes": true,
           "showland": true,
           "subunitcolor": "white"
          },
          "hoverlabel": {
           "align": "left"
          },
          "hovermode": "closest",
          "mapbox": {
           "style": "light"
          },
          "paper_bgcolor": "white",
          "plot_bgcolor": "#E5ECF6",
          "polar": {
           "angularaxis": {
            "gridcolor": "white",
            "linecolor": "white",
            "ticks": ""
           },
           "bgcolor": "#E5ECF6",
           "radialaxis": {
            "gridcolor": "white",
            "linecolor": "white",
            "ticks": ""
           }
          },
          "scene": {
           "xaxis": {
            "backgroundcolor": "#E5ECF6",
            "gridcolor": "white",
            "gridwidth": 2,
            "linecolor": "white",
            "showbackground": true,
            "ticks": "",
            "zerolinecolor": "white"
           },
           "yaxis": {
            "backgroundcolor": "#E5ECF6",
            "gridcolor": "white",
            "gridwidth": 2,
            "linecolor": "white",
            "showbackground": true,
            "ticks": "",
            "zerolinecolor": "white"
           },
           "zaxis": {
            "backgroundcolor": "#E5ECF6",
            "gridcolor": "white",
            "gridwidth": 2,
            "linecolor": "white",
            "showbackground": true,
            "ticks": "",
            "zerolinecolor": "white"
           }
          },
          "shapedefaults": {
           "line": {
            "color": "#2a3f5f"
           }
          },
          "ternary": {
           "aaxis": {
            "gridcolor": "white",
            "linecolor": "white",
            "ticks": ""
           },
           "baxis": {
            "gridcolor": "white",
            "linecolor": "white",
            "ticks": ""
           },
           "bgcolor": "#E5ECF6",
           "caxis": {
            "gridcolor": "white",
            "linecolor": "white",
            "ticks": ""
           }
          },
          "title": {
           "x": 0.05
          },
          "xaxis": {
           "automargin": true,
           "gridcolor": "white",
           "linecolor": "white",
           "ticks": "",
           "title": {
            "standoff": 15
           },
           "zerolinecolor": "white",
           "zerolinewidth": 2
          },
          "yaxis": {
           "automargin": true,
           "gridcolor": "white",
           "linecolor": "white",
           "ticks": "",
           "title": {
            "standoff": 15
           },
           "zerolinecolor": "white",
           "zerolinewidth": 2
          }
         }
        },
        "title": {
         "text": "Risk-Return Tradeoff"
        },
        "xaxis": {
         "title": {
          "text": "Annualized Risk (%)"
         }
        },
        "yaxis": {
         "title": {
          "text": "Annualized Return (%)"
         }
        }
       }
      }
     },
     "metadata": {},
     "output_type": "display_data"
    }
   ],
   "source": [
    "plot_risk_return(risk_ann*100, ret_ann*100)"
   ]
  }
 ],
 "metadata": {
  "kernelspec": {
   "display_name": "algebra",
   "language": "python",
   "name": "python3"
  },
  "language_info": {
   "codemirror_mode": {
    "name": "ipython",
    "version": 3
   },
   "file_extension": ".py",
   "mimetype": "text/x-python",
   "name": "python",
   "nbconvert_exporter": "python",
   "pygments_lexer": "ipython3",
   "version": "3.12.9"
  }
 },
 "nbformat": 4,
 "nbformat_minor": 2
}
