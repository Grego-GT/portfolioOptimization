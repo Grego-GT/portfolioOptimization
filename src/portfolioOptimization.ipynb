{
 "cells": [
  {
   "cell_type": "markdown",
   "metadata": {
    "vscode": {
     "languageId": "raw"
    }
   },
   "source": [
    "# Final Project"
   ]
  },
  {
   "cell_type": "markdown",
   "metadata": {},
   "source": [
    "## Available Assets for Portfolio Optimization\n",
    "Here is a list of the available assets to consider in the portfolio:\n",
    "\n",
    "<table>\n",
    "  <thead>\n",
    "    <tr>\n",
    "      <th>Fund Name</th>\n",
    "      <th>Ticker</th>\n",
    "      <th>Inception Date</th>\n",
    "    </tr>\n",
    "  </thead>\n",
    "  <tbody>\n",
    "    <tr>\n",
    "      <td>JPMorgan Equity Income Fund - Class R6</td>\n",
    "      <td><a href=\"https://finance.yahoo.com/quote/OIEJX/history/\" target=\"_blank\">OIEJX</a></td>\n",
    "      <td>Jan 31, 2012</td>\n",
    "    </tr>\n",
    "    <tr>\n",
    "      <td>State Street Equity 500 Index K</td>\n",
    "      <td><a href=\"https://finance.yahoo.com/quote/SSSYX/history/\" target=\"_blank\">SSSYX</a></td>\n",
    "      <td>Sep 18, 2014</td>\n",
    "    </tr>\n",
    "    <tr>\n",
    "      <td>T. Rowe Price Dividend Growth</td>\n",
    "      <td><a href=\"https://finance.yahoo.com/quote/PRDGX/history/\" target=\"_blank\">PRDGX</a></td>\n",
    "      <td>Dec 31, 1992</td>\n",
    "    </tr>\n",
    "    <tr>\n",
    "      <td>American Funds Growth Fund of Amer R6</td>\n",
    "      <td><a href=\"https://finance.yahoo.com/quote/RGAGX/history/\" target=\"_blank\">RGAGX</a></td>\n",
    "      <td>May 1, 2009</td>\n",
    "    </tr>\n",
    "    <tr>\n",
    "      <td>Vanguard Mid Cap Index Admiral</td>\n",
    "      <td><a href=\"https://finance.yahoo.com/quote/VIMAX/history/\" target=\"_blank\">VIMAX</a></td>\n",
    "      <td>Nov 12, 2001</td>\n",
    "    </tr>\n",
    "    <tr>\n",
    "      <td>Vanguard Small Cap Value Index Admiral</td>\n",
    "      <td><a href=\"https://finance.yahoo.com/quote/VSIAX/history/\" target=\"_blank\">VSIAX</a></td>\n",
    "      <td>Sep 27, 2011</td>\n",
    "    </tr>\n",
    "  </tbody>\n",
    "</table>\n",
    "\n",
    "Historical data for these assets can be found on [Yahoo Finance website](https://finance.yahoo.com)\n",
    "\n",
    "Since the portfolio optimization problem requires grouping the time series of each asset into matrix $R$, they must be considered during the same periods. For this reason, only returns starting from the most restrictive case are considered, i.e., **from Sep 18, 2014 until Aug 27, 2025**.\n",
    "\n",
    "Data sources:\n",
    "<table>\n",
    "  <thead>\n",
    "    <tr>\n",
    "      <th>Ticker</th>\n",
    "    </tr>\n",
    "  </thead>\n",
    "  <tbody>\n",
    "    <tr>\n",
    "      <td><a href=\"https://finance.yahoo.com/quote/OIEJX/history/?period1=1410998400&period2=1756339200\" target=\"_blank\">OIEJX</a></td>\n",
    "    </tr>\n",
    "    <tr>\n",
    "      <td><a href=\"https://finance.yahoo.com/quote/SSSYX/history/?period1=1410998400&period2=1756339200\" target=\"_blank\">SSSYX</a></td>\n",
    "    </tr>\n",
    "    <tr>\n",
    "      <td><a href=\"https://finance.yahoo.com/quote/PRDGX/history/?period1=1410998400&period2=1756339200\" target=\"_blank\">PRDGX</a></td>\n",
    "    </tr>\n",
    "    <tr>\n",
    "      <td><a href=\"https://finance.yahoo.com/quote/RGAGX/history/?period1=1410998400&period2=1756339200\" target=\"_blank\">RGAGX</a></td>\n",
    "    </tr>\n",
    "    <tr>\n",
    "      <td><a href=\"https://finance.yahoo.com/quote/VIMAX/history/?period1=1410998400&period2=1756339200\" target=\"_blank\">VIMAX</a></td>\n",
    "    </tr>\n",
    "    <tr>\n",
    "      <td><a href=\"https://finance.yahoo.com/quote/VSIAX/history/?period1=1410998400&period2=1756339200\" target=\"_blank\">VSIAX</a></td>\n",
    "    </tr>\n",
    "  </tbody>\n",
    "</table>\n",
    "\n",
    "The service is behind a paywall since early 2025, but data is still accessible inspecting the html elements of the page."
   ]
  },
  {
   "cell_type": "code",
   "execution_count": null,
   "metadata": {},
   "outputs": [],
   "source": [
    "# Import necessary libraries\n",
    "import os\n",
    "from bs4 import BeautifulSoup\n",
    "import numpy as np\n",
    "import pandas as pd\n",
    "import cvxpy as cp\n",
    "import plotly.graph_objects as go\n",
    "import matplotlib.pyplot as plt"
   ]
  },
  {
   "cell_type": "markdown",
   "metadata": {},
   "source": [
    "## Ingestion"
   ]
  },
  {
   "cell_type": "code",
   "execution_count": 2,
   "metadata": {},
   "outputs": [],
   "source": [
    "def load_html_to_df(html_file):\n",
    "    \"\"\"\n",
    "    Reads a Yahoo Finance HTML file and returns a cleaned pandas DataFrame.\n",
    "    The columns (except 'date') are automatically prefixed with the file name.\n",
    "    \"\"\"\n",
    "    with open(html_file, 'r') as file:\n",
    "        html_content = file.read()\n",
    "\n",
    "    soup = BeautifulSoup(html_content, 'lxml')\n",
    "    table_rows = soup.find_all('tr')\n",
    "\n",
    "    data = []\n",
    "    for row in table_rows:\n",
    "        row_data = [cell.text.strip() for cell in row.find_all(['td', 'th'])]\n",
    "        if row_data:\n",
    "            data.append(row_data)\n",
    "\n",
    "    columns = ['date', 'open', 'high', 'low', 'close', 'adj_close', 'volume']\n",
    "    df = pd.DataFrame(data, columns=columns)\n",
    "    df['date'] = pd.to_datetime(df['date'])\n",
    "\n",
    "    prefix = os.path.splitext(os.path.basename(html_file))[0]\n",
    "    # Rename columns except 'date' by prefixing with the file name\n",
    "    df.columns = ['date'] + [f\"{prefix}_{col}\" for col in columns[1:]]\n",
    "\n",
    "    for col in df.columns[1:]:\n",
    "        df[col] = pd.to_numeric(df[col], errors='coerce', downcast='float')\n",
    "    df = df.sort_values('date', ascending=True).reset_index(drop=True)\n",
    "    \n",
    "    return df"
   ]
  },
  {
   "cell_type": "code",
   "execution_count": 3,
   "metadata": {},
   "outputs": [],
   "source": [
    "oiejx = load_html_to_df('../data/oiejx.html')\n",
    "sssyx = load_html_to_df('../data/sssyx.html')\n",
    "prdgx = load_html_to_df('../data/prdgx.html')\n",
    "rgagx = load_html_to_df('../data/rgagx.html')\n",
    "vimax = load_html_to_df('../data/vimax.html')\n",
    "vsiax = load_html_to_df('../data/vsiax.html')"
   ]
  },
  {
   "cell_type": "markdown",
   "metadata": {},
   "source": [
    "## Exploratory Data Analysis"
   ]
  },
  {
   "cell_type": "code",
   "execution_count": 4,
   "metadata": {},
   "outputs": [
    {
     "data": {
      "text/html": [
       "<div>\n",
       "<style scoped>\n",
       "    .dataframe tbody tr th:only-of-type {\n",
       "        vertical-align: middle;\n",
       "    }\n",
       "\n",
       "    .dataframe tbody tr th {\n",
       "        vertical-align: top;\n",
       "    }\n",
       "\n",
       "    .dataframe thead th {\n",
       "        text-align: right;\n",
       "    }\n",
       "</style>\n",
       "<table border=\"1\" class=\"dataframe\">\n",
       "  <thead>\n",
       "    <tr style=\"text-align: right;\">\n",
       "      <th></th>\n",
       "      <th>date</th>\n",
       "      <th>sssyx_open</th>\n",
       "      <th>sssyx_high</th>\n",
       "      <th>sssyx_low</th>\n",
       "      <th>sssyx_close</th>\n",
       "      <th>sssyx_adj_close</th>\n",
       "      <th>sssyx_volume</th>\n",
       "    </tr>\n",
       "  </thead>\n",
       "  <tbody>\n",
       "    <tr>\n",
       "      <th>0</th>\n",
       "      <td>2014-09-18</td>\n",
       "      <td>170.899994</td>\n",
       "      <td>170.899994</td>\n",
       "      <td>170.899994</td>\n",
       "      <td>170.899994</td>\n",
       "      <td>126.000000</td>\n",
       "      <td>NaN</td>\n",
       "    </tr>\n",
       "    <tr>\n",
       "      <th>1</th>\n",
       "      <td>2014-09-19</td>\n",
       "      <td>170.800003</td>\n",
       "      <td>170.800003</td>\n",
       "      <td>170.800003</td>\n",
       "      <td>170.800003</td>\n",
       "      <td>125.930000</td>\n",
       "      <td>NaN</td>\n",
       "    </tr>\n",
       "    <tr>\n",
       "      <th>2</th>\n",
       "      <td>2014-09-22</td>\n",
       "      <td>169.399994</td>\n",
       "      <td>169.399994</td>\n",
       "      <td>169.399994</td>\n",
       "      <td>169.399994</td>\n",
       "      <td>124.900002</td>\n",
       "      <td>NaN</td>\n",
       "    </tr>\n",
       "    <tr>\n",
       "      <th>3</th>\n",
       "      <td>2014-09-23</td>\n",
       "      <td>168.500000</td>\n",
       "      <td>168.500000</td>\n",
       "      <td>168.500000</td>\n",
       "      <td>168.500000</td>\n",
       "      <td>124.230003</td>\n",
       "      <td>NaN</td>\n",
       "    </tr>\n",
       "    <tr>\n",
       "      <th>4</th>\n",
       "      <td>2014-09-24</td>\n",
       "      <td>169.800003</td>\n",
       "      <td>169.800003</td>\n",
       "      <td>169.800003</td>\n",
       "      <td>169.800003</td>\n",
       "      <td>125.190002</td>\n",
       "      <td>NaN</td>\n",
       "    </tr>\n",
       "    <tr>\n",
       "      <th>...</th>\n",
       "      <td>...</td>\n",
       "      <td>...</td>\n",
       "      <td>...</td>\n",
       "      <td>...</td>\n",
       "      <td>...</td>\n",
       "      <td>...</td>\n",
       "      <td>...</td>\n",
       "    </tr>\n",
       "    <tr>\n",
       "      <th>2766</th>\n",
       "      <td>2025-08-21</td>\n",
       "      <td>479.130005</td>\n",
       "      <td>479.130005</td>\n",
       "      <td>479.130005</td>\n",
       "      <td>479.130005</td>\n",
       "      <td>479.130005</td>\n",
       "      <td>NaN</td>\n",
       "    </tr>\n",
       "    <tr>\n",
       "      <th>2767</th>\n",
       "      <td>2025-08-22</td>\n",
       "      <td>486.440002</td>\n",
       "      <td>486.440002</td>\n",
       "      <td>486.440002</td>\n",
       "      <td>486.440002</td>\n",
       "      <td>486.440002</td>\n",
       "      <td>NaN</td>\n",
       "    </tr>\n",
       "    <tr>\n",
       "      <th>2768</th>\n",
       "      <td>2025-08-25</td>\n",
       "      <td>484.369995</td>\n",
       "      <td>484.369995</td>\n",
       "      <td>484.369995</td>\n",
       "      <td>484.369995</td>\n",
       "      <td>484.369995</td>\n",
       "      <td>NaN</td>\n",
       "    </tr>\n",
       "    <tr>\n",
       "      <th>2769</th>\n",
       "      <td>2025-08-26</td>\n",
       "      <td>486.399994</td>\n",
       "      <td>486.399994</td>\n",
       "      <td>486.399994</td>\n",
       "      <td>486.399994</td>\n",
       "      <td>486.399994</td>\n",
       "      <td>NaN</td>\n",
       "    </tr>\n",
       "    <tr>\n",
       "      <th>2770</th>\n",
       "      <td>2025-08-27</td>\n",
       "      <td>487.559998</td>\n",
       "      <td>487.559998</td>\n",
       "      <td>487.559998</td>\n",
       "      <td>487.559998</td>\n",
       "      <td>487.559998</td>\n",
       "      <td>NaN</td>\n",
       "    </tr>\n",
       "  </tbody>\n",
       "</table>\n",
       "<p>2771 rows × 7 columns</p>\n",
       "</div>"
      ],
      "text/plain": [
       "           date  sssyx_open  sssyx_high   sssyx_low  sssyx_close  \\\n",
       "0    2014-09-18  170.899994  170.899994  170.899994   170.899994   \n",
       "1    2014-09-19  170.800003  170.800003  170.800003   170.800003   \n",
       "2    2014-09-22  169.399994  169.399994  169.399994   169.399994   \n",
       "3    2014-09-23  168.500000  168.500000  168.500000   168.500000   \n",
       "4    2014-09-24  169.800003  169.800003  169.800003   169.800003   \n",
       "...         ...         ...         ...         ...          ...   \n",
       "2766 2025-08-21  479.130005  479.130005  479.130005   479.130005   \n",
       "2767 2025-08-22  486.440002  486.440002  486.440002   486.440002   \n",
       "2768 2025-08-25  484.369995  484.369995  484.369995   484.369995   \n",
       "2769 2025-08-26  486.399994  486.399994  486.399994   486.399994   \n",
       "2770 2025-08-27  487.559998  487.559998  487.559998   487.559998   \n",
       "\n",
       "      sssyx_adj_close  sssyx_volume  \n",
       "0          126.000000           NaN  \n",
       "1          125.930000           NaN  \n",
       "2          124.900002           NaN  \n",
       "3          124.230003           NaN  \n",
       "4          125.190002           NaN  \n",
       "...               ...           ...  \n",
       "2766       479.130005           NaN  \n",
       "2767       486.440002           NaN  \n",
       "2768       484.369995           NaN  \n",
       "2769       486.399994           NaN  \n",
       "2770       487.559998           NaN  \n",
       "\n",
       "[2771 rows x 7 columns]"
      ]
     },
     "execution_count": 4,
     "metadata": {},
     "output_type": "execute_result"
    }
   ],
   "source": [
    "sssyx"
   ]
  },
  {
   "cell_type": "markdown",
   "metadata": {},
   "source": [
    "We can see that all columns are actually the same value. This is because mutual funds are priced once per day at their net asset value (NAV), not traded during the day like stocks. Since there’s only one price, data providers copy the NAV into all fields (open, high, low, close, adj close), and volume is usually zero or blank."
   ]
  },
  {
   "cell_type": "code",
   "execution_count": 5,
   "metadata": {},
   "outputs": [
    {
     "name": "stdout",
     "output_type": "stream",
     "text": [
      "<class 'pandas.core.frame.DataFrame'>\n",
      "RangeIndex: 2771 entries, 0 to 2770\n",
      "Data columns (total 7 columns):\n",
      " #   Column           Non-Null Count  Dtype         \n",
      "---  ------           --------------  -----         \n",
      " 0   date             2771 non-null   datetime64[ns]\n",
      " 1   sssyx_open       2752 non-null   float32       \n",
      " 2   sssyx_high       2752 non-null   float32       \n",
      " 3   sssyx_low        2752 non-null   float32       \n",
      " 4   sssyx_close      2752 non-null   float32       \n",
      " 5   sssyx_adj_close  2752 non-null   float32       \n",
      " 6   sssyx_volume     0 non-null      float32       \n",
      "dtypes: datetime64[ns](1), float32(6)\n",
      "memory usage: 86.7 KB\n"
     ]
    },
    {
     "data": {
      "text/html": [
       "<div>\n",
       "<style scoped>\n",
       "    .dataframe tbody tr th:only-of-type {\n",
       "        vertical-align: middle;\n",
       "    }\n",
       "\n",
       "    .dataframe tbody tr th {\n",
       "        vertical-align: top;\n",
       "    }\n",
       "\n",
       "    .dataframe thead th {\n",
       "        text-align: right;\n",
       "    }\n",
       "</style>\n",
       "<table border=\"1\" class=\"dataframe\">\n",
       "  <thead>\n",
       "    <tr style=\"text-align: right;\">\n",
       "      <th></th>\n",
       "      <th>date</th>\n",
       "      <th>sssyx_open</th>\n",
       "      <th>sssyx_high</th>\n",
       "      <th>sssyx_low</th>\n",
       "      <th>sssyx_close</th>\n",
       "      <th>sssyx_adj_close</th>\n",
       "      <th>sssyx_volume</th>\n",
       "    </tr>\n",
       "  </thead>\n",
       "  <tbody>\n",
       "    <tr>\n",
       "      <th>count</th>\n",
       "      <td>2771</td>\n",
       "      <td>2752.000000</td>\n",
       "      <td>2752.000000</td>\n",
       "      <td>2752.000000</td>\n",
       "      <td>2752.000000</td>\n",
       "      <td>2752.000000</td>\n",
       "      <td>0.0</td>\n",
       "    </tr>\n",
       "    <tr>\n",
       "      <th>mean</th>\n",
       "      <td>2020-03-06 18:55:59.653554688</td>\n",
       "      <td>271.758911</td>\n",
       "      <td>271.758911</td>\n",
       "      <td>271.758911</td>\n",
       "      <td>271.758911</td>\n",
       "      <td>244.565323</td>\n",
       "      <td>NaN</td>\n",
       "    </tr>\n",
       "    <tr>\n",
       "      <th>min</th>\n",
       "      <td>2014-09-18 00:00:00</td>\n",
       "      <td>154.000000</td>\n",
       "      <td>154.000000</td>\n",
       "      <td>154.000000</td>\n",
       "      <td>154.000000</td>\n",
       "      <td>116.860001</td>\n",
       "      <td>NaN</td>\n",
       "    </tr>\n",
       "    <tr>\n",
       "      <th>25%</th>\n",
       "      <td>2017-06-14 12:00:00</td>\n",
       "      <td>202.100006</td>\n",
       "      <td>202.100006</td>\n",
       "      <td>202.100006</td>\n",
       "      <td>202.100006</td>\n",
       "      <td>159.970001</td>\n",
       "      <td>NaN</td>\n",
       "    </tr>\n",
       "    <tr>\n",
       "      <th>50%</th>\n",
       "      <td>2020-03-09 00:00:00</td>\n",
       "      <td>242.250000</td>\n",
       "      <td>242.250000</td>\n",
       "      <td>242.250000</td>\n",
       "      <td>242.250000</td>\n",
       "      <td>215.054993</td>\n",
       "      <td>NaN</td>\n",
       "    </tr>\n",
       "    <tr>\n",
       "      <th>75%</th>\n",
       "      <td>2022-11-28 12:00:00</td>\n",
       "      <td>331.987518</td>\n",
       "      <td>331.987518</td>\n",
       "      <td>331.987518</td>\n",
       "      <td>331.987518</td>\n",
       "      <td>313.332489</td>\n",
       "      <td>NaN</td>\n",
       "    </tr>\n",
       "    <tr>\n",
       "      <th>max</th>\n",
       "      <td>2025-08-27 00:00:00</td>\n",
       "      <td>487.559998</td>\n",
       "      <td>487.559998</td>\n",
       "      <td>487.559998</td>\n",
       "      <td>487.559998</td>\n",
       "      <td>487.559998</td>\n",
       "      <td>NaN</td>\n",
       "    </tr>\n",
       "    <tr>\n",
       "      <th>std</th>\n",
       "      <td>NaN</td>\n",
       "      <td>85.183502</td>\n",
       "      <td>85.183502</td>\n",
       "      <td>85.183502</td>\n",
       "      <td>85.183502</td>\n",
       "      <td>98.743935</td>\n",
       "      <td>NaN</td>\n",
       "    </tr>\n",
       "  </tbody>\n",
       "</table>\n",
       "</div>"
      ],
      "text/plain": [
       "                                date   sssyx_open   sssyx_high    sssyx_low  \\\n",
       "count                           2771  2752.000000  2752.000000  2752.000000   \n",
       "mean   2020-03-06 18:55:59.653554688   271.758911   271.758911   271.758911   \n",
       "min              2014-09-18 00:00:00   154.000000   154.000000   154.000000   \n",
       "25%              2017-06-14 12:00:00   202.100006   202.100006   202.100006   \n",
       "50%              2020-03-09 00:00:00   242.250000   242.250000   242.250000   \n",
       "75%              2022-11-28 12:00:00   331.987518   331.987518   331.987518   \n",
       "max              2025-08-27 00:00:00   487.559998   487.559998   487.559998   \n",
       "std                              NaN    85.183502    85.183502    85.183502   \n",
       "\n",
       "       sssyx_close  sssyx_adj_close  sssyx_volume  \n",
       "count  2752.000000      2752.000000           0.0  \n",
       "mean    271.758911       244.565323           NaN  \n",
       "min     154.000000       116.860001           NaN  \n",
       "25%     202.100006       159.970001           NaN  \n",
       "50%     242.250000       215.054993           NaN  \n",
       "75%     331.987518       313.332489           NaN  \n",
       "max     487.559998       487.559998           NaN  \n",
       "std      85.183502        98.743935           NaN  "
      ]
     },
     "execution_count": 5,
     "metadata": {},
     "output_type": "execute_result"
    }
   ],
   "source": [
    "sssyx.info()\n",
    "sssyx.describe()"
   ]
  },
  {
   "cell_type": "markdown",
   "metadata": {},
   "source": [
    "## Preprocessing"
   ]
  },
  {
   "cell_type": "markdown",
   "metadata": {},
   "source": [
    "### Feature selection\n",
    "Since we only need one column, we'll just keep the first one."
   ]
  },
  {
   "cell_type": "code",
   "execution_count": 6,
   "metadata": {},
   "outputs": [],
   "source": [
    "oiejx = oiejx.iloc[:, :2]\n",
    "sssyx = sssyx.iloc[:, :2]\n",
    "prdgx = prdgx.iloc[:, :2]\n",
    "rgagx = rgagx.iloc[:, :2]\n",
    "vimax = vimax.iloc[:, :2]\n",
    "vsiax = vsiax.iloc[:, :2]"
   ]
  },
  {
   "cell_type": "code",
   "execution_count": 7,
   "metadata": {},
   "outputs": [
    {
     "data": {
      "text/html": [
       "<div>\n",
       "<style scoped>\n",
       "    .dataframe tbody tr th:only-of-type {\n",
       "        vertical-align: middle;\n",
       "    }\n",
       "\n",
       "    .dataframe tbody tr th {\n",
       "        vertical-align: top;\n",
       "    }\n",
       "\n",
       "    .dataframe thead th {\n",
       "        text-align: right;\n",
       "    }\n",
       "</style>\n",
       "<table border=\"1\" class=\"dataframe\">\n",
       "  <thead>\n",
       "    <tr style=\"text-align: right;\">\n",
       "      <th></th>\n",
       "      <th>date</th>\n",
       "      <th>sssyx_open</th>\n",
       "    </tr>\n",
       "  </thead>\n",
       "  <tbody>\n",
       "    <tr>\n",
       "      <th>0</th>\n",
       "      <td>2014-09-18</td>\n",
       "      <td>170.899994</td>\n",
       "    </tr>\n",
       "    <tr>\n",
       "      <th>1</th>\n",
       "      <td>2014-09-19</td>\n",
       "      <td>170.800003</td>\n",
       "    </tr>\n",
       "    <tr>\n",
       "      <th>2</th>\n",
       "      <td>2014-09-22</td>\n",
       "      <td>169.399994</td>\n",
       "    </tr>\n",
       "    <tr>\n",
       "      <th>3</th>\n",
       "      <td>2014-09-23</td>\n",
       "      <td>168.500000</td>\n",
       "    </tr>\n",
       "    <tr>\n",
       "      <th>4</th>\n",
       "      <td>2014-09-24</td>\n",
       "      <td>169.800003</td>\n",
       "    </tr>\n",
       "    <tr>\n",
       "      <th>...</th>\n",
       "      <td>...</td>\n",
       "      <td>...</td>\n",
       "    </tr>\n",
       "    <tr>\n",
       "      <th>2766</th>\n",
       "      <td>2025-08-21</td>\n",
       "      <td>479.130005</td>\n",
       "    </tr>\n",
       "    <tr>\n",
       "      <th>2767</th>\n",
       "      <td>2025-08-22</td>\n",
       "      <td>486.440002</td>\n",
       "    </tr>\n",
       "    <tr>\n",
       "      <th>2768</th>\n",
       "      <td>2025-08-25</td>\n",
       "      <td>484.369995</td>\n",
       "    </tr>\n",
       "    <tr>\n",
       "      <th>2769</th>\n",
       "      <td>2025-08-26</td>\n",
       "      <td>486.399994</td>\n",
       "    </tr>\n",
       "    <tr>\n",
       "      <th>2770</th>\n",
       "      <td>2025-08-27</td>\n",
       "      <td>487.559998</td>\n",
       "    </tr>\n",
       "  </tbody>\n",
       "</table>\n",
       "<p>2771 rows × 2 columns</p>\n",
       "</div>"
      ],
      "text/plain": [
       "           date  sssyx_open\n",
       "0    2014-09-18  170.899994\n",
       "1    2014-09-19  170.800003\n",
       "2    2014-09-22  169.399994\n",
       "3    2014-09-23  168.500000\n",
       "4    2014-09-24  169.800003\n",
       "...         ...         ...\n",
       "2766 2025-08-21  479.130005\n",
       "2767 2025-08-22  486.440002\n",
       "2768 2025-08-25  484.369995\n",
       "2769 2025-08-26  486.399994\n",
       "2770 2025-08-27  487.559998\n",
       "\n",
       "[2771 rows x 2 columns]"
      ]
     },
     "execution_count": 7,
     "metadata": {},
     "output_type": "execute_result"
    }
   ],
   "source": [
    "sssyx"
   ]
  },
  {
   "cell_type": "markdown",
   "metadata": {},
   "source": [
    "### Cleaning\n",
    "Inspecting the missing values, we can see that those really happen at the end of the year, where dividends are usually distributed."
   ]
  },
  {
   "cell_type": "code",
   "execution_count": 8,
   "metadata": {},
   "outputs": [
    {
     "data": {
      "text/plain": [
       "68     2014-12-23\n",
       "320    2015-12-23\n",
       "575    2016-12-23\n",
       "826    2017-12-22\n",
       "828    2017-12-22\n",
       "1081   2018-12-27\n",
       "1083   2018-12-27\n",
       "1336   2019-12-27\n",
       "1337   2019-12-27\n",
       "1414   2020-04-20\n",
       "1591   2020-12-29\n",
       "1593   2020-12-29\n",
       "1844   2021-12-28\n",
       "1845   2021-12-28\n",
       "2098   2022-12-27\n",
       "2099   2022-12-27\n",
       "2349   2023-12-26\n",
       "2351   2023-12-26\n",
       "2604   2024-12-26\n",
       "Name: date, dtype: datetime64[ns]"
      ]
     },
     "execution_count": 8,
     "metadata": {},
     "output_type": "execute_result"
    }
   ],
   "source": [
    "sssyx[sssyx.iloc[:, 1].isna()]['date']"
   ]
  },
  {
   "cell_type": "code",
   "execution_count": 9,
   "metadata": {},
   "outputs": [
    {
     "data": {
      "text/html": [
       "<div>\n",
       "<style scoped>\n",
       "    .dataframe tbody tr th:only-of-type {\n",
       "        vertical-align: middle;\n",
       "    }\n",
       "\n",
       "    .dataframe tbody tr th {\n",
       "        vertical-align: top;\n",
       "    }\n",
       "\n",
       "    .dataframe thead th {\n",
       "        text-align: right;\n",
       "    }\n",
       "</style>\n",
       "<table border=\"1\" class=\"dataframe\">\n",
       "  <thead>\n",
       "    <tr style=\"text-align: right;\">\n",
       "      <th></th>\n",
       "      <th>date</th>\n",
       "      <th>sssyx_open</th>\n",
       "    </tr>\n",
       "  </thead>\n",
       "  <tbody>\n",
       "    <tr>\n",
       "      <th>1590</th>\n",
       "      <td>2020-12-28</td>\n",
       "      <td>290.700012</td>\n",
       "    </tr>\n",
       "    <tr>\n",
       "      <th>1591</th>\n",
       "      <td>2020-12-29</td>\n",
       "      <td>NaN</td>\n",
       "    </tr>\n",
       "    <tr>\n",
       "      <th>1592</th>\n",
       "      <td>2020-12-29</td>\n",
       "      <td>284.700012</td>\n",
       "    </tr>\n",
       "    <tr>\n",
       "      <th>1593</th>\n",
       "      <td>2020-12-29</td>\n",
       "      <td>NaN</td>\n",
       "    </tr>\n",
       "    <tr>\n",
       "      <th>1594</th>\n",
       "      <td>2020-12-30</td>\n",
       "      <td>285.109985</td>\n",
       "    </tr>\n",
       "  </tbody>\n",
       "</table>\n",
       "</div>"
      ],
      "text/plain": [
       "           date  sssyx_open\n",
       "1590 2020-12-28  290.700012\n",
       "1591 2020-12-29         NaN\n",
       "1592 2020-12-29  284.700012\n",
       "1593 2020-12-29         NaN\n",
       "1594 2020-12-30  285.109985"
      ]
     },
     "execution_count": 9,
     "metadata": {},
     "output_type": "execute_result"
    }
   ],
   "source": [
    "sssyx.iloc[1590:1595, :]"
   ]
  },
  {
   "cell_type": "markdown",
   "metadata": {},
   "source": [
    "As we can see, there aren't really missing days. It's actually that there are multiple entries for those days. So we can just drop NaN values."
   ]
  },
  {
   "cell_type": "code",
   "execution_count": 10,
   "metadata": {},
   "outputs": [
    {
     "data": {
      "text/html": [
       "<div>\n",
       "<style scoped>\n",
       "    .dataframe tbody tr th:only-of-type {\n",
       "        vertical-align: middle;\n",
       "    }\n",
       "\n",
       "    .dataframe tbody tr th {\n",
       "        vertical-align: top;\n",
       "    }\n",
       "\n",
       "    .dataframe thead th {\n",
       "        text-align: right;\n",
       "    }\n",
       "</style>\n",
       "<table border=\"1\" class=\"dataframe\">\n",
       "  <thead>\n",
       "    <tr style=\"text-align: right;\">\n",
       "      <th></th>\n",
       "      <th>date</th>\n",
       "      <th>sssyx_open</th>\n",
       "    </tr>\n",
       "  </thead>\n",
       "  <tbody>\n",
       "    <tr>\n",
       "      <th>0</th>\n",
       "      <td>2014-09-18</td>\n",
       "      <td>170.899994</td>\n",
       "    </tr>\n",
       "    <tr>\n",
       "      <th>1</th>\n",
       "      <td>2014-09-19</td>\n",
       "      <td>170.800003</td>\n",
       "    </tr>\n",
       "    <tr>\n",
       "      <th>2</th>\n",
       "      <td>2014-09-22</td>\n",
       "      <td>169.399994</td>\n",
       "    </tr>\n",
       "    <tr>\n",
       "      <th>3</th>\n",
       "      <td>2014-09-23</td>\n",
       "      <td>168.500000</td>\n",
       "    </tr>\n",
       "    <tr>\n",
       "      <th>4</th>\n",
       "      <td>2014-09-24</td>\n",
       "      <td>169.800003</td>\n",
       "    </tr>\n",
       "    <tr>\n",
       "      <th>...</th>\n",
       "      <td>...</td>\n",
       "      <td>...</td>\n",
       "    </tr>\n",
       "    <tr>\n",
       "      <th>2766</th>\n",
       "      <td>2025-08-21</td>\n",
       "      <td>479.130005</td>\n",
       "    </tr>\n",
       "    <tr>\n",
       "      <th>2767</th>\n",
       "      <td>2025-08-22</td>\n",
       "      <td>486.440002</td>\n",
       "    </tr>\n",
       "    <tr>\n",
       "      <th>2768</th>\n",
       "      <td>2025-08-25</td>\n",
       "      <td>484.369995</td>\n",
       "    </tr>\n",
       "    <tr>\n",
       "      <th>2769</th>\n",
       "      <td>2025-08-26</td>\n",
       "      <td>486.399994</td>\n",
       "    </tr>\n",
       "    <tr>\n",
       "      <th>2770</th>\n",
       "      <td>2025-08-27</td>\n",
       "      <td>487.559998</td>\n",
       "    </tr>\n",
       "  </tbody>\n",
       "</table>\n",
       "<p>2752 rows × 2 columns</p>\n",
       "</div>"
      ],
      "text/plain": [
       "           date  sssyx_open\n",
       "0    2014-09-18  170.899994\n",
       "1    2014-09-19  170.800003\n",
       "2    2014-09-22  169.399994\n",
       "3    2014-09-23  168.500000\n",
       "4    2014-09-24  169.800003\n",
       "...         ...         ...\n",
       "2766 2025-08-21  479.130005\n",
       "2767 2025-08-22  486.440002\n",
       "2768 2025-08-25  484.369995\n",
       "2769 2025-08-26  486.399994\n",
       "2770 2025-08-27  487.559998\n",
       "\n",
       "[2752 rows x 2 columns]"
      ]
     },
     "execution_count": 10,
     "metadata": {},
     "output_type": "execute_result"
    }
   ],
   "source": [
    "oiejx.dropna(inplace=True)\n",
    "sssyx.dropna(inplace=True)\n",
    "prdgx.dropna(inplace=True)\n",
    "rgagx.dropna(inplace=True)\n",
    "vimax.dropna(inplace=True)\n",
    "vsiax.dropna(inplace=True)\n",
    "sssyx"
   ]
  },
  {
   "cell_type": "markdown",
   "metadata": {},
   "source": [
    "### Transformation of variables\n",
    "Next we need to calculate the fractional returns over every period. Since we're dealing with mutual funds, for a given asset $j$:\n",
    "\n",
    "$R_{t,j}$ is computed as $\\frac{Open_{t,j} - Open_{t-1,j}}{Open_{t-1,j}}$, that is the percent change of asset $j$ from period $t-1$ to $t$."
   ]
  },
  {
   "cell_type": "code",
   "execution_count": 11,
   "metadata": {},
   "outputs": [
    {
     "data": {
      "text/html": [
       "<div>\n",
       "<style scoped>\n",
       "    .dataframe tbody tr th:only-of-type {\n",
       "        vertical-align: middle;\n",
       "    }\n",
       "\n",
       "    .dataframe tbody tr th {\n",
       "        vertical-align: top;\n",
       "    }\n",
       "\n",
       "    .dataframe thead th {\n",
       "        text-align: right;\n",
       "    }\n",
       "</style>\n",
       "<table border=\"1\" class=\"dataframe\">\n",
       "  <thead>\n",
       "    <tr style=\"text-align: right;\">\n",
       "      <th></th>\n",
       "      <th>date</th>\n",
       "      <th>oiejx_open</th>\n",
       "      <th>oiejx_return</th>\n",
       "    </tr>\n",
       "  </thead>\n",
       "  <tbody>\n",
       "    <tr>\n",
       "      <th>0</th>\n",
       "      <td>2014-09-18</td>\n",
       "      <td>14.070000</td>\n",
       "      <td>NaN</td>\n",
       "    </tr>\n",
       "    <tr>\n",
       "      <th>1</th>\n",
       "      <td>2014-09-19</td>\n",
       "      <td>14.080000</td>\n",
       "      <td>0.000711</td>\n",
       "    </tr>\n",
       "    <tr>\n",
       "      <th>2</th>\n",
       "      <td>2014-09-22</td>\n",
       "      <td>13.970000</td>\n",
       "      <td>-0.007812</td>\n",
       "    </tr>\n",
       "    <tr>\n",
       "      <th>3</th>\n",
       "      <td>2014-09-23</td>\n",
       "      <td>13.880000</td>\n",
       "      <td>-0.006442</td>\n",
       "    </tr>\n",
       "    <tr>\n",
       "      <th>4</th>\n",
       "      <td>2014-09-24</td>\n",
       "      <td>13.970000</td>\n",
       "      <td>0.006484</td>\n",
       "    </tr>\n",
       "    <tr>\n",
       "      <th>...</th>\n",
       "      <td>...</td>\n",
       "      <td>...</td>\n",
       "      <td>...</td>\n",
       "    </tr>\n",
       "    <tr>\n",
       "      <th>2885</th>\n",
       "      <td>2025-08-21</td>\n",
       "      <td>25.850000</td>\n",
       "      <td>-0.001930</td>\n",
       "    </tr>\n",
       "    <tr>\n",
       "      <th>2886</th>\n",
       "      <td>2025-08-22</td>\n",
       "      <td>26.190001</td>\n",
       "      <td>0.013153</td>\n",
       "    </tr>\n",
       "    <tr>\n",
       "      <th>2887</th>\n",
       "      <td>2025-08-25</td>\n",
       "      <td>26.030001</td>\n",
       "      <td>-0.006109</td>\n",
       "    </tr>\n",
       "    <tr>\n",
       "      <th>2888</th>\n",
       "      <td>2025-08-26</td>\n",
       "      <td>26.110001</td>\n",
       "      <td>0.003073</td>\n",
       "    </tr>\n",
       "    <tr>\n",
       "      <th>2889</th>\n",
       "      <td>2025-08-27</td>\n",
       "      <td>26.120001</td>\n",
       "      <td>0.000383</td>\n",
       "    </tr>\n",
       "  </tbody>\n",
       "</table>\n",
       "<p>2752 rows × 3 columns</p>\n",
       "</div>"
      ],
      "text/plain": [
       "           date  oiejx_open  oiejx_return\n",
       "0    2014-09-18   14.070000           NaN\n",
       "1    2014-09-19   14.080000      0.000711\n",
       "2    2014-09-22   13.970000     -0.007812\n",
       "3    2014-09-23   13.880000     -0.006442\n",
       "4    2014-09-24   13.970000      0.006484\n",
       "...         ...         ...           ...\n",
       "2885 2025-08-21   25.850000     -0.001930\n",
       "2886 2025-08-22   26.190001      0.013153\n",
       "2887 2025-08-25   26.030001     -0.006109\n",
       "2888 2025-08-26   26.110001      0.003073\n",
       "2889 2025-08-27   26.120001      0.000383\n",
       "\n",
       "[2752 rows x 3 columns]"
      ]
     },
     "execution_count": 11,
     "metadata": {},
     "output_type": "execute_result"
    }
   ],
   "source": [
    "oiejx['oiejx_return'] = oiejx['oiejx_open'].pct_change()\n",
    "oiejx"
   ]
  },
  {
   "cell_type": "code",
   "execution_count": 12,
   "metadata": {},
   "outputs": [],
   "source": [
    "sssyx['sssyx_return'] = sssyx['sssyx_open'].pct_change()\n",
    "prdgx['prdgx_return'] = prdgx['prdgx_open'].pct_change()\n",
    "rgagx['rgagx_return'] = rgagx['rgagx_open'].pct_change()\n",
    "vimax['vimax_return'] = vimax['vimax_open'].pct_change()\n",
    "vsiax['vsiax_return'] = vsiax['vsiax_open'].pct_change()"
   ]
  },
  {
   "cell_type": "markdown",
   "metadata": {},
   "source": [
    "Drop the first value, as there is no percent change for that case."
   ]
  },
  {
   "cell_type": "code",
   "execution_count": 13,
   "metadata": {},
   "outputs": [
    {
     "data": {
      "text/html": [
       "<div>\n",
       "<style scoped>\n",
       "    .dataframe tbody tr th:only-of-type {\n",
       "        vertical-align: middle;\n",
       "    }\n",
       "\n",
       "    .dataframe tbody tr th {\n",
       "        vertical-align: top;\n",
       "    }\n",
       "\n",
       "    .dataframe thead th {\n",
       "        text-align: right;\n",
       "    }\n",
       "</style>\n",
       "<table border=\"1\" class=\"dataframe\">\n",
       "  <thead>\n",
       "    <tr style=\"text-align: right;\">\n",
       "      <th></th>\n",
       "      <th>date</th>\n",
       "      <th>sssyx_open</th>\n",
       "      <th>sssyx_return</th>\n",
       "    </tr>\n",
       "  </thead>\n",
       "  <tbody>\n",
       "    <tr>\n",
       "      <th>1</th>\n",
       "      <td>2014-09-19</td>\n",
       "      <td>170.800003</td>\n",
       "      <td>-0.000585</td>\n",
       "    </tr>\n",
       "    <tr>\n",
       "      <th>2</th>\n",
       "      <td>2014-09-22</td>\n",
       "      <td>169.399994</td>\n",
       "      <td>-0.008197</td>\n",
       "    </tr>\n",
       "    <tr>\n",
       "      <th>3</th>\n",
       "      <td>2014-09-23</td>\n",
       "      <td>168.500000</td>\n",
       "      <td>-0.005313</td>\n",
       "    </tr>\n",
       "    <tr>\n",
       "      <th>4</th>\n",
       "      <td>2014-09-24</td>\n",
       "      <td>169.800003</td>\n",
       "      <td>0.007715</td>\n",
       "    </tr>\n",
       "    <tr>\n",
       "      <th>5</th>\n",
       "      <td>2014-09-25</td>\n",
       "      <td>167.100006</td>\n",
       "      <td>-0.015901</td>\n",
       "    </tr>\n",
       "    <tr>\n",
       "      <th>...</th>\n",
       "      <td>...</td>\n",
       "      <td>...</td>\n",
       "      <td>...</td>\n",
       "    </tr>\n",
       "    <tr>\n",
       "      <th>2766</th>\n",
       "      <td>2025-08-21</td>\n",
       "      <td>479.130005</td>\n",
       "      <td>-0.003888</td>\n",
       "    </tr>\n",
       "    <tr>\n",
       "      <th>2767</th>\n",
       "      <td>2025-08-22</td>\n",
       "      <td>486.440002</td>\n",
       "      <td>0.015257</td>\n",
       "    </tr>\n",
       "    <tr>\n",
       "      <th>2768</th>\n",
       "      <td>2025-08-25</td>\n",
       "      <td>484.369995</td>\n",
       "      <td>-0.004255</td>\n",
       "    </tr>\n",
       "    <tr>\n",
       "      <th>2769</th>\n",
       "      <td>2025-08-26</td>\n",
       "      <td>486.399994</td>\n",
       "      <td>0.004191</td>\n",
       "    </tr>\n",
       "    <tr>\n",
       "      <th>2770</th>\n",
       "      <td>2025-08-27</td>\n",
       "      <td>487.559998</td>\n",
       "      <td>0.002385</td>\n",
       "    </tr>\n",
       "  </tbody>\n",
       "</table>\n",
       "<p>2751 rows × 3 columns</p>\n",
       "</div>"
      ],
      "text/plain": [
       "           date  sssyx_open  sssyx_return\n",
       "1    2014-09-19  170.800003     -0.000585\n",
       "2    2014-09-22  169.399994     -0.008197\n",
       "3    2014-09-23  168.500000     -0.005313\n",
       "4    2014-09-24  169.800003      0.007715\n",
       "5    2014-09-25  167.100006     -0.015901\n",
       "...         ...         ...           ...\n",
       "2766 2025-08-21  479.130005     -0.003888\n",
       "2767 2025-08-22  486.440002      0.015257\n",
       "2768 2025-08-25  484.369995     -0.004255\n",
       "2769 2025-08-26  486.399994      0.004191\n",
       "2770 2025-08-27  487.559998      0.002385\n",
       "\n",
       "[2751 rows x 3 columns]"
      ]
     },
     "execution_count": 13,
     "metadata": {},
     "output_type": "execute_result"
    }
   ],
   "source": [
    "oiejx.dropna(inplace=True)\n",
    "sssyx.dropna(inplace=True)\n",
    "prdgx.dropna(inplace=True)\n",
    "rgagx.dropna(inplace=True)\n",
    "vimax.dropna(inplace=True)\n",
    "vsiax.dropna(inplace=True)\n",
    "sssyx"
   ]
  },
  {
   "cell_type": "markdown",
   "metadata": {},
   "source": [
    "Finally, we just need to confirm how many days of available data are there every year."
   ]
  },
  {
   "cell_type": "code",
   "execution_count": 14,
   "metadata": {},
   "outputs": [
    {
     "data": {
      "text/plain": [
       "date\n",
       "2020    253\n",
       "2015    252\n",
       "2016    252\n",
       "2019    252\n",
       "2021    252\n",
       "2024    252\n",
       "2017    251\n",
       "2018    251\n",
       "2022    251\n",
       "2023    250\n",
       "2025    163\n",
       "2014     72\n",
       "Name: count, dtype: int64"
      ]
     },
     "execution_count": 14,
     "metadata": {},
     "output_type": "execute_result"
    }
   ],
   "source": [
    "sssyx['date'].dt.year.value_counts()"
   ]
  },
  {
   "cell_type": "markdown",
   "metadata": {},
   "source": [
    "### Merging the datasets\n",
    "Extracting the returns for all assets and putting them into the matrix R"
   ]
  },
  {
   "cell_type": "code",
   "execution_count": 15,
   "metadata": {},
   "outputs": [
    {
     "data": {
      "text/html": [
       "<div>\n",
       "<style scoped>\n",
       "    .dataframe tbody tr th:only-of-type {\n",
       "        vertical-align: middle;\n",
       "    }\n",
       "\n",
       "    .dataframe tbody tr th {\n",
       "        vertical-align: top;\n",
       "    }\n",
       "\n",
       "    .dataframe thead th {\n",
       "        text-align: right;\n",
       "    }\n",
       "</style>\n",
       "<table border=\"1\" class=\"dataframe\">\n",
       "  <thead>\n",
       "    <tr style=\"text-align: right;\">\n",
       "      <th></th>\n",
       "      <th>date</th>\n",
       "      <th>oiejx_return</th>\n",
       "      <th>sssyx_return</th>\n",
       "      <th>prdgx_return</th>\n",
       "      <th>rgagx_return</th>\n",
       "      <th>vimax_return</th>\n",
       "      <th>vsiax_return</th>\n",
       "    </tr>\n",
       "  </thead>\n",
       "  <tbody>\n",
       "    <tr>\n",
       "      <th>0</th>\n",
       "      <td>2014-09-19</td>\n",
       "      <td>0.000711</td>\n",
       "      <td>-0.000585</td>\n",
       "      <td>-0.001392</td>\n",
       "      <td>-0.000214</td>\n",
       "      <td>-0.002881</td>\n",
       "      <td>-0.007562</td>\n",
       "    </tr>\n",
       "    <tr>\n",
       "      <th>1</th>\n",
       "      <td>2014-09-22</td>\n",
       "      <td>-0.007812</td>\n",
       "      <td>-0.008197</td>\n",
       "      <td>-0.006689</td>\n",
       "      <td>-0.011536</td>\n",
       "      <td>-0.010750</td>\n",
       "      <td>-0.013671</td>\n",
       "    </tr>\n",
       "    <tr>\n",
       "      <th>2</th>\n",
       "      <td>2014-09-23</td>\n",
       "      <td>-0.006442</td>\n",
       "      <td>-0.005313</td>\n",
       "      <td>-0.005892</td>\n",
       "      <td>-0.005403</td>\n",
       "      <td>-0.006927</td>\n",
       "      <td>-0.009316</td>\n",
       "    </tr>\n",
       "    <tr>\n",
       "      <th>3</th>\n",
       "      <td>2014-09-24</td>\n",
       "      <td>0.006484</td>\n",
       "      <td>0.007715</td>\n",
       "      <td>0.007338</td>\n",
       "      <td>0.010430</td>\n",
       "      <td>0.007318</td>\n",
       "      <td>0.004587</td>\n",
       "    </tr>\n",
       "    <tr>\n",
       "      <th>4</th>\n",
       "      <td>2014-09-25</td>\n",
       "      <td>-0.014316</td>\n",
       "      <td>-0.015901</td>\n",
       "      <td>-0.014010</td>\n",
       "      <td>-0.015484</td>\n",
       "      <td>-0.013918</td>\n",
       "      <td>-0.013699</td>\n",
       "    </tr>\n",
       "    <tr>\n",
       "      <th>...</th>\n",
       "      <td>...</td>\n",
       "      <td>...</td>\n",
       "      <td>...</td>\n",
       "      <td>...</td>\n",
       "      <td>...</td>\n",
       "      <td>...</td>\n",
       "      <td>...</td>\n",
       "    </tr>\n",
       "    <tr>\n",
       "      <th>2746</th>\n",
       "      <td>2025-08-21</td>\n",
       "      <td>-0.001930</td>\n",
       "      <td>-0.003888</td>\n",
       "      <td>-0.003582</td>\n",
       "      <td>-0.003448</td>\n",
       "      <td>-0.003664</td>\n",
       "      <td>-0.001834</td>\n",
       "    </tr>\n",
       "    <tr>\n",
       "      <th>2747</th>\n",
       "      <td>2025-08-22</td>\n",
       "      <td>0.013153</td>\n",
       "      <td>0.015257</td>\n",
       "      <td>0.009466</td>\n",
       "      <td>0.019446</td>\n",
       "      <td>0.018698</td>\n",
       "      <td>0.031921</td>\n",
       "    </tr>\n",
       "    <tr>\n",
       "      <th>2748</th>\n",
       "      <td>2025-08-25</td>\n",
       "      <td>-0.006109</td>\n",
       "      <td>-0.004255</td>\n",
       "      <td>-0.007596</td>\n",
       "      <td>-0.004213</td>\n",
       "      <td>-0.007470</td>\n",
       "      <td>-0.006899</td>\n",
       "    </tr>\n",
       "    <tr>\n",
       "      <th>2749</th>\n",
       "      <td>2025-08-26</td>\n",
       "      <td>0.003073</td>\n",
       "      <td>0.004191</td>\n",
       "      <td>0.004066</td>\n",
       "      <td>0.006934</td>\n",
       "      <td>0.002210</td>\n",
       "      <td>0.003249</td>\n",
       "    </tr>\n",
       "    <tr>\n",
       "      <th>2750</th>\n",
       "      <td>2025-08-27</td>\n",
       "      <td>0.000383</td>\n",
       "      <td>0.002385</td>\n",
       "      <td>0.001310</td>\n",
       "      <td>0.001634</td>\n",
       "      <td>0.003852</td>\n",
       "      <td>0.006031</td>\n",
       "    </tr>\n",
       "  </tbody>\n",
       "</table>\n",
       "<p>2751 rows × 7 columns</p>\n",
       "</div>"
      ],
      "text/plain": [
       "           date  oiejx_return  sssyx_return  prdgx_return  rgagx_return  \\\n",
       "0    2014-09-19      0.000711     -0.000585     -0.001392     -0.000214   \n",
       "1    2014-09-22     -0.007812     -0.008197     -0.006689     -0.011536   \n",
       "2    2014-09-23     -0.006442     -0.005313     -0.005892     -0.005403   \n",
       "3    2014-09-24      0.006484      0.007715      0.007338      0.010430   \n",
       "4    2014-09-25     -0.014316     -0.015901     -0.014010     -0.015484   \n",
       "...         ...           ...           ...           ...           ...   \n",
       "2746 2025-08-21     -0.001930     -0.003888     -0.003582     -0.003448   \n",
       "2747 2025-08-22      0.013153      0.015257      0.009466      0.019446   \n",
       "2748 2025-08-25     -0.006109     -0.004255     -0.007596     -0.004213   \n",
       "2749 2025-08-26      0.003073      0.004191      0.004066      0.006934   \n",
       "2750 2025-08-27      0.000383      0.002385      0.001310      0.001634   \n",
       "\n",
       "      vimax_return  vsiax_return  \n",
       "0        -0.002881     -0.007562  \n",
       "1        -0.010750     -0.013671  \n",
       "2        -0.006927     -0.009316  \n",
       "3         0.007318      0.004587  \n",
       "4        -0.013918     -0.013699  \n",
       "...            ...           ...  \n",
       "2746     -0.003664     -0.001834  \n",
       "2747      0.018698      0.031921  \n",
       "2748     -0.007470     -0.006899  \n",
       "2749      0.002210      0.003249  \n",
       "2750      0.003852      0.006031  \n",
       "\n",
       "[2751 rows x 7 columns]"
      ]
     },
     "execution_count": 15,
     "metadata": {},
     "output_type": "execute_result"
    }
   ],
   "source": [
    "# Merge all dataframes on 'date' and keep only the return columns for each\n",
    "returns_df = oiejx[['date', 'oiejx_return']] \\\n",
    "    .merge(sssyx[['date', 'sssyx_return']], on='date', how='inner') \\\n",
    "    .merge(prdgx[['date', 'prdgx_return']], on='date', how='inner') \\\n",
    "    .merge(rgagx[['date', 'rgagx_return']], on='date', how='inner') \\\n",
    "    .merge(vimax[['date', 'vimax_return']], on='date', how='inner') \\\n",
    "    .merge(vsiax[['date', 'vsiax_return']], on='date', how='inner')\n",
    "\n",
    "returns_df.reset_index(drop=True, inplace=True)\n",
    "returns_df"
   ]
  },
  {
   "cell_type": "markdown",
   "metadata": {},
   "source": [
    "Let's add a risk-free asset in the last column, representing cash growing at a certain fixed rate.\n",
    "\n",
    "Consider an Annual Percentage Yield of 4%, which translated into daily returns becomes approximately $0.0107 \\%$. Computed as:\n",
    "\\begin{align*}\n",
    "  R_{tj} = (1 + APY)^{1/365} - 1\n",
    "\\end{align*}\n",
    "\n",
    "where $j = n$, meaning, the last column."
   ]
  },
  {
   "cell_type": "code",
   "execution_count": 16,
   "metadata": {},
   "outputs": [
    {
     "name": "stdout",
     "output_type": "stream",
     "text": [
      "Daily return of risk-free asset: 0.0102%\n"
     ]
    }
   ],
   "source": [
    "APY = 0.038\n",
    "muRF = (1+APY)**(1/365) - 1\n",
    "\n",
    "print(f\"Daily return of risk-free asset: {muRF*100:.4f}%\")"
   ]
  },
  {
   "cell_type": "code",
   "execution_count": 17,
   "metadata": {},
   "outputs": [],
   "source": [
    "returns_df['risk_free_return'] = muRF"
   ]
  },
  {
   "cell_type": "markdown",
   "metadata": {},
   "source": [
    "Finally, let's create 2 R matrices, one without the cash asset and and with it."
   ]
  },
  {
   "cell_type": "code",
   "execution_count": 18,
   "metadata": {},
   "outputs": [],
   "source": [
    "R = returns_df.iloc[:,1:-1].values\n",
    "R_rf = returns_df.iloc[:,1:].values"
   ]
  },
  {
   "cell_type": "markdown",
   "metadata": {},
   "source": [
    "## Constrained Least Squares Problem\n",
    "The optimal solution is:\n",
    "\\begin{align}\n",
    "    \\begin{bmatrix}w\\\\z_1\\\\z_2\\end{bmatrix} =\n",
    "    \\begin{bmatrix}\n",
    "        2R^TR & \\textbf{1} & \\mu\\\\\n",
    "        \\textbf{1}^T & 0 & 0\\\\\n",
    "        \\mu^T & 0 & 0\n",
    "    \\end{bmatrix}^{-1} \\begin{bmatrix}\n",
    "        2\\rho T\\mu\\\\\n",
    "        1\\\\\n",
    "        \\rho\n",
    "    \\end{bmatrix}\n",
    "\\end{align}"
   ]
  },
  {
   "cell_type": "markdown",
   "metadata": {},
   "source": [
    "The following function finds the optimal allocation weights for the desired portfolio return $\\rho$, and thus the portfolio risk . Using it to compute the weights for several $\\rho$ values, and obtain their associated risk values.\n",
    "\n",
    "**We choose to give the input in annualized and percentage form**, that is, the desired return after 1 year. The function then converts it to $\\rho$ appropriately.\n",
    "\n",
    "Examples:\n",
    "* `desired_annualized_return = 10` represents a desired 10% return for the year. So if the invested capital is $100, at the end of the year, the expected return is $10, for a total os $110 in assets.\n",
    "\n",
    "* `desired_annualized_return = 100` represents a desired 100% return for the year. So if the invested capital is $100, at the end of the year, the expected return is $100, for a total os $200 in assets.\n",
    "\n",
    "Additionally, the **function returns the risk in annualized and percentage form**.\n",
    "\n",
    "**There are approximately 251 trading days in a year in U.S. markets**. See this [source](https://en.wikipedia.org/wiki/Trading_day)"
   ]
  },
  {
   "cell_type": "code",
   "execution_count": 19,
   "metadata": {},
   "outputs": [],
   "source": [
    "def compute_annualized_risk(desired_annualized_return=10, has_risk_free=False):\n",
    "\n",
    "    if not has_risk_free:\n",
    "        R_matrix = R\n",
    "    else:\n",
    "        R_matrix = R_rf\n",
    "\n",
    "    T, n = R_matrix.shape\n",
    "    mu = np.mean(R_matrix, axis=0)\n",
    "    \n",
    "    # Convert annualized percentage return to daily return\n",
    "    trading_days = 251\n",
    "    rho = (1 + desired_annualized_return * 0.01)**(1/trading_days) - 1\n",
    "\n",
    "    RTR = 2 * R_matrix.T @ R_matrix\n",
    "    ones_col = np.ones((n, 1))\n",
    "    ones_row = np.ones((1, n))\n",
    "    mu_col = mu.reshape(-1, 1)\n",
    "    mu_row = mu.reshape(1, -1)\n",
    "\n",
    "    A = np.block([\n",
    "        [RTR,      ones_col, mu_col],\n",
    "        [ones_row, 0,        0     ],\n",
    "        [mu_row,   0,        0     ]\n",
    "    ])\n",
    "    b = np.concatenate([2 * rho * T * mu, [1], [rho]])\n",
    "    solution = np.linalg.inv(A) @ b\n",
    "\n",
    "    w = solution[:n] # The other values are the Lagrange multipliers\n",
    "    \n",
    "    # Annualize the daily volatility: multiply by sqrt(trading_days)\n",
    "    annualized_risk = np.sqrt(trading_days) * np.std(R_matrix @ w) * 100\n",
    "\n",
    "    return w, annualized_risk"
   ]
  },
  {
   "cell_type": "markdown",
   "metadata": {},
   "source": [
    "Computing portfolio annualized risk with**OUT** cash"
   ]
  },
  {
   "cell_type": "code",
   "execution_count": 20,
   "metadata": {},
   "outputs": [],
   "source": [
    "# Build an array of desired annualized percentage returns\n",
    "annualized_returns = np.arange(1, 101, 0.1)\n",
    "\n",
    "# Compute risks for each desired return, and unpack the results\n",
    "annualized_risks = np.empty_like(annualized_returns)\n",
    "for i, desired_return in enumerate(annualized_returns):\n",
    "    _, annualized_risk = compute_annualized_risk(desired_annualized_return=desired_return)\n",
    "    annualized_risks[i] = annualized_risk"
   ]
  },
  {
   "cell_type": "markdown",
   "metadata": {},
   "source": [
    "Computing portfolio annualized risk **WITH** cash"
   ]
  },
  {
   "cell_type": "code",
   "execution_count": 21,
   "metadata": {},
   "outputs": [],
   "source": [
    "annualized_risks_rf = np.empty_like(annualized_returns)\n",
    "for i, desired_return in enumerate(annualized_returns):\n",
    "    _, annualized_risk = compute_annualized_risk(desired_annualized_return=desired_return, has_risk_free=True)\n",
    "    annualized_risks_rf[i] = annualized_risk"
   ]
  },
  {
   "cell_type": "code",
   "execution_count": 22,
   "metadata": {},
   "outputs": [
    {
     "data": {
      "application/vnd.plotly.v1+json": {
       "config": {
        "plotlyServerURL": "https://plot.ly"
       },
       "data": [
        {
         "marker": {
          "size": 8
         },
         "mode": "markers",
         "type": "scatter",
         "x": {
          "bdata": "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",
          "dtype": "f8"
         },
         "y": {
          "bdata": "AAAAAAAA8D+amZmZmZnxPzQzMzMzM/M/zszMzMzM9D9oZmZmZmb2PwIAAAAAAPg/nJmZmZmZ+T82MzMzMzP7P9DMzMzMzPw/amZmZmZm/j8CAAAAAAAAQM/MzMzMzABAnJmZmZmZAUBpZmZmZmYCQDYzMzMzMwNAAwAAAAAABEDQzMzMzMwEQJ2ZmZmZmQVAamZmZmZmBkA3MzMzMzMHQAQAAAAAAAhA0czMzMzMCECemZmZmZkJQGtmZmZmZgpAODMzMzMzC0AFAAAAAAAMQNLMzMzMzAxAn5mZmZmZDUBsZmZmZmYOQDkzMzMzMw9AAwAAAAAAEEBqZmZmZmYQQNDMzMzMzBBANjMzMzMzEUCdmZmZmZkRQAQAAAAAABJAamZmZmZmEkDQzMzMzMwSQDczMzMzMxNAnpmZmZmZE0AEAAAAAAAUQGpmZmZmZhRA0czMzMzMFEA4MzMzMzMVQJ6ZmZmZmRVABAAAAAAAFkBrZmZmZmYWQNLMzMzMzBZAODMzMzMzF0CemZmZmZkXQAUAAAAAABhAbGZmZmZmGEDSzMzMzMwYQDgzMzMzMxlAn5mZmZmZGUAGAAAAAAAaQGxmZmZmZhpA0szMzMzMGkA5MzMzMzMbQKCZmZmZmRtABgAAAAAAHEBsZmZmZmYcQNPMzMzMzBxAOjMzMzMzHUCgmZmZmZkdQAYAAAAAAB5AbWZmZmZmHkDUzMzMzMweQDozMzMzMx9AoJmZmZmZH0AEAAAAAAAgQDczMzMzMyBAamZmZmZmIECdmZmZmZkgQNDMzMzMzCBABAAAAAAAIUA3MzMzMzMhQGpmZmZmZiFAnpmZmZmZIUDRzMzMzMwhQAQAAAAAACJANzMzMzMzIkBqZmZmZmYiQJ6ZmZmZmSJA0czMzMzMIkAEAAAAAAAjQDgzMzMzMyNAa2ZmZmZmI0CemZmZmZkjQNHMzMzMzCNABAAAAAAAJEA4MzMzMzMkQGtmZmZmZiRAnpmZmZmZJEDSzMzMzMwkQAUAAAAAACVAODMzMzMzJUBrZmZmZmYlQJ6ZmZmZmSVA0szMzMzMJUAFAAAAAAAmQDgzMzMzMyZAbGZmZmZmJkCfmZmZmZkmQNLMzMzMzCZABQAAAAAAJ0A4MzMzMzMnQGxmZmZmZidAn5mZmZmZJ0DSzMzMzMwnQAYAAAAAAChAOTMzMzMzKEBsZmZmZmYoQJ+ZmZmZmShA0szMzMzMKEAGAAAAAAApQDkzMzMzMylAbGZmZmZmKUCgmZmZmZkpQNPMzMzMzClABgAAAAAAKkA5MzMzMzMqQGxmZmZmZipAoJmZmZmZKkDTzMzMzMwqQAYAAAAAACtAOjMzMzMzK0BtZmZmZmYrQKCZmZmZmStA08zMzMzMK0AGAAAAAAAsQDozMzMzMyxAbWZmZmZmLECgmZmZmZksQNTMzMzMzCxABwAAAAAALUA6MzMzMzMtQG1mZmZmZi1AoJmZmZmZLUDUzMzMzMwtQAcAAAAAAC5AOjMzMzMzLkBuZmZmZmYuQKGZmZmZmS5A1MzMzMzMLkAHAAAAAAAvQDozMzMzMy9AbmZmZmZmL0ChmZmZmZkvQNTMzMzMzC9ABAAAAAAAMECdmZmZmRkwQDczMzMzMzBA0czMzMxMMEBqZmZmZmYwQAQAAAAAgDBAnpmZmZmZMEA3MzMzM7MwQNHMzMzMzDBAamZmZmbmMEAEAAAAAAAxQJ6ZmZmZGTFANzMzMzMzMUDRzMzMzEwxQGpmZmZmZjFABAAAAACAMUCemZmZmZkxQDczMzMzszFA0czMzMzMMUBrZmZmZuYxQAQAAAAAADJAnpmZmZkZMkA4MzMzMzMyQNHMzMzMTDJAa2ZmZmZmMkAEAAAAAIAyQJ6ZmZmZmTJAODMzMzOzMkDRzMzMzMwyQGtmZmZm5jJABAAAAAAAM0CemZmZmRkzQDgzMzMzMzNA0czMzMxMM0BrZmZmZmYzQAUAAAAAgDNAnpmZmZmZM0A4MzMzM7MzQNLMzMzMzDNAa2ZmZmbmM0AFAAAAAAA0QJ6ZmZmZGTRAODMzMzMzNEDSzMzMzEw0QGtmZmZmZjRABQAAAACANECemZmZmZk0QDgzMzMzszRA0szMzMzMNEBrZmZmZuY0QAUAAAAAADVAn5mZmZkZNUA4MzMzMzM1QNLMzMzMTDVAbGZmZmZmNUAFAAAAAIA1QJ+ZmZmZmTVAODMzMzOzNUDSzMzMzMw1QGxmZmZm5jVABQAAAAAANkCfmZmZmRk2QDgzMzMzMzZA0szMzMxMNkBsZmZmZmY2QAUAAAAAgDZAn5mZmZmZNkA5MzMzM7M2QNLMzMzMzDZAbGZmZmbmNkAGAAAAAAA3QJ+ZmZmZGTdAOTMzMzMzN0DSzMzMzEw3QGxmZmZmZjdABgAAAACAN0CfmZmZmZk3QDkzMzMzszdA0szMzMzMN0BsZmZmZuY3QAYAAAAAADhAn5mZmZkZOEA5MzMzMzM4QNPMzMzMTDhAbGZmZmZmOEAGAAAAAIA4QKCZmZmZmThAOTMzMzOzOEDTzMzMzMw4QGxmZmZm5jhABgAAAAAAOUCgmZmZmRk5QDkzMzMzMzlA08zMzMxMOUBsZmZmZmY5QAYAAAAAgDlAoJmZmZmZOUA5MzMzM7M5QNPMzMzMzDlAbWZmZmbmOUAGAAAAAAA6QKCZmZmZGTpAOjMzMzMzOkDTzMzMzEw6QG1mZmZmZjpABgAAAACAOkCgmZmZmZk6QDozMzMzszpA08zMzMzMOkBtZmZmZuY6QAYAAAAAADtAoJmZmZkZO0A6MzMzMzM7QNPMzMzMTDtAbWZmZmZmO0AHAAAAAIA7QKCZmZmZmTtAOjMzMzOzO0DUzMzMzMw7QG1mZmZm5jtABwAAAAAAPECgmZmZmRk8QDozMzMzMzxA1MzMzMxMPEBtZmZmZmY8QAcAAAAAgDxAoJmZmZmZPEA6MzMzM7M8QNTMzMzMzDxAbWZmZmbmPEAHAAAAAAA9QKGZmZmZGT1AOjMzMzMzPUDUzMzMzEw9QG5mZmZmZj1ABwAAAACAPUChmZmZmZk9QDozMzMzsz1A1MzMzMzMPUBuZmZmZuY9QAcAAAAAAD5AoZmZmZkZPkA6MzMzMzM+QNTMzMzMTD5AbmZmZmZmPkAHAAAAAIA+QKGZmZmZmT5AOzMzMzOzPkDUzMzMzMw+QG5mZmZm5j5ACAAAAAAAP0ChmZmZmRk/QDszMzMzMz9A1MzMzMxMP0BuZmZmZmY/QAgAAAAAgD9AoZmZmZmZP0A7MzMzM7M/QNTMzMzMzD9AbmZmZmbmP0AEAAAAAABAQNHMzMzMDEBAnpmZmZkZQEBqZmZmZiZAQDczMzMzM0BABAAAAABAQEDRzMzMzExAQJ6ZmZmZWUBAamZmZmZmQEA3MzMzM3NAQAQAAAAAgEBA0czMzMyMQECemZmZmZlAQGpmZmZmpkBANzMzMzOzQEAEAAAAAMBAQNHMzMzMzEBAnpmZmZnZQEBqZmZmZuZAQDczMzMz80BABAAAAAAAQUDRzMzMzAxBQJ6ZmZmZGUFAa2ZmZmYmQUA3MzMzMzNBQAQAAAAAQEFA0czMzMxMQUCemZmZmVlBQGtmZmZmZkFANzMzMzNzQUAEAAAAAIBBQNHMzMzMjEFAnpmZmZmZQUBrZmZmZqZBQDgzMzMzs0FABAAAAADAQUDRzMzMzMxBQJ6ZmZmZ2UFAa2ZmZmbmQUA4MzMzM/NBQAQAAAAAAEJA0czMzMwMQkCemZmZmRlCQGtmZmZmJkJAODMzMzMzQkAEAAAAAEBCQNHMzMzMTEJAnpmZmZlZQkBrZmZmZmZCQDgzMzMzc0JABAAAAACAQkDRzMzMzIxCQJ6ZmZmZmUJAa2ZmZmamQkA4MzMzM7NCQAUAAAAAwEJA0czMzMzMQkCemZmZmdlCQGtmZmZm5kJAODMzMzPzQkAFAAAAAABDQNHMzMzMDENAnpmZmZkZQ0BrZmZmZiZDQDgzMzMzM0NABQAAAABAQ0DSzMzMzExDQJ6ZmZmZWUNAa2ZmZmZmQ0A4MzMzM3NDQAUAAAAAgENA0szMzMyMQ0CemZmZmZlDQGtmZmZmpkNAODMzMzOzQ0AFAAAAAMBDQNLMzMzMzENAnpmZmZnZQ0BrZmZmZuZDQDgzMzMz80NABQAAAAAAREDSzMzMzAxEQJ6ZmZmZGURAa2ZmZmYmREA4MzMzMzNEQAUAAAAAQERA0szMzMxMRECfmZmZmVlEQGtmZmZmZkRAODMzMzNzREAFAAAAAIBEQNLMzMzMjERAn5mZmZmZREBrZmZmZqZEQDgzMzMzs0RABQAAAADAREDSzMzMzMxEQJ+ZmZmZ2URAbGZmZmbmREA4MzMzM/NEQAUAAAAAAEVA0szMzMwMRUCfmZmZmRlFQGxmZmZmJkVAODMzMzMzRUAFAAAAAEBFQNLMzMzMTEVAn5mZmZlZRUBsZmZmZmZFQDgzMzMzc0VABQAAAACARUDSzMzMzIxFQJ+ZmZmZmUVAbGZmZmamRUA4MzMzM7NFQAUAAAAAwEVA0szMzMzMRUCfmZmZmdlFQGxmZmZm5kVAOTMzMzPzRUAFAAAAAABGQNLMzMzMDEZAn5mZmZkZRkBsZmZmZiZGQDkzMzMzM0ZABQAAAABARkDSzMzMzExGQJ+ZmZmZWUZAbGZmZmZmRkA5MzMzM3NGQAYAAAAAgEZA0szMzMyMRkCfmZmZmZlGQGxmZmZmpkZAOTMzMzOzRkAGAAAAAMBGQNLMzMzMzEZAn5mZmZnZRkBsZmZmZuZGQDkzMzMz80ZABgAAAAAAR0DSzMzMzAxHQJ+ZmZmZGUdAbGZmZmYmR0A5MzMzMzNHQAYAAAAAQEdA0szMzMxMR0CfmZmZmVlHQGxmZmZmZkdAOTMzMzNzR0AGAAAAAIBHQNPMzMzMjEdAn5mZmZmZR0BsZmZmZqZHQDkzMzMzs0dABgAAAADAR0DTzMzMzMxHQJ+ZmZmZ2UdAbGZmZmbmR0A5MzMzM/NHQAYAAAAAAEhA08zMzMwMSECgmZmZmRlIQGxmZmZmJkhAOTMzMzMzSEAGAAAAAEBIQNPMzMzMTEhAoJmZmZlZSEBsZmZmZmZIQDkzMzMzc0hABgAAAACASEDTzMzMzIxIQKCZmZmZmUhAbGZmZmamSEA5MzMzM7NIQAYAAAAAwEhA08zMzMzMSECgmZmZmdlIQGxmZmZm5khAOTMzMzPzSEAGAAAAAABJQNPMzMzMDElAoJmZmZkZSUBtZmZmZiZJQDkzMzMzM0lABgAAAABASUDTzMzMzExJQKCZmZmZWUlAbWZmZmZmSUA5MzMzM3NJQAYAAAAAgElA08zMzMyMSUCgmZmZmZlJQG1mZmZmpklAOjMzMzOzSUAGAAAAAMBJQNPMzMzMzElAoJmZmZnZSUBtZmZmZuZJQDozMzMz80lABgAAAAAASkDTzMzMzAxKQKCZmZmZGUpAbWZmZmYmSkA6MzMzMzNKQAYAAAAAQEpA08zMzMxMSkCgmZmZmVlKQG1mZmZmZkpAOjMzMzNzSkAGAAAAAIBKQNPMzMzMjEpAoJmZmZmZSkBtZmZmZqZKQDozMzMzs0pABwAAAADASkDTzMzMzMxKQKCZmZmZ2UpAbWZmZmbmSkA6MzMzM/NKQAcAAAAAAEtA08zMzMwMS0CgmZmZmRlLQG1mZmZmJktAOjMzMzMzS0AHAAAAAEBLQNTMzMzMTEtAoJmZmZlZS0BtZmZmZmZLQDozMzMzc0tABwAAAACAS0DUzMzMzIxLQKCZmZmZmUtAbWZmZmamS0A6MzMzM7NLQAcAAAAAwEtA1MzMzMzMS0CgmZmZmdlLQG1mZmZm5ktAOjMzMzPzS0AHAAAAAABMQNTMzMzMDExAoJmZmZkZTEBtZmZmZiZMQDozMzMzM0xABwAAAABATEDUzMzMzExMQKGZmZmZWUxAbWZmZmZmTEA6MzMzM3NMQAcAAAAAgExA1MzMzMyMTEChmZmZmZlMQG1mZmZmpkxAOjMzMzOzTEAHAAAAAMBMQNTMzMzMzExAoZmZmZnZTEBuZmZmZuZMQDozMzMz80xABwAAAAAATUDUzMzMzAxNQKGZmZmZGU1AbmZmZmYmTUA6MzMzMzNNQAcAAAAAQE1A1MzMzMxMTUChmZmZmVlNQG5mZmZmZk1AOjMzMzNzTUAHAAAAAIBNQNTMzMzMjE1AoZmZmZmZTUBuZmZmZqZNQDozMzMzs01ABwAAAADATUDUzMzMzMxNQKGZmZmZ2U1AbmZmZmbmTUA7MzMzM/NNQAcAAAAAAE5A1MzMzMwMTkChmZmZmRlOQG5mZmZmJk5AOzMzMzMzTkAHAAAAAEBOQNTMzMzMTE5AoZmZmZlZTkBuZmZmZmZOQDszMzMzc05ACAAAAACATkDUzMzMzIxOQKGZmZmZmU5AbmZmZmamTkA7MzMzM7NOQAgAAAAAwE5A1MzMzMzMTkChmZmZmdlOQG5mZmZm5k5AOzMzMzPzTkAIAAAAAABPQNTMzMzMDE9AoZmZmZkZT0BuZmZmZiZPQDszMzMzM09ACAAAAABAT0DUzMzMzExPQKGZmZmZWU9AbmZmZmZmT0A7MzMzM3NPQAgAAAAAgE9A1czMzMyMT0ChmZmZmZlPQG5mZmZmpk9AOzMzMzOzT0AIAAAAAMBPQNXMzMzMzE9AoZmZmZnZT0BuZmZmZuZPQDszMzMz809ABAAAAAAAUEBqZmZmZgZQQNHMzMzMDFBANzMzMzMTUECemZmZmRlQQAQAAAAAIFBAamZmZmYmUEDRzMzMzCxQQDczMzMzM1BAnpmZmZk5UEAEAAAAAEBQQGpmZmZmRlBA0czMzMxMUEA3MzMzM1NQQJ6ZmZmZWVBABAAAAABgUEBqZmZmZmZQQNHMzMzMbFBANzMzMzNzUECemZmZmXlQQAQAAAAAgFBAamZmZmaGUEDRzMzMzIxQQDczMzMzk1BAnpmZmZmZUEAEAAAAAKBQQGpmZmZmplBA0czMzMysUEA3MzMzM7NQQJ6ZmZmZuVBABAAAAADAUEBrZmZmZsZQQNHMzMzMzFBANzMzMzPTUECemZmZmdlQQAQAAAAA4FBAa2ZmZmbmUEDRzMzMzOxQQDczMzMz81BAnpmZmZn5UEAEAAAAAABRQGtmZmZmBlFA0czMzMwMUUA3MzMzMxNRQJ6ZmZmZGVFABAAAAAAgUUBrZmZmZiZRQNHMzMzMLFFANzMzMzMzUUCemZmZmTlRQAQAAAAAQFFAa2ZmZmZGUUDRzMzMzExRQDczMzMzU1FAnpmZmZlZUUAEAAAAAGBRQGtmZmZmZlFA0czMzMxsUUA4MzMzM3NRQJ6ZmZmZeVFABAAAAACAUUBrZmZmZoZRQNHMzMzMjFFAODMzMzOTUUCemZmZmZlRQAQAAAAAoFFAa2ZmZmamUUDRzMzMzKxRQDgzMzMzs1FAnpmZmZm5UUAEAAAAAMBRQGtmZmZmxlFA0czMzMzMUUA4MzMzM9NRQJ6ZmZmZ2VFABAAAAADgUUBrZmZmZuZRQNHMzMzM7FFAODMzMzPzUUCemZmZmflRQAQAAAAAAFJAa2ZmZmYGUkDRzMzMzAxSQDgzMzMzE1JAnpmZmZkZUkAEAAAAACBSQGtmZmZmJlJA0czMzMwsUkA4MzMzMzNSQJ6ZmZmZOVJABAAAAABAUkBrZmZmZkZSQNHMzMzMTFJAODMzMzNTUkCemZmZmVlSQAUAAAAAYFJAa2ZmZmZmUkDRzMzMzGxSQDgzMzMzc1JAnpmZmZl5UkAFAAAAAIBSQGtmZmZmhlJA0czMzMyMUkA4MzMzM5NSQJ6ZmZmZmVJABQAAAACgUkBrZmZmZqZSQNHMzMzMrFJAODMzMzOzUkCemZmZmblSQAUAAAAAwFJAa2ZmZmbGUkDRzMzMzMxSQDgzMzMz01JAnpmZmZnZUkAFAAAAAOBSQGtmZmZm5lJA0czMzMzsUkA4MzMzM/NSQJ6ZmZmZ+VJABQAAAAAAU0BrZmZmZgZTQNLMzMzMDFNAODMzMzMTU0CemZmZmRlTQAUAAAAAIFNAa2ZmZmYmU0DSzMzMzCxTQDgzMzMzM1NAnpmZmZk5U0AFAAAAAEBTQGtmZmZmRlNA0szMzMxMU0A4MzMzM1NTQJ6ZmZmZWVNABQAAAABgU0BrZmZmZmZTQNLMzMzMbFNAODMzMzNzU0CemZmZmXlTQAUAAAAAgFNAa2ZmZmaGU0DSzMzMzIxTQDgzMzMzk1NAnpmZmZmZU0AFAAAAAKBTQGtmZmZmplNA0szMzMysU0A4MzMzM7NTQJ6ZmZmZuVNABQAAAADAU0BrZmZmZsZTQNLMzMzMzFNAODMzMzPTU0CemZmZmdlTQAUAAAAA4FNAa2ZmZmbmU0DSzMzMzOxTQDgzMzMz81NAn5mZmZn5U0AFAAAAAABUQGtmZmZmBlRA0szMzMwMVEA4MzMzMxNUQJ+ZmZmZGVRABQAAAAAgVEBrZmZmZiZUQNLMzMzMLFRAODMzMzMzVECfmZmZmTlUQAUAAAAAQFRAa2ZmZmZGVEDSzMzMzExUQDgzMzMzU1RAn5mZmZlZVEAFAAAAAGBUQGtmZmZmZlRA0szMzMxsVEA4MzMzM3NUQJ+ZmZmZeVRABQAAAACAVEBrZmZmZoZUQNLMzMzMjFRAODMzMzOTVECfmZmZmZlUQAUAAAAAoFRAbGZmZmamVEDSzMzMzKxUQDgzMzMzs1RAn5mZmZm5VEAFAAAAAMBUQGxmZmZmxlRA0szMzMzMVEA4MzMzM9NUQJ+ZmZmZ2VRABQAAAADgVEBsZmZmZuZUQNLMzMzM7FRAODMzMzPzVECfmZmZmflUQAUAAAAAAFVAbGZmZmYGVUDSzMzMzAxVQDgzMzMzE1VAn5mZmZkZVUAFAAAAACBVQGxmZmZmJlVA0szMzMwsVUA4MzMzMzNVQJ+ZmZmZOVVABQAAAABAVUBsZmZmZkZVQNLMzMzMTFVAODMzMzNTVUCfmZmZmVlVQAUAAAAAYFVAbGZmZmZmVUDSzMzMzGxVQDgzMzMzc1VAn5mZmZl5VUAFAAAAAIBVQGxmZmZmhlVA0szMzMyMVUA5MzMzM5NVQJ+ZmZmZmVVABQAAAACgVUBsZmZmZqZVQNLMzMzMrFVAOTMzMzOzVUCfmZmZmblVQAUAAAAAwFVAbGZmZmbGVUDSzMzMzMxVQDkzMzMz01VAn5mZmZnZVUAFAAAAAOBVQGxmZmZm5lVA0szMzMzsVUA5MzMzM/NVQJ+ZmZmZ+VVABQAAAAAAVkBsZmZmZgZWQNLMzMzMDFZAOTMzMzMTVkCfmZmZmRlWQAUAAAAAIFZAbGZmZmYmVkDSzMzMzCxWQDkzMzMzM1ZAn5mZmZk5VkAGAAAAAEBWQGxmZmZmRlZA0szMzMxMVkA5MzMzM1NWQJ+ZmZmZWVZABgAAAABgVkBsZmZmZmZWQNLMzMzMbFZAOTMzMzNzVkCfmZmZmXlWQAYAAAAAgFZAbGZmZmaGVkDSzMzMzIxWQDkzMzMzk1ZAn5mZmZmZVkAGAAAAAKBWQGxmZmZmplZA0szMzMysVkA5MzMzM7NWQJ+ZmZmZuVZABgAAAADAVkBsZmZmZsZWQNLMzMzMzFZAOTMzMzPTVkCfmZmZmdlWQAYAAAAA4FZAbGZmZmbmVkDSzMzMzOxWQDkzMzMz81ZAn5mZmZn5VkAGAAAAAABXQGxmZmZmBldA0szMzMwMV0A5MzMzMxNXQJ+ZmZmZGVdABgAAAAAgV0BsZmZmZiZXQNPMzMzMLFdAOTMzMzMzV0CfmZmZmTlXQAYAAAAAQFdAbGZmZmZGV0DTzMzMzExXQDkzMzMzU1dAn5mZmZlZV0AGAAAAAGBXQGxmZmZmZldA08zMzMxsV0A5MzMzM3NXQJ+ZmZmZeVdABgAAAACAV0BsZmZmZoZXQNPMzMzMjFdAOTMzMzOTV0CfmZmZmZlXQAYAAAAAoFdAbGZmZmamV0DTzMzMzKxXQDkzMzMzs1dAn5mZmZm5V0AGAAAAAMBXQGxmZmZmxldA08zMzMzMV0A5MzMzM9NXQKCZmZmZ2VdABgAAAADgV0BsZmZmZuZXQNPMzMzM7FdAOTMzMzPzV0CgmZmZmflXQAYAAAAAAFhAbGZmZmYGWEDTzMzMzAxYQDkzMzMzE1hAoJmZmZkZWEAGAAAAACBYQGxmZmZmJlhA08zMzMwsWEA5MzMzMzNYQKCZmZmZOVhABgAAAABAWEBsZmZmZkZYQNPMzMzMTFhAOTMzMzNTWECgmZmZmVlYQAYAAAAAYFhAbGZmZmZmWEDTzMzMzGxYQDkzMzMzc1hAoJmZmZl5WEAGAAAAAIBYQGxmZmZmhlhA08zMzMyMWEA5MzMzM5NYQKCZmZmZmVhABgAAAACgWEBsZmZmZqZYQNPMzMzMrFhAOTMzMzOzWECgmZmZmblYQAYAAAAAwFhAbWZmZmbGWEDTzMzMzMxYQDkzMzMz01hAoJmZmZnZWEAGAAAAAOBYQG1mZmZm5lhA08zMzMzsWEA5MzMzM/NYQKCZmZmZ+VhABgAAAAAAWUBtZmZmZgZZQNPMzMzMDFlAOTMzMzMTWUCgmZmZmRlZQAYAAAAAIFlAbWZmZmYmWUDTzMzMzCxZQDkzMzMzM1lAoJmZmZk5WUA=",
          "dtype": "f8"
         }
        }
       ],
       "layout": {
        "height": 500,
        "template": {
         "data": {
          "bar": [
           {
            "error_x": {
             "color": "#2a3f5f"
            },
            "error_y": {
             "color": "#2a3f5f"
            },
            "marker": {
             "line": {
              "color": "#E5ECF6",
              "width": 0.5
             },
             "pattern": {
              "fillmode": "overlay",
              "size": 10,
              "solidity": 0.2
             }
            },
            "type": "bar"
           }
          ],
          "barpolar": [
           {
            "marker": {
             "line": {
              "color": "#E5ECF6",
              "width": 0.5
             },
             "pattern": {
              "fillmode": "overlay",
              "size": 10,
              "solidity": 0.2
             }
            },
            "type": "barpolar"
           }
          ],
          "carpet": [
           {
            "aaxis": {
             "endlinecolor": "#2a3f5f",
             "gridcolor": "white",
             "linecolor": "white",
             "minorgridcolor": "white",
             "startlinecolor": "#2a3f5f"
            },
            "baxis": {
             "endlinecolor": "#2a3f5f",
             "gridcolor": "white",
             "linecolor": "white",
             "minorgridcolor": "white",
             "startlinecolor": "#2a3f5f"
            },
            "type": "carpet"
           }
          ],
          "choropleth": [
           {
            "colorbar": {
             "outlinewidth": 0,
             "ticks": ""
            },
            "type": "choropleth"
           }
          ],
          "contour": [
           {
            "colorbar": {
             "outlinewidth": 0,
             "ticks": ""
            },
            "colorscale": [
             [
              0,
              "#0d0887"
             ],
             [
              0.1111111111111111,
              "#46039f"
             ],
             [
              0.2222222222222222,
              "#7201a8"
             ],
             [
              0.3333333333333333,
              "#9c179e"
             ],
             [
              0.4444444444444444,
              "#bd3786"
             ],
             [
              0.5555555555555556,
              "#d8576b"
             ],
             [
              0.6666666666666666,
              "#ed7953"
             ],
             [
              0.7777777777777778,
              "#fb9f3a"
             ],
             [
              0.8888888888888888,
              "#fdca26"
             ],
             [
              1,
              "#f0f921"
             ]
            ],
            "type": "contour"
           }
          ],
          "contourcarpet": [
           {
            "colorbar": {
             "outlinewidth": 0,
             "ticks": ""
            },
            "type": "contourcarpet"
           }
          ],
          "heatmap": [
           {
            "colorbar": {
             "outlinewidth": 0,
             "ticks": ""
            },
            "colorscale": [
             [
              0,
              "#0d0887"
             ],
             [
              0.1111111111111111,
              "#46039f"
             ],
             [
              0.2222222222222222,
              "#7201a8"
             ],
             [
              0.3333333333333333,
              "#9c179e"
             ],
             [
              0.4444444444444444,
              "#bd3786"
             ],
             [
              0.5555555555555556,
              "#d8576b"
             ],
             [
              0.6666666666666666,
              "#ed7953"
             ],
             [
              0.7777777777777778,
              "#fb9f3a"
             ],
             [
              0.8888888888888888,
              "#fdca26"
             ],
             [
              1,
              "#f0f921"
             ]
            ],
            "type": "heatmap"
           }
          ],
          "histogram": [
           {
            "marker": {
             "pattern": {
              "fillmode": "overlay",
              "size": 10,
              "solidity": 0.2
             }
            },
            "type": "histogram"
           }
          ],
          "histogram2d": [
           {
            "colorbar": {
             "outlinewidth": 0,
             "ticks": ""
            },
            "colorscale": [
             [
              0,
              "#0d0887"
             ],
             [
              0.1111111111111111,
              "#46039f"
             ],
             [
              0.2222222222222222,
              "#7201a8"
             ],
             [
              0.3333333333333333,
              "#9c179e"
             ],
             [
              0.4444444444444444,
              "#bd3786"
             ],
             [
              0.5555555555555556,
              "#d8576b"
             ],
             [
              0.6666666666666666,
              "#ed7953"
             ],
             [
              0.7777777777777778,
              "#fb9f3a"
             ],
             [
              0.8888888888888888,
              "#fdca26"
             ],
             [
              1,
              "#f0f921"
             ]
            ],
            "type": "histogram2d"
           }
          ],
          "histogram2dcontour": [
           {
            "colorbar": {
             "outlinewidth": 0,
             "ticks": ""
            },
            "colorscale": [
             [
              0,
              "#0d0887"
             ],
             [
              0.1111111111111111,
              "#46039f"
             ],
             [
              0.2222222222222222,
              "#7201a8"
             ],
             [
              0.3333333333333333,
              "#9c179e"
             ],
             [
              0.4444444444444444,
              "#bd3786"
             ],
             [
              0.5555555555555556,
              "#d8576b"
             ],
             [
              0.6666666666666666,
              "#ed7953"
             ],
             [
              0.7777777777777778,
              "#fb9f3a"
             ],
             [
              0.8888888888888888,
              "#fdca26"
             ],
             [
              1,
              "#f0f921"
             ]
            ],
            "type": "histogram2dcontour"
           }
          ],
          "mesh3d": [
           {
            "colorbar": {
             "outlinewidth": 0,
             "ticks": ""
            },
            "type": "mesh3d"
           }
          ],
          "parcoords": [
           {
            "line": {
             "colorbar": {
              "outlinewidth": 0,
              "ticks": ""
             }
            },
            "type": "parcoords"
           }
          ],
          "pie": [
           {
            "automargin": true,
            "type": "pie"
           }
          ],
          "scatter": [
           {
            "fillpattern": {
             "fillmode": "overlay",
             "size": 10,
             "solidity": 0.2
            },
            "type": "scatter"
           }
          ],
          "scatter3d": [
           {
            "line": {
             "colorbar": {
              "outlinewidth": 0,
              "ticks": ""
             }
            },
            "marker": {
             "colorbar": {
              "outlinewidth": 0,
              "ticks": ""
             }
            },
            "type": "scatter3d"
           }
          ],
          "scattercarpet": [
           {
            "marker": {
             "colorbar": {
              "outlinewidth": 0,
              "ticks": ""
             }
            },
            "type": "scattercarpet"
           }
          ],
          "scattergeo": [
           {
            "marker": {
             "colorbar": {
              "outlinewidth": 0,
              "ticks": ""
             }
            },
            "type": "scattergeo"
           }
          ],
          "scattergl": [
           {
            "marker": {
             "colorbar": {
              "outlinewidth": 0,
              "ticks": ""
             }
            },
            "type": "scattergl"
           }
          ],
          "scattermap": [
           {
            "marker": {
             "colorbar": {
              "outlinewidth": 0,
              "ticks": ""
             }
            },
            "type": "scattermap"
           }
          ],
          "scattermapbox": [
           {
            "marker": {
             "colorbar": {
              "outlinewidth": 0,
              "ticks": ""
             }
            },
            "type": "scattermapbox"
           }
          ],
          "scatterpolar": [
           {
            "marker": {
             "colorbar": {
              "outlinewidth": 0,
              "ticks": ""
             }
            },
            "type": "scatterpolar"
           }
          ],
          "scatterpolargl": [
           {
            "marker": {
             "colorbar": {
              "outlinewidth": 0,
              "ticks": ""
             }
            },
            "type": "scatterpolargl"
           }
          ],
          "scatterternary": [
           {
            "marker": {
             "colorbar": {
              "outlinewidth": 0,
              "ticks": ""
             }
            },
            "type": "scatterternary"
           }
          ],
          "surface": [
           {
            "colorbar": {
             "outlinewidth": 0,
             "ticks": ""
            },
            "colorscale": [
             [
              0,
              "#0d0887"
             ],
             [
              0.1111111111111111,
              "#46039f"
             ],
             [
              0.2222222222222222,
              "#7201a8"
             ],
             [
              0.3333333333333333,
              "#9c179e"
             ],
             [
              0.4444444444444444,
              "#bd3786"
             ],
             [
              0.5555555555555556,
              "#d8576b"
             ],
             [
              0.6666666666666666,
              "#ed7953"
             ],
             [
              0.7777777777777778,
              "#fb9f3a"
             ],
             [
              0.8888888888888888,
              "#fdca26"
             ],
             [
              1,
              "#f0f921"
             ]
            ],
            "type": "surface"
           }
          ],
          "table": [
           {
            "cells": {
             "fill": {
              "color": "#EBF0F8"
             },
             "line": {
              "color": "white"
             }
            },
            "header": {
             "fill": {
              "color": "#C8D4E3"
             },
             "line": {
              "color": "white"
             }
            },
            "type": "table"
           }
          ]
         },
         "layout": {
          "annotationdefaults": {
           "arrowcolor": "#2a3f5f",
           "arrowhead": 0,
           "arrowwidth": 1
          },
          "autotypenumbers": "strict",
          "coloraxis": {
           "colorbar": {
            "outlinewidth": 0,
            "ticks": ""
           }
          },
          "colorscale": {
           "diverging": [
            [
             0,
             "#8e0152"
            ],
            [
             0.1,
             "#c51b7d"
            ],
            [
             0.2,
             "#de77ae"
            ],
            [
             0.3,
             "#f1b6da"
            ],
            [
             0.4,
             "#fde0ef"
            ],
            [
             0.5,
             "#f7f7f7"
            ],
            [
             0.6,
             "#e6f5d0"
            ],
            [
             0.7,
             "#b8e186"
            ],
            [
             0.8,
             "#7fbc41"
            ],
            [
             0.9,
             "#4d9221"
            ],
            [
             1,
             "#276419"
            ]
           ],
           "sequential": [
            [
             0,
             "#0d0887"
            ],
            [
             0.1111111111111111,
             "#46039f"
            ],
            [
             0.2222222222222222,
             "#7201a8"
            ],
            [
             0.3333333333333333,
             "#9c179e"
            ],
            [
             0.4444444444444444,
             "#bd3786"
            ],
            [
             0.5555555555555556,
             "#d8576b"
            ],
            [
             0.6666666666666666,
             "#ed7953"
            ],
            [
             0.7777777777777778,
             "#fb9f3a"
            ],
            [
             0.8888888888888888,
             "#fdca26"
            ],
            [
             1,
             "#f0f921"
            ]
           ],
           "sequentialminus": [
            [
             0,
             "#0d0887"
            ],
            [
             0.1111111111111111,
             "#46039f"
            ],
            [
             0.2222222222222222,
             "#7201a8"
            ],
            [
             0.3333333333333333,
             "#9c179e"
            ],
            [
             0.4444444444444444,
             "#bd3786"
            ],
            [
             0.5555555555555556,
             "#d8576b"
            ],
            [
             0.6666666666666666,
             "#ed7953"
            ],
            [
             0.7777777777777778,
             "#fb9f3a"
            ],
            [
             0.8888888888888888,
             "#fdca26"
            ],
            [
             1,
             "#f0f921"
            ]
           ]
          },
          "colorway": [
           "#636efa",
           "#EF553B",
           "#00cc96",
           "#ab63fa",
           "#FFA15A",
           "#19d3f3",
           "#FF6692",
           "#B6E880",
           "#FF97FF",
           "#FECB52"
          ],
          "font": {
           "color": "#2a3f5f"
          },
          "geo": {
           "bgcolor": "white",
           "lakecolor": "white",
           "landcolor": "#E5ECF6",
           "showlakes": true,
           "showland": true,
           "subunitcolor": "white"
          },
          "hoverlabel": {
           "align": "left"
          },
          "hovermode": "closest",
          "mapbox": {
           "style": "light"
          },
          "paper_bgcolor": "white",
          "plot_bgcolor": "#E5ECF6",
          "polar": {
           "angularaxis": {
            "gridcolor": "white",
            "linecolor": "white",
            "ticks": ""
           },
           "bgcolor": "#E5ECF6",
           "radialaxis": {
            "gridcolor": "white",
            "linecolor": "white",
            "ticks": ""
           }
          },
          "scene": {
           "xaxis": {
            "backgroundcolor": "#E5ECF6",
            "gridcolor": "white",
            "gridwidth": 2,
            "linecolor": "white",
            "showbackground": true,
            "ticks": "",
            "zerolinecolor": "white"
           },
           "yaxis": {
            "backgroundcolor": "#E5ECF6",
            "gridcolor": "white",
            "gridwidth": 2,
            "linecolor": "white",
            "showbackground": true,
            "ticks": "",
            "zerolinecolor": "white"
           },
           "zaxis": {
            "backgroundcolor": "#E5ECF6",
            "gridcolor": "white",
            "gridwidth": 2,
            "linecolor": "white",
            "showbackground": true,
            "ticks": "",
            "zerolinecolor": "white"
           }
          },
          "shapedefaults": {
           "line": {
            "color": "#2a3f5f"
           }
          },
          "ternary": {
           "aaxis": {
            "gridcolor": "white",
            "linecolor": "white",
            "ticks": ""
           },
           "baxis": {
            "gridcolor": "white",
            "linecolor": "white",
            "ticks": ""
           },
           "bgcolor": "#E5ECF6",
           "caxis": {
            "gridcolor": "white",
            "linecolor": "white",
            "ticks": ""
           }
          },
          "title": {
           "x": 0.05
          },
          "xaxis": {
           "automargin": true,
           "gridcolor": "white",
           "linecolor": "white",
           "ticks": "",
           "title": {
            "standoff": 15
           },
           "zerolinecolor": "white",
           "zerolinewidth": 2
          },
          "yaxis": {
           "automargin": true,
           "gridcolor": "white",
           "linecolor": "white",
           "ticks": "",
           "title": {
            "standoff": 15
           },
           "zerolinecolor": "white",
           "zerolinewidth": 2
          }
         }
        },
        "title": {
         "text": "Risk-Return Tradeoff"
        },
        "xaxis": {
         "title": {
          "text": "Annualized Risk (%)"
         }
        },
        "yaxis": {
         "title": {
          "text": "Annualized Return (%)"
         }
        }
       }
      }
     },
     "metadata": {},
     "output_type": "display_data"
    },
    {
     "data": {
      "application/vnd.plotly.v1+json": {
       "config": {
        "plotlyServerURL": "https://plot.ly"
       },
       "data": [
        {
         "marker": {
          "size": 8
         },
         "mode": "markers",
         "type": "scatter",
         "x": {
          "bdata": "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",
          "dtype": "f8"
         },
         "y": {
          "bdata": "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",
          "dtype": "f8"
         }
        }
       ],
       "layout": {
        "height": 500,
        "template": {
         "data": {
          "bar": [
           {
            "error_x": {
             "color": "#2a3f5f"
            },
            "error_y": {
             "color": "#2a3f5f"
            },
            "marker": {
             "line": {
              "color": "#E5ECF6",
              "width": 0.5
             },
             "pattern": {
              "fillmode": "overlay",
              "size": 10,
              "solidity": 0.2
             }
            },
            "type": "bar"
           }
          ],
          "barpolar": [
           {
            "marker": {
             "line": {
              "color": "#E5ECF6",
              "width": 0.5
             },
             "pattern": {
              "fillmode": "overlay",
              "size": 10,
              "solidity": 0.2
             }
            },
            "type": "barpolar"
           }
          ],
          "carpet": [
           {
            "aaxis": {
             "endlinecolor": "#2a3f5f",
             "gridcolor": "white",
             "linecolor": "white",
             "minorgridcolor": "white",
             "startlinecolor": "#2a3f5f"
            },
            "baxis": {
             "endlinecolor": "#2a3f5f",
             "gridcolor": "white",
             "linecolor": "white",
             "minorgridcolor": "white",
             "startlinecolor": "#2a3f5f"
            },
            "type": "carpet"
           }
          ],
          "choropleth": [
           {
            "colorbar": {
             "outlinewidth": 0,
             "ticks": ""
            },
            "type": "choropleth"
           }
          ],
          "contour": [
           {
            "colorbar": {
             "outlinewidth": 0,
             "ticks": ""
            },
            "colorscale": [
             [
              0,
              "#0d0887"
             ],
             [
              0.1111111111111111,
              "#46039f"
             ],
             [
              0.2222222222222222,
              "#7201a8"
             ],
             [
              0.3333333333333333,
              "#9c179e"
             ],
             [
              0.4444444444444444,
              "#bd3786"
             ],
             [
              0.5555555555555556,
              "#d8576b"
             ],
             [
              0.6666666666666666,
              "#ed7953"
             ],
             [
              0.7777777777777778,
              "#fb9f3a"
             ],
             [
              0.8888888888888888,
              "#fdca26"
             ],
             [
              1,
              "#f0f921"
             ]
            ],
            "type": "contour"
           }
          ],
          "contourcarpet": [
           {
            "colorbar": {
             "outlinewidth": 0,
             "ticks": ""
            },
            "type": "contourcarpet"
           }
          ],
          "heatmap": [
           {
            "colorbar": {
             "outlinewidth": 0,
             "ticks": ""
            },
            "colorscale": [
             [
              0,
              "#0d0887"
             ],
             [
              0.1111111111111111,
              "#46039f"
             ],
             [
              0.2222222222222222,
              "#7201a8"
             ],
             [
              0.3333333333333333,
              "#9c179e"
             ],
             [
              0.4444444444444444,
              "#bd3786"
             ],
             [
              0.5555555555555556,
              "#d8576b"
             ],
             [
              0.6666666666666666,
              "#ed7953"
             ],
             [
              0.7777777777777778,
              "#fb9f3a"
             ],
             [
              0.8888888888888888,
              "#fdca26"
             ],
             [
              1,
              "#f0f921"
             ]
            ],
            "type": "heatmap"
           }
          ],
          "histogram": [
           {
            "marker": {
             "pattern": {
              "fillmode": "overlay",
              "size": 10,
              "solidity": 0.2
             }
            },
            "type": "histogram"
           }
          ],
          "histogram2d": [
           {
            "colorbar": {
             "outlinewidth": 0,
             "ticks": ""
            },
            "colorscale": [
             [
              0,
              "#0d0887"
             ],
             [
              0.1111111111111111,
              "#46039f"
             ],
             [
              0.2222222222222222,
              "#7201a8"
             ],
             [
              0.3333333333333333,
              "#9c179e"
             ],
             [
              0.4444444444444444,
              "#bd3786"
             ],
             [
              0.5555555555555556,
              "#d8576b"
             ],
             [
              0.6666666666666666,
              "#ed7953"
             ],
             [
              0.7777777777777778,
              "#fb9f3a"
             ],
             [
              0.8888888888888888,
              "#fdca26"
             ],
             [
              1,
              "#f0f921"
             ]
            ],
            "type": "histogram2d"
           }
          ],
          "histogram2dcontour": [
           {
            "colorbar": {
             "outlinewidth": 0,
             "ticks": ""
            },
            "colorscale": [
             [
              0,
              "#0d0887"
             ],
             [
              0.1111111111111111,
              "#46039f"
             ],
             [
              0.2222222222222222,
              "#7201a8"
             ],
             [
              0.3333333333333333,
              "#9c179e"
             ],
             [
              0.4444444444444444,
              "#bd3786"
             ],
             [
              0.5555555555555556,
              "#d8576b"
             ],
             [
              0.6666666666666666,
              "#ed7953"
             ],
             [
              0.7777777777777778,
              "#fb9f3a"
             ],
             [
              0.8888888888888888,
              "#fdca26"
             ],
             [
              1,
              "#f0f921"
             ]
            ],
            "type": "histogram2dcontour"
           }
          ],
          "mesh3d": [
           {
            "colorbar": {
             "outlinewidth": 0,
             "ticks": ""
            },
            "type": "mesh3d"
           }
          ],
          "parcoords": [
           {
            "line": {
             "colorbar": {
              "outlinewidth": 0,
              "ticks": ""
             }
            },
            "type": "parcoords"
           }
          ],
          "pie": [
           {
            "automargin": true,
            "type": "pie"
           }
          ],
          "scatter": [
           {
            "fillpattern": {
             "fillmode": "overlay",
             "size": 10,
             "solidity": 0.2
            },
            "type": "scatter"
           }
          ],
          "scatter3d": [
           {
            "line": {
             "colorbar": {
              "outlinewidth": 0,
              "ticks": ""
             }
            },
            "marker": {
             "colorbar": {
              "outlinewidth": 0,
              "ticks": ""
             }
            },
            "type": "scatter3d"
           }
          ],
          "scattercarpet": [
           {
            "marker": {
             "colorbar": {
              "outlinewidth": 0,
              "ticks": ""
             }
            },
            "type": "scattercarpet"
           }
          ],
          "scattergeo": [
           {
            "marker": {
             "colorbar": {
              "outlinewidth": 0,
              "ticks": ""
             }
            },
            "type": "scattergeo"
           }
          ],
          "scattergl": [
           {
            "marker": {
             "colorbar": {
              "outlinewidth": 0,
              "ticks": ""
             }
            },
            "type": "scattergl"
           }
          ],
          "scattermap": [
           {
            "marker": {
             "colorbar": {
              "outlinewidth": 0,
              "ticks": ""
             }
            },
            "type": "scattermap"
           }
          ],
          "scattermapbox": [
           {
            "marker": {
             "colorbar": {
              "outlinewidth": 0,
              "ticks": ""
             }
            },
            "type": "scattermapbox"
           }
          ],
          "scatterpolar": [
           {
            "marker": {
             "colorbar": {
              "outlinewidth": 0,
              "ticks": ""
             }
            },
            "type": "scatterpolar"
           }
          ],
          "scatterpolargl": [
           {
            "marker": {
             "colorbar": {
              "outlinewidth": 0,
              "ticks": ""
             }
            },
            "type": "scatterpolargl"
           }
          ],
          "scatterternary": [
           {
            "marker": {
             "colorbar": {
              "outlinewidth": 0,
              "ticks": ""
             }
            },
            "type": "scatterternary"
           }
          ],
          "surface": [
           {
            "colorbar": {
             "outlinewidth": 0,
             "ticks": ""
            },
            "colorscale": [
             [
              0,
              "#0d0887"
             ],
             [
              0.1111111111111111,
              "#46039f"
             ],
             [
              0.2222222222222222,
              "#7201a8"
             ],
             [
              0.3333333333333333,
              "#9c179e"
             ],
             [
              0.4444444444444444,
              "#bd3786"
             ],
             [
              0.5555555555555556,
              "#d8576b"
             ],
             [
              0.6666666666666666,
              "#ed7953"
             ],
             [
              0.7777777777777778,
              "#fb9f3a"
             ],
             [
              0.8888888888888888,
              "#fdca26"
             ],
             [
              1,
              "#f0f921"
             ]
            ],
            "type": "surface"
           }
          ],
          "table": [
           {
            "cells": {
             "fill": {
              "color": "#EBF0F8"
             },
             "line": {
              "color": "white"
             }
            },
            "header": {
             "fill": {
              "color": "#C8D4E3"
             },
             "line": {
              "color": "white"
             }
            },
            "type": "table"
           }
          ]
         },
         "layout": {
          "annotationdefaults": {
           "arrowcolor": "#2a3f5f",
           "arrowhead": 0,
           "arrowwidth": 1
          },
          "autotypenumbers": "strict",
          "coloraxis": {
           "colorbar": {
            "outlinewidth": 0,
            "ticks": ""
           }
          },
          "colorscale": {
           "diverging": [
            [
             0,
             "#8e0152"
            ],
            [
             0.1,
             "#c51b7d"
            ],
            [
             0.2,
             "#de77ae"
            ],
            [
             0.3,
             "#f1b6da"
            ],
            [
             0.4,
             "#fde0ef"
            ],
            [
             0.5,
             "#f7f7f7"
            ],
            [
             0.6,
             "#e6f5d0"
            ],
            [
             0.7,
             "#b8e186"
            ],
            [
             0.8,
             "#7fbc41"
            ],
            [
             0.9,
             "#4d9221"
            ],
            [
             1,
             "#276419"
            ]
           ],
           "sequential": [
            [
             0,
             "#0d0887"
            ],
            [
             0.1111111111111111,
             "#46039f"
            ],
            [
             0.2222222222222222,
             "#7201a8"
            ],
            [
             0.3333333333333333,
             "#9c179e"
            ],
            [
             0.4444444444444444,
             "#bd3786"
            ],
            [
             0.5555555555555556,
             "#d8576b"
            ],
            [
             0.6666666666666666,
             "#ed7953"
            ],
            [
             0.7777777777777778,
             "#fb9f3a"
            ],
            [
             0.8888888888888888,
             "#fdca26"
            ],
            [
             1,
             "#f0f921"
            ]
           ],
           "sequentialminus": [
            [
             0,
             "#0d0887"
            ],
            [
             0.1111111111111111,
             "#46039f"
            ],
            [
             0.2222222222222222,
             "#7201a8"
            ],
            [
             0.3333333333333333,
             "#9c179e"
            ],
            [
             0.4444444444444444,
             "#bd3786"
            ],
            [
             0.5555555555555556,
             "#d8576b"
            ],
            [
             0.6666666666666666,
             "#ed7953"
            ],
            [
             0.7777777777777778,
             "#fb9f3a"
            ],
            [
             0.8888888888888888,
             "#fdca26"
            ],
            [
             1,
             "#f0f921"
            ]
           ]
          },
          "colorway": [
           "#636efa",
           "#EF553B",
           "#00cc96",
           "#ab63fa",
           "#FFA15A",
           "#19d3f3",
           "#FF6692",
           "#B6E880",
           "#FF97FF",
           "#FECB52"
          ],
          "font": {
           "color": "#2a3f5f"
          },
          "geo": {
           "bgcolor": "white",
           "lakecolor": "white",
           "landcolor": "#E5ECF6",
           "showlakes": true,
           "showland": true,
           "subunitcolor": "white"
          },
          "hoverlabel": {
           "align": "left"
          },
          "hovermode": "closest",
          "mapbox": {
           "style": "light"
          },
          "paper_bgcolor": "white",
          "plot_bgcolor": "#E5ECF6",
          "polar": {
           "angularaxis": {
            "gridcolor": "white",
            "linecolor": "white",
            "ticks": ""
           },
           "bgcolor": "#E5ECF6",
           "radialaxis": {
            "gridcolor": "white",
            "linecolor": "white",
            "ticks": ""
           }
          },
          "scene": {
           "xaxis": {
            "backgroundcolor": "#E5ECF6",
            "gridcolor": "white",
            "gridwidth": 2,
            "linecolor": "white",
            "showbackground": true,
            "ticks": "",
            "zerolinecolor": "white"
           },
           "yaxis": {
            "backgroundcolor": "#E5ECF6",
            "gridcolor": "white",
            "gridwidth": 2,
            "linecolor": "white",
            "showbackground": true,
            "ticks": "",
            "zerolinecolor": "white"
           },
           "zaxis": {
            "backgroundcolor": "#E5ECF6",
            "gridcolor": "white",
            "gridwidth": 2,
            "linecolor": "white",
            "showbackground": true,
            "ticks": "",
            "zerolinecolor": "white"
           }
          },
          "shapedefaults": {
           "line": {
            "color": "#2a3f5f"
           }
          },
          "ternary": {
           "aaxis": {
            "gridcolor": "white",
            "linecolor": "white",
            "ticks": ""
           },
           "baxis": {
            "gridcolor": "white",
            "linecolor": "white",
            "ticks": ""
           },
           "bgcolor": "#E5ECF6",
           "caxis": {
            "gridcolor": "white",
            "linecolor": "white",
            "ticks": ""
           }
          },
          "title": {
           "x": 0.05
          },
          "xaxis": {
           "automargin": true,
           "gridcolor": "white",
           "linecolor": "white",
           "ticks": "",
           "title": {
            "standoff": 15
           },
           "zerolinecolor": "white",
           "zerolinewidth": 2
          },
          "yaxis": {
           "automargin": true,
           "gridcolor": "white",
           "linecolor": "white",
           "ticks": "",
           "title": {
            "standoff": 15
           },
           "zerolinecolor": "white",
           "zerolinewidth": 2
          }
         }
        },
        "title": {
         "text": "Risk-Return Tradeoff"
        },
        "xaxis": {
         "title": {
          "text": "Annualized Risk (%)"
         }
        },
        "yaxis": {
         "title": {
          "text": "Annualized Return (%)"
         }
        }
       }
      }
     },
     "metadata": {},
     "output_type": "display_data"
    }
   ],
   "source": [
    "def plot_risk_return(risks, returns):\n",
    "    fig = go.Figure()\n",
    "    fig.add_trace(go.Scatter(\n",
    "        x=risks,\n",
    "        y=returns,\n",
    "        mode='markers',\n",
    "        marker=dict(size=8),\n",
    "    ))\n",
    "    fig.update_layout(\n",
    "        xaxis_title='Annualized Risk (%)',\n",
    "        yaxis_title='Annualized Return (%)',\n",
    "        title='Risk-Return Tradeoff'\n",
    "    )\n",
    "    fig.update_layout(\n",
    "        height=500,\n",
    "    ).show()\n",
    "\n",
    "plot_risk_return(annualized_risks, annualized_returns)\n",
    "plot_risk_return(annualized_risks_rf, annualized_returns)"
   ]
  },
  {
   "cell_type": "markdown",
   "metadata": {},
   "source": [
    "Plot for the written document:"
   ]
  },
  {
   "cell_type": "code",
   "execution_count": null,
   "metadata": {},
   "outputs": [],
   "source": [
    " "
   ]
  },
  {
   "cell_type": "markdown",
   "metadata": {},
   "source": [
    "Tangency point"
   ]
  },
  {
   "cell_type": "code",
   "execution_count": 23,
   "metadata": {},
   "outputs": [
    {
     "name": "stdout",
     "output_type": "stream",
     "text": [
      "Tangency risk: 41.56%  |  With cash: 41.56%\n",
      "Tangency return: 43.20%\n"
     ]
    }
   ],
   "source": [
    "# Tangency point (closest approach) between the two curves\n",
    "idx = np.argmin(np.abs(annualized_risks - annualized_risks_rf))\n",
    "print(f\"Tangency risk: {annualized_risks[idx]:.2f}%  |  With cash: {annualized_risks_rf[idx]:.2f}%\")\n",
    "print(f\"Tangency return: {annualized_returns[idx]:.2f}%\")"
   ]
  },
  {
   "cell_type": "markdown",
   "metadata": {},
   "source": [
    "Return and Risk with equal distribution among all assets, without cash:"
   ]
  },
  {
   "cell_type": "code",
   "execution_count": 24,
   "metadata": {},
   "outputs": [
    {
     "name": "stdout",
     "output_type": "stream",
     "text": [
      "Weights: [0.1667 0.1667 0.1667 0.1667 0.1667 0.1667]\n",
      "Return: 8.93%\n",
      "Risk: 17.73%\n"
     ]
    }
   ],
   "source": [
    "trading_days = 251\n",
    "R_matrix = R\n",
    "weights = np.ones(R_matrix.shape[1]) / R_matrix.shape[1]\n",
    "print(\"Weights:\", np.round(weights, 4))\n",
    "print(f\"Return: {trading_days * np.mean(R_matrix @ weights) * 100:.2f}%\")\n",
    "print(f\"Risk: {np.sqrt(trading_days) * np.std(R_matrix @ weights) * 100:.2f}%\")\n"
   ]
  },
  {
   "cell_type": "markdown",
   "metadata": {},
   "source": [
    "Return and Risk with equal distribution among all assets, including cash:"
   ]
  },
  {
   "cell_type": "code",
   "execution_count": 25,
   "metadata": {},
   "outputs": [
    {
     "name": "stdout",
     "output_type": "stream",
     "text": [
      "Weights: [0.1429 0.1429 0.1429 0.1429 0.1429 0.1429 0.1429]\n",
      "Return: 8.02%\n",
      "Risk: 15.20%\n"
     ]
    }
   ],
   "source": [
    "trading_days = 251\n",
    "R_matrix = R_rf\n",
    "weights = np.ones(R_matrix.shape[1]) / R_matrix.shape[1]\n",
    "print(\"Weights:\", np.round(weights, 4))\n",
    "print(f\"Return: {trading_days * np.mean(R_matrix @ weights) * 100:.2f}%\")\n",
    "print(f\"Risk: {np.sqrt(trading_days) * np.std(R_matrix @ weights) * 100:.2f}%\")\n"
   ]
  },
  {
   "cell_type": "markdown",
   "metadata": {},
   "source": [
    "Plotting the points with equal allocation"
   ]
  },
  {
   "cell_type": "code",
   "execution_count": 26,
   "metadata": {},
   "outputs": [
    {
     "data": {
      "image/png": "[encoded data removed]",
      "text/plain": [
       "<Figure size 1000x600 with 1 Axes>"
      ]
     },
     "metadata": {},
     "output_type": "display_data"
    }
   ],
   "source": [
    "no_cash_point = [17.73, 8.93]\n",
    "cash_point = [15.20, 8.02]\n",
    "\n",
    "plt.figure(figsize=(10, 6))\n",
    "plt.scatter(annualized_risks, annualized_returns, s=10, label=\"NO cash\")\n",
    "plt.scatter(annualized_risks_rf, annualized_returns, s=10, label=\"Risk-free asset\")\n",
    "plt.scatter(no_cash_point[0], no_cash_point[1], color='blue', s=60, marker='o', label=\"No cash equal weights\")\n",
    "plt.scatter(cash_point[0], cash_point[1], color='red', s=60, marker='o', label=\"Risk-free equal weights\")\n",
    "plt.xlabel(r'Annualized Risk $(\\%)$', fontsize=14)\n",
    "plt.ylabel(r'Annualized Return $(\\%)$', fontsize=14)\n",
    "plt.minorticks_on()\n",
    "plt.grid(which='minor', linestyle='-', linewidth=0.1)\n",
    "plt.grid(which='major', linestyle='-', linewidth=0.1)\n",
    "plt.xlim(0, 100)\n",
    "plt.ylim(0, 100)\n",
    "plt.legend(fontsize=12)\n",
    "plt.tight_layout()\n",
    "plt.show()"
   ]
  },
  {
   "cell_type": "markdown",
   "metadata": {},
   "source": [
    "Choosing one sample return with cash"
   ]
  },
  {
   "cell_type": "code",
   "execution_count": 27,
   "metadata": {},
   "outputs": [
    {
     "name": "stdout",
     "output_type": "stream",
     "text": [
      "Weights: [-2.8846  2.2291  1.7324 -1.2414  0.5536  0.0808  0.5301]\n",
      "Risk: 19.52%\n",
      "Leverage: 9.25\n"
     ]
    }
   ],
   "source": [
    "weights, risk = compute_annualized_risk(desired_annualized_return=20, has_risk_free=True)\n",
    "print(\"Weights:\", np.round(weights, 4))\n",
    "print(f\"Risk: {risk:.2f}%\")\n",
    "leverage = np.sum(np.abs(weights))\n",
    "print(f\"Leverage: {leverage:.2f}\")"
   ]
  },
  {
   "cell_type": "markdown",
   "metadata": {},
   "source": [
    "## Optimization\n",
    "Solving the optimization problem with CVXPY and comparing it to the LS solution for a single desired annualized return"
   ]
  },
  {
   "cell_type": "code",
   "execution_count": 28,
   "metadata": {},
   "outputs": [],
   "source": [
    "desired_annualized_return = 20"
   ]
  },
  {
   "cell_type": "code",
   "execution_count": 29,
   "metadata": {},
   "outputs": [
    {
     "name": "stdout",
     "output_type": "stream",
     "text": [
      "Optimal weights w: [-2.88462098  2.22911244  1.73235646 -1.24136771  0.55361018  0.08075972\n",
      "  0.53014988]\n",
      "Achieved average return: 18.238779026029103\n",
      "Portfolio risk (std dev of returns): 19.523576599353692\n"
     ]
    }
   ],
   "source": [
    "R_matrix = R_rf\n",
    "T, n = R_matrix.shape\n",
    "\n",
    "# Compute average return per asset\n",
    "mu = np.mean(R_matrix, axis=0)  # Shape: (n,)\n",
    "\n",
    "# Convert annualized percentage return to daily return\n",
    "trading_days = 251\n",
    "rho = (1 + desired_annualized_return * 0.01)**(1/trading_days) - 1\n",
    "\n",
    "# Define optimization variable\n",
    "w = cp.Variable(n)\n",
    "\n",
    "# Define constraints\n",
    "constraints = [\n",
    "    cp.sum(w) == 1,       # weights sum to 1\n",
    "    mu @ w == rho         # target average return\n",
    "]\n",
    "\n",
    "# Define the objective (least squares formulation)\n",
    "objective = cp.Minimize(cp.norm(R_matrix @ w - rho, 2))\n",
    "\n",
    "# Solve the problem\n",
    "problem = cp.Problem(objective, constraints)\n",
    "problem.solve()\n",
    "\n",
    "# Output results\n",
    "print(\"Optimal weights w:\", w.value)\n",
    "print(\"Achieved average return:\", trading_days * mu.T @ w.value * 100)\n",
    "print(\"Portfolio risk (std dev of returns):\", np.sqrt(trading_days) * np.std(R_matrix @ w.value) * 100)\n"
   ]
  },
  {
   "cell_type": "code",
   "execution_count": 30,
   "metadata": {},
   "outputs": [
    {
     "name": "stdout",
     "output_type": "stream",
     "text": [
      "Weights: [-2.00085791  1.6810483   2.10057449 -0.94735404  0.30035909 -0.13376993]\n",
      "Risk: 21.43%\n"
     ]
    }
   ],
   "source": [
    "weights, risk = compute_annualized_risk(desired_annualized_return=desired_annualized_return)\n",
    "print(f\"Weights: {weights}\")\n",
    "print(f\"Risk: {risk:.2f}%\")"
   ]
  },
  {
   "cell_type": "markdown",
   "metadata": {},
   "source": [
    "As expected, the same values are obtained with the Linear Algebra LS solution and CVXPY."
   ]
  }
 ],
 "metadata": {
  "kernelspec": {
   "display_name": "algebra",
   "language": "python",
   "name": "python3"
  },
  "language_info": {
   "codemirror_mode": {
    "name": "ipython",
    "version": 3
   },
   "file_extension": ".py",
   "mimetype": "text/x-python",
   "name": "python",
   "nbconvert_exporter": "python",
   "pygments_lexer": "ipython3",
   "version": "3.12.9"
  }
 },
 "nbformat": 4,
 "nbformat_minor": 2
}
